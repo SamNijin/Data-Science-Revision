{
 "cells": [
  {
   "cell_type": "markdown",
   "id": "319aea5a",
   "metadata": {},
   "source": [
    "## Python Introduction\n",
    "Python is a widely used general-purpose, high level programming language. It was created by Guido van Rossum in 1991 and further developed by the Python Software Foundation. It was designed with an emphasis on code readability, and its syntax allows programmers to express their concepts in fewer lines of code.\n",
    "\n",
    "Python is a programming language that lets you work quickly and integrate systems more efficiently."
   ]
  },
  {
   "cell_type": "markdown",
   "id": "3bd2fb22",
   "metadata": {},
   "source": [
    "## Creating a Comment"
   ]
  },
  {
   "cell_type": "code",
   "execution_count": 1,
   "id": "71e1fce4",
   "metadata": {},
   "outputs": [
    {
     "name": "stdout",
     "output_type": "stream",
     "text": [
      "Python revision Notebook\n"
     ]
    }
   ],
   "source": [
    "#This is a comment\n",
    "'''\n",
    "This is a multiline comment in Python.\n",
    "You can write multiple lines of text here.\n",
    "These lines will be ignored by the interpreter.\n",
    "'''\n",
    "print(\"Python revision Notebook\")"
   ]
  },
  {
   "cell_type": "markdown",
   "id": "b6aa7945",
   "metadata": {},
   "source": [
    "## Creating Variables"
   ]
  },
  {
   "cell_type": "code",
   "execution_count": 45,
   "id": "100d9ba7",
   "metadata": {},
   "outputs": [
    {
     "name": "stdout",
     "output_type": "stream",
     "text": [
      "Variable : 10 is type : <class 'int'>\n",
      "Variable : 10.0 is type : <class 'float'>\n",
      "Variable : String is type : <class 'str'>\n",
      "Variable : [1, 2, 3, 4, 4] is type : <class 'list'>\n",
      "Variable : (5, 6, 7, 8, 8) is type : <class 'tuple'>\n",
      "Variable : {9, 10, 11, 12} is type : <class 'set'>\n",
      "Variable : {'Name': 'Rachit', 'Age': 25} is type : <class 'dict'>\n",
      "Variable : True is type : <class 'bool'>\n",
      "Variable : (10+5j) is type : <class 'complex'>\n",
      "Variable : range(0, 10) is type : <class 'range'>\n"
     ]
    }
   ],
   "source": [
    "i = 10 #int\n",
    "f = 10.0 # float\n",
    "st = \"String\" # str\n",
    "l = [1,2,3,4,4] # list\n",
    "t = (5,6,7,8,8) # tuple\n",
    "s = {9,10,11,12,12} # set\n",
    "d = {'Name':\"Rachit\",\"Age\":25} # dict\n",
    "b = True # bool\n",
    "c = 10 + 5j # complex\n",
    "r = range(10) # range\n",
    "print(f\"Variable : {i} is type : {type(i)}\")\n",
    "print(f\"Variable : {f} is type : {type(f)}\")\n",
    "print(f\"Variable : {st} is type : {type(st)}\")\n",
    "print(f\"Variable : {l} is type : {type(l)}\")\n",
    "print(f\"Variable : {t} is type : {type(t)}\")\n",
    "print(f\"Variable : {s} is type : {type(s)}\")\n",
    "print(f\"Variable : {d} is type : {type(d)}\")\n",
    "print(f\"Variable : {b} is type : {type(b)}\")\n",
    "print(f\"Variable : {c} is type : {type(c)}\")\n",
    "print(f\"Variable : {r} is type : {type(r)}\")"
   ]
  },
  {
   "cell_type": "markdown",
   "id": "902e4209",
   "metadata": {},
   "source": [
    "## Variable Type Casting"
   ]
  },
  {
   "cell_type": "code",
   "execution_count": 47,
   "id": "91e9bf89",
   "metadata": {},
   "outputs": [
    {
     "name": "stdout",
     "output_type": "stream",
     "text": [
      "Integer to Float\n",
      "10 before type casting <class 'int'>\n",
      "10.0 after type casting  <class 'float'>\n",
      "\n",
      "Float to Integer\n",
      "10.5 before type casting  <class 'float'>\n",
      "10 after type casting  <class 'int'>\n",
      "\n",
      "String to Integer or Float\n",
      "10.5 before type casting  <class 'float'>\n",
      "123 after type casting  <class 'int'>\n",
      "123.0 after type casting  <class 'float'>\n",
      "\n",
      "Integer or Float to String\n",
      "123 before type casting  <class 'int'>\n",
      "123.45 before type casting  <class 'float'>\n",
      "123 after type casting  <class 'str'>\n",
      "123 after type casting  <class 'str'>\n",
      "\n",
      "String to List\n",
      "apple,banana,orange before type casting  <class 'str'>\n",
      "['apple', 'banana', 'orange'] after type casting  <class 'list'>\n",
      "\n",
      "List to String\n",
      "['apple', 'banana', 'orange'] before type casting  <class 'list'>\n",
      "apple,banana,orange after type casting  <class 'str'>\n",
      "\n",
      "String to Boolean\n",
      "True before type casting  <class 'str'>\n",
      "True after type casting  <class 'bool'>\n",
      "\n",
      "Boolean to String\n",
      "True before type casting  <class 'str'>\n",
      "True after type casting  <class 'bool'>\n",
      "1 after type casting  <class 'int'>\n",
      "1.0 after type casting  <class 'float'>\n"
     ]
    }
   ],
   "source": [
    "print(\"Integer to Float\")\n",
    "num = 10\n",
    "num_float = float(num)\n",
    "print(f\"{num} before type casting {type(num)}\")\n",
    "print(f\"{num_float} after type casting  {type(num_float)}\")\n",
    "print(\"\")\n",
    "\n",
    "print(\"Float to Integer\")\n",
    "num = 10.5\n",
    "num_int = int(num)\n",
    "print(f\"{num} before type casting  {type(num)}\")\n",
    "print(f\"{num_int} after type casting  {type(num_int)}\")\n",
    "print(\"\")\n",
    "\n",
    "print(\"String to Integer or Float\")\n",
    "string = \"123\"\n",
    "num_int = int(string)\n",
    "num_float = float(string)\n",
    "print(f\"{num} before type casting  {type(num)}\")\n",
    "print(f\"{num_int} after type casting  {type(num_int)}\")\n",
    "print(f\"{num_float} after type casting  {type(num_float)}\")\n",
    "print(\"\")\n",
    "\n",
    "print(\"Integer or Float to String\")\n",
    "num_int = 123\n",
    "num_float = 123.45\n",
    "num_str_int = str(num_int)\n",
    "num_str_float = str(num_float)\n",
    "print(f\"{num_int} before type casting  {type(num_int)}\")\n",
    "print(f\"{num_float} before type casting  {type(num_float)}\")\n",
    "print(f\"{num_str_int} after type casting  {type(num_str_int)}\")\n",
    "print(f\"{num_str_int} after type casting  {type(num_str_int)}\")\n",
    "print(\"\")\n",
    "\n",
    "print(\"String to List\")\n",
    "fruits_str = \"apple,banana,orange\"\n",
    "fruits_list = fruits_str.split(\",\")\n",
    "print(f\"{fruits_str} before type casting  {type(fruits_str)}\")\n",
    "print(f\"{fruits_list} after type casting  {type(fruits_list)}\")\n",
    "print(\"\")\n",
    "\n",
    "print(\"List to String\")\n",
    "fruits_list = ['apple', 'banana', 'orange']\n",
    "fruits_str = \",\".join(fruits_list)\n",
    "print(f\"{fruits_list} before type casting  {type(fruits_list)}\")\n",
    "print(f\"{fruits_str} after type casting  {type(fruits_str)}\")\n",
    "print(\"\")\n",
    "\n",
    "print(\"String to Boolean\")\n",
    "bool_str = \"True\"\n",
    "bool_val = bool(bool_str)\n",
    "print(f\"{bool_str} before type casting  {type(bool_str)}\")\n",
    "print(f\"{bool_val} after type casting  {type(bool_val)}\")\n",
    "print(\"\")\n",
    "\n",
    "print(\"Boolean to String\")\n",
    "bool_val = True\n",
    "bool_str = str(bool_val)\n",
    "bool_int = int(bool_val)\n",
    "bool_float = float(bool_val)\n",
    "print(f\"{bool_str} before type casting  {type(bool_str)}\")\n",
    "print(f\"{bool_val} after type casting  {type(bool_val)}\")\n",
    "print(f\"{bool_int} after type casting  {type(bool_int)}\")\n",
    "print(f\"{bool_float} after type casting  {type(bool_float)}\")\n"
   ]
  },
  {
   "cell_type": "markdown",
   "id": "015da8c9",
   "metadata": {},
   "source": [
    "## Assign Multiple Values"
   ]
  },
  {
   "cell_type": "code",
   "execution_count": 4,
   "id": "55c99d95",
   "metadata": {},
   "outputs": [
    {
     "name": "stdout",
     "output_type": "stream",
     "text": [
      "10\n",
      "20\n",
      "30\n",
      "\n",
      "Tuple packed values : (10, 20, 30)\n",
      "\n",
      "10\n",
      "20\n",
      "30\n",
      "\n",
      "List packing works the same ways tuple unpacking works\n",
      "10\n",
      "20\n",
      "30\n"
     ]
    }
   ],
   "source": [
    "# Assigning and unpacking multiple values\n",
    "x, y, z = 10, 20, 30 \n",
    "print(x)\n",
    "print(y)\n",
    "print(z)\n",
    "print(\"\")\n",
    "# Tuple packing\n",
    "values = x, y, z\n",
    "print(\"Tuple packed values :\",values)\n",
    "print(\"\")\n",
    "\n",
    "# Unpacking values again into separate variables\n",
    "a, b, c = values\n",
    "\n",
    "print(a)\n",
    "print(b)\n",
    "print(c)\n",
    "print(\"\")\n",
    "print(\"List packing works the same ways tuple unpacking works\")\n",
    "x, y, z = [10, 20, 30]\n",
    "print(x)\n",
    "print(y)\n",
    "print(z)"
   ]
  },
  {
   "cell_type": "markdown",
   "id": "aa356277",
   "metadata": {},
   "source": [
    "## Global Variables"
   ]
  },
  {
   "cell_type": "code",
   "execution_count": 5,
   "id": "bb19f868",
   "metadata": {},
   "outputs": [
    {
     "name": "stdout",
     "output_type": "stream",
     "text": [
      "Global variable value: 10\n",
      "Modified global variable value: 20\n",
      "Global variable value: 20\n",
      "name 'local_var' is not defined\n"
     ]
    }
   ],
   "source": [
    "# Declare a variable\n",
    "var = 10\n",
    "# function definition \n",
    "def modify_global_variable():\n",
    "    # Access the global variable\n",
    "    print(\"Global variable value:\", var)\n",
    "          \n",
    "    # creating local variable for checking\n",
    "    local_var = 30\n",
    "\n",
    "    # Modify the global variable\n",
    "    global global_var\n",
    "    global_var = 20\n",
    "\n",
    "    # Access the modified global variable\n",
    "    print(\"Modified global variable value:\", global_var)\n",
    "\n",
    "# function definition to check global variable working \n",
    "def use_global_variable():\n",
    "    # Access the global variable\n",
    "    print(\"Global variable value:\", global_var)\n",
    "    \n",
    "    # checking if we have access of local variable in above function\n",
    "    try:\n",
    "        print(\"Global variable value:\",local_var)\n",
    "    except NameError as e:\n",
    "        print(e)\n",
    "\n",
    "# Call the functions\n",
    "modify_global_variable()\n",
    "use_global_variable()\n"
   ]
  },
  {
   "cell_type": "markdown",
   "id": "89807bbc",
   "metadata": {},
   "source": [
    "## Data Type And Their Methods"
   ]
  },
  {
   "cell_type": "code",
   "execution_count": 6,
   "id": "07d8c89a",
   "metadata": {},
   "outputs": [
    {
     "name": "stdout",
     "output_type": "stream",
     "text": [
      "Variable : Hello World\n",
      "\n",
      " hello world : \n",
      "Converted the string to lowercase.\n",
      "\n",
      " HELLO WORLD : \n",
      "Converted the string to uppercase.\n",
      "\n",
      "Hello World : \n",
      "Removed leading and trailing whitespace from the string.\n",
      "\n",
      "['Hello', 'World'] : \n",
      "Splited the string into a list of substrings based on a default delimiter '' .\n",
      "\n",
      "  H e l l o   W o r l d : \n",
      "Concatenated elements of an iterable using the string as a separator.\n",
      "\n",
      "HelloWorld : \n",
      "Replaced occurrences of a substring ' ' with another substring ''.\n",
      "\n",
      "7 : \n",
      "Returned the index of the first occurrence of a substring 'World' \n",
      "\n",
      "False : \n",
      "Checking if the string starts with a specific substring 'World' .\n",
      "\n",
      "True : \n",
      "Checking if the string ends with a specific substring 'World' .\n",
      "\n",
      "hence Strings are not mutable in Python which means that its value cannot be updated.\n",
      "Variable : Hello World\n"
     ]
    }
   ],
   "source": [
    "# String and Methods\n",
    "s = \" Hello World\"\n",
    "print(\"Variable :\",end = \"\")\n",
    "print(s)\n",
    "print(\"\")\n",
    "\n",
    "print(s.lower(),\": \\nConverted the string to lowercase.\")\n",
    "print(\"\")\n",
    "print(s.upper(),\": \\nConverted the string to uppercase.\")\n",
    "print(\"\")\n",
    "print(s.strip(),\": \\nRemoved leading and trailing whitespace from the string.\")\n",
    "print(\"\")\n",
    "print(s.split(),\": \\nSplited the string into a list of substrings based on a default delimiter '' .\")\n",
    "print(\"\")\n",
    "print(\" \".join(s),\": \\nConcatenated elements of an iterable using the string as a separator.\")\n",
    "print(\"\")\n",
    "print(s.replace(\" \",\"\"),\": \\nReplaced occurrences of a substring ' ' with another substring ''.\")\n",
    "print(\"\")\n",
    "print(s.find(\"World\"),\": \\nReturned the index of the first occurrence of a substring 'World' \")\n",
    "print(\"\")\n",
    "print(s.startswith(\"World\"),\": \\nChecking if the string starts with a specific substring 'World' .\")\n",
    "print(\"\")\n",
    "print(s.endswith(\"World\"),\": \\nChecking if the string ends with a specific substring 'World' .\")\n",
    "\n",
    "print(\"\")\n",
    "print(\"hence Strings are not mutable in Python which means that its value cannot be updated.\")\n",
    "print(f\"Variable :{s}\")\n"
   ]
  },
  {
   "cell_type": "code",
   "execution_count": 7,
   "id": "59982da2",
   "metadata": {},
   "outputs": [
    {
     "name": "stdout",
     "output_type": "stream",
     "text": [
      "Variable :10\n",
      "\n",
      "4 \n",
      "Returns the number of bits required to represent the integer\n",
      "b'\\x00\\n' \n",
      "Converts the integer to a byte representation byteorder('big-endian').\n",
      "10 \n",
      "Converts a byte representation back to an integer.\n",
      "0xa \n",
      "Returns the hexadecimal representation of the integer.\n",
      "10 \n",
      "Returns the absolute value of the integer.\n"
     ]
    }
   ],
   "source": [
    "# Integer (int) and Methods\n",
    "i = 10\n",
    "print(\"Variable :\",end = \"\")\n",
    "print(i)\n",
    "print(\"\")\n",
    "\n",
    "print(i.bit_length(), \"\\nReturns the number of bits required to represent the integer\")\n",
    "print(i.to_bytes(2,byteorder='big'),\"\\nConverts the integer to a byte representation byteorder('big-endian').\")\n",
    "print(i.from_bytes(i.to_bytes(2,byteorder='big'), byteorder='big'), \"\\nConverts a byte representation back to an integer.\")\n",
    "print(hex(i), \"\\nReturns the hexadecimal representation of the integer.\")\n",
    "print(abs(-i), \"\\nReturns the absolute value of the integer.\")"
   ]
  },
  {
   "cell_type": "code",
   "execution_count": 8,
   "id": "eaada9e0",
   "metadata": {},
   "outputs": [
    {
     "name": "stdout",
     "output_type": "stream",
     "text": [
      "Variable :10.543\n",
      "\n",
      "False \n",
      "Checks if the float value is an integer.\n",
      "\n",
      "(1483795339730223, 140737488355328)  Returns the float value as a numerator and denominator.\n",
      "\n",
      "10.54 Rounds the float value to a specified number of decimal places.\n"
     ]
    }
   ],
   "source": [
    "# Float (float) and Methods\n",
    "f = 10.543\n",
    "print(\"Variable :\",end = \"\")\n",
    "print(f)\n",
    "print(\"\")\n",
    "\n",
    "print(f.is_integer(), \"\\nChecks if the float value is an integer.\")\n",
    "print(\"\")\n",
    "print(f.as_integer_ratio(), \" Returns the float value as a numerator and denominator.\")\n",
    "print(\"\")\n",
    "print(round(f,2), \"Rounds the float value to a specified number of decimal places.\")"
   ]
  },
  {
   "cell_type": "code",
   "execution_count": 9,
   "id": "73a8f228",
   "metadata": {},
   "outputs": [
    {
     "name": "stdout",
     "output_type": "stream",
     "text": [
      "Variable :[0, 1, 2, 3, 4, 5]\n",
      "\n",
      "[0, 1, 2, 3, 4, 5, 6] \n",
      "Adds an element to the end of the list.\n",
      "\n",
      "[0, 1, 2, 3, 4, 5, 6, 7, 8, 9, 10] \n",
      "Appends all elements from another list to the current list.\n",
      "\n",
      "[0, 1, 2, 3, 4, 5, 6, 7, 8, 9, 10, 10] \n",
      "Inserts an element at a specified position in the list.\n",
      "\n",
      "[1, 2, 3, 4, 5, 6, 7, 8, 9, 10, 10] \n",
      "Removes the first occurrence of a specified element from the list.\n",
      "\n",
      "[1, 2, 3, 4, 5, 6, 7, 8, 9, 10] \n",
      "Removes and returns an element at a specified index in the list.\n",
      "\n",
      "[1, 2, 3, 4, 5, 6, 7, 8, 9, 10] \n",
      "Sorts the elements of the list in ascending order.\n",
      "\n",
      "[10, 9, 8, 7, 6, 5, 4, 3, 2, 1] \n",
      "Reverses the order of elements in the list.\n"
     ]
    }
   ],
   "source": [
    "# List (list) and Methods:\n",
    "l = [0,1,2,3,4,5]\n",
    "print(\"Variable :\",end = \"\")\n",
    "print(l)\n",
    "print(\"\")\n",
    "\n",
    "\n",
    "l.append(6)\n",
    "print(l, \"\\nAdds an element to the end of the list.\")\n",
    "print(\"\")\n",
    "l.extend([7,8,9,10])\n",
    "print(l, \"\\nAppends all elements from another list to the current list.\")\n",
    "print(\"\")\n",
    "l.insert(10,10)\n",
    "print(l, \"\\nInserts an element at a specified position in the list.\")\n",
    "print(\"\")\n",
    "l.remove(0)\n",
    "print(l, \"\\nRemoves the first occurrence of a specified element from the list.\")\n",
    "print(\"\")\n",
    "l.pop()\n",
    "print(l, \"\\nRemoves and returns an element at a specified index in the list.\")\n",
    "print(\"\")\n",
    "l.sort()\n",
    "print(l, \"\\nSorts the elements of the list in ascending order.\")\n",
    "print(\"\")\n",
    "l.reverse()\n",
    "print(l, \"\\nReverses the order of elements in the list.\")"
   ]
  },
  {
   "cell_type": "code",
   "execution_count": 10,
   "id": "4d42ed02",
   "metadata": {},
   "outputs": [
    {
     "name": "stdout",
     "output_type": "stream",
     "text": [
      "Variable :(1, 2, 3, 4, 5)\n",
      "\n",
      "1 \n",
      "Returns the number of occurrences of a specified element in the tuple.\n",
      "\n",
      "3 \n",
      "Returns the index of the first occurrence of a specified element in the tuple.\n"
     ]
    }
   ],
   "source": [
    "# Tuple (tuple) and Methods\n",
    "t = (1,2,3,4,5)\n",
    "print(\"Variable :\",end = \"\")\n",
    "print(t)\n",
    "print(\"\")\n",
    "\n",
    "print(t.count(4), \"\\nReturns the number of occurrences of a specified element in the tuple.\")\n",
    "print(\"\")\n",
    "print(t.index(4), \"\\nReturns the index of the first occurrence of a specified element in the tuple.\")"
   ]
  },
  {
   "cell_type": "code",
   "execution_count": 11,
   "id": "08a420f0",
   "metadata": {},
   "outputs": [
    {
     "name": "stdout",
     "output_type": "stream",
     "text": [
      "Variable :{'name': 'John', 'age': 30, 'city': 'New York'}\n",
      "\n",
      "dict_keys(['name', 'age', 'city'])\n",
      "Returns a view object of all keys in the dictionary.\n",
      "\n",
      "dict_values(['John', 30, 'New York'])\n",
      "Returns a view object of all values in the dictionary.\n",
      "\n",
      "dict_items([('name', 'John'), ('age', 30), ('city', 'New York')])\n",
      "Returns a view object of all key-value pairs in the dictionary.\n",
      "\n",
      "John\n",
      "Returns the value associated with a specified key, or a default value if the key does not exist.\n",
      "\n",
      "New York\n",
      "Removes and returns the value associated with a specified key.\n",
      "Updated {'name': 'John', 'age': 30}\n",
      "\n",
      "Updates the dictionary with key-value pairs from another dictionary. \n",
      "Updated {'name': 'John', 'age': 30, 'profession': 'Engineer'}\n"
     ]
    }
   ],
   "source": [
    "# Dictionary (dict) and Methods\n",
    "d = {'name': 'John', 'age': 30, 'city': 'New York'}\n",
    "prof = {'profession': 'Engineer'}\n",
    "print(\"Variable :\",end = \"\")\n",
    "print(d)\n",
    "print(\"\")\n",
    "\n",
    "print(d.keys())\n",
    "print(\"Returns a view object of all keys in the dictionary.\")\n",
    "print(\"\")\n",
    "print(d.values())\n",
    "print(\"Returns a view object of all values in the dictionary.\")\n",
    "print(\"\")\n",
    "print(d.items())\n",
    "print(\"Returns a view object of all key-value pairs in the dictionary.\")\n",
    "print(\"\")\n",
    "print(d.get('name'))\n",
    "print(\"Returns the value associated with a specified key, or a default value if the key does not exist.\")\n",
    "print(\"\")\n",
    "print(d.pop('city'))\n",
    "print(f\"Removes and returns the value associated with a specified key.\\nUpdated {d}\")\n",
    "print(\"\")\n",
    "d.update(prof)\n",
    "print(f\"Updates the dictionary with key-value pairs from another dictionary. \\nUpdated {d}\")"
   ]
  },
  {
   "cell_type": "markdown",
   "id": "5c052d66",
   "metadata": {},
   "source": [
    "## Python Conditions Statements Examples"
   ]
  },
  {
   "cell_type": "code",
   "execution_count": 12,
   "id": "fa5305b2",
   "metadata": {},
   "outputs": [
    {
     "name": "stdout",
     "output_type": "stream",
     "text": [
      "Enter the age :25\n",
      "Do you have student card type 1 or else 0 :0\n",
      "type one \"City Center\" or \"Suburb\"City Center\n",
      "The ticket price for City Center is Rs : 8.00\n"
     ]
    }
   ],
   "source": [
    "# Automated ticket vending machine\n",
    "age = int(input(\"Enter the age :\"))\n",
    "has_student_card = int(input(\"Do you have student card type 1 or else 0 :\"))\n",
    "destination = input('type one \"City Center\" or \"Suburb\"')\n",
    "\n",
    "ticket_price = 0\n",
    "\n",
    "# Determine ticket price based on age and destination\n",
    "if age < 18:\n",
    "    ticket_price = 5\n",
    "elif age >= 65:\n",
    "    ticket_price = 7.5\n",
    "elif has_student_card:\n",
    "    ticket_price = 6\n",
    "else:\n",
    "    ticket_price = 10\n",
    "\n",
    "# Apply discount for specific destinations\n",
    "if destination == \"City Center\":\n",
    "    ticket_price *= 0.8\n",
    "elif destination == \"Suburb\":\n",
    "    ticket_price *= 0.9\n",
    "\n",
    "# Display the final ticket price\n",
    "print(f\"The ticket price for {destination} is Rs : {ticket_price:.2f}\")\n"
   ]
  },
  {
   "cell_type": "markdown",
   "id": "4e6bf163",
   "metadata": {},
   "source": [
    "## While loop"
   ]
  },
  {
   "cell_type": "code",
   "execution_count": 13,
   "id": "76689b7f",
   "metadata": {},
   "outputs": [
    {
     "name": "stdout",
     "output_type": "stream",
     "text": [
      "Welcome to the Number Guessing Game!\n",
      "Enter your guess (1-100): 50\n",
      "Too low! Try again.\n",
      "Enter your guess (1-100): 60\n",
      "Too high! Try again.\n",
      "Enter your guess (1-100): 55\n",
      "Too low! Try again.\n",
      "Enter your guess (1-100): 56\n",
      "Too low! Try again.\n",
      "Enter your guess (1-100): 59\n",
      "Too high! Try again.\n",
      "You have exhausted your attempts.\n"
     ]
    }
   ],
   "source": [
    "# Number guessing game\n",
    "import random\n",
    "\n",
    "secret_number = random.randint(1, 100)\n",
    "guess = None\n",
    "initial_attempts = 0\n",
    "total_attempts = 5\n",
    "print(\"Welcome to the Number Guessing Game!\")\n",
    "\n",
    "while guess != secret_number and initial_attempts != total_attempts:\n",
    "    guess = int(input(\"Enter your guess (1-100): \"))\n",
    "    initial_attempts += 1\n",
    "    if guess == secret_number:\n",
    "        print(f\"Congratulations! You guessed the correct number {secret_number} in {attempts} attempts.\")\n",
    "        \n",
    "    elif guess < secret_number:\n",
    "        print(\"Too low! Try again.\")\n",
    "        \n",
    "    elif guess > secret_number:\n",
    "        print(\"Too high! Try again.\")\n",
    "\n",
    "print(\"You have exhausted your attempts.\")"
   ]
  },
  {
   "cell_type": "markdown",
   "id": "f70fc2b0",
   "metadata": {},
   "source": [
    "## For loop"
   ]
  },
  {
   "cell_type": "code",
   "execution_count": 14,
   "id": "78ec7557",
   "metadata": {},
   "outputs": [
    {
     "name": "stdout",
     "output_type": "stream",
     "text": [
      "Prime numbers between 10 and 50 are: \n",
      "11\n",
      "13\n",
      "17\n",
      "19\n",
      "23\n",
      "29\n",
      "31\n",
      "37\n",
      "41\n",
      "43\n",
      "47\n"
     ]
    }
   ],
   "source": [
    "# Finding prime numbers in a given range\n",
    "lower = 10\n",
    "upper = 50\n",
    "\n",
    "print(f\"Prime numbers between {lower} and {upper} are: \")\n",
    "\n",
    "for num in range(lower, upper + 1):\n",
    "    if num > 1:\n",
    "        for i in range(2, int(num/2) + 1):\n",
    "            if (num % i) == 0:\n",
    "                break\n",
    "        else:\n",
    "            print(num)\n"
   ]
  },
  {
   "cell_type": "markdown",
   "id": "12a16846",
   "metadata": {},
   "source": [
    "## Function in Python"
   ]
  },
  {
   "cell_type": "code",
   "execution_count": 15,
   "id": "664c1930",
   "metadata": {},
   "outputs": [
    {
     "name": "stdout",
     "output_type": "stream",
     "text": [
      "Data: [2, 4, 6, 6, 8, 10, 10, 10, 12]\n",
      "Mean: 7.555555555555555\n",
      "Median: 8\n",
      "Mode: [10]\n"
     ]
    }
   ],
   "source": [
    "# Data Analysis: Calculating Mean, Median, and Mode\n",
    "\n",
    "#function definition\n",
    "def calculate_mean(numbers):\n",
    "    return sum(numbers) / len(numbers)\n",
    "\n",
    "#function definition\n",
    "def calculate_median(numbers):\n",
    "    sorted_numbers = sorted(numbers)\n",
    "    n = len(sorted_numbers)\n",
    "    if n % 2 == 0:\n",
    "        mid1 = sorted_numbers[n // 2]\n",
    "        mid2 = sorted_numbers[n // 2 - 1]\n",
    "        median = (mid1 + mid2) / 2\n",
    "    else:\n",
    "        median = sorted_numbers[n // 2]\n",
    "    return median\n",
    "\n",
    "#function definition\n",
    "def calculate_mode(numbers):\n",
    "    counts = {}\n",
    "    for num in numbers:\n",
    "        counts[num] = counts.get(num, 0) + 1\n",
    "    max_count = max(counts.values())\n",
    "    mode = [num for num, count in counts.items() if count == max_count]\n",
    "    return mode\n",
    "\n",
    "# driver code\n",
    "data = [2, 4, 6, 6, 8, 10, 10, 10, 12]\n",
    "mean = calculate_mean(data)\n",
    "median = calculate_median(data)\n",
    "mode = calculate_mode(data)\n",
    "\n",
    "print(\"Data:\", data)\n",
    "print(\"Mean:\", mean)\n",
    "print(\"Median:\", median)\n",
    "print(\"Mode:\", mode)"
   ]
  },
  {
   "cell_type": "markdown",
   "id": "857fdc22",
   "metadata": {},
   "source": [
    "### *args and **kwargs"
   ]
  },
  {
   "cell_type": "code",
   "execution_count": 16,
   "id": "ad188bba",
   "metadata": {},
   "outputs": [],
   "source": [
    "def send_email(self,subject,sender_email,password,body,*email,**kwargs):\n",
    "        port = 587  \n",
    "        smtp_server = \"smtp.gmail.com\"\n",
    "        msg['Subject'] = subject\n",
    "        sender_email = sender_email\n",
    "        password = password\n",
    "        \n",
    "        msg = MIMEMultipart()\n",
    "        msg['From'] = sender_email\n",
    "        msg['To'] = email\n",
    "        msg['Cc'] = cc\n",
    "        msg[\"Bcc\"] = bcc\n",
    "        \n",
    "        body = body\n",
    "\n",
    "        msg.attach(MIMEText(body, 'plain'))\n",
    "\n",
    "        a.save(a.filename)\n",
    "        attachment = open(file, \"rb\")\n",
    "        filename = a.name\n",
    "\n",
    "        p = MIMEBase('application', 'octet-stream')\n",
    "        p.set_payload((attachment).read())\n",
    "        p.add_header('Content-Disposition', \"attachment; filename= %s\" % filename)\n",
    "        encoders.encode_base64(p)\n",
    "        msg.attach(p)\n",
    "\n",
    "        \n",
    "        context = ssl.create_default_context()\n",
    "        with smtplib.SMTP(smtp_server, port) as server:\n",
    "            server.ehlo() \n",
    "            server.starttls(context=context)\n",
    "            server.ehlo() \n",
    "            server.login(sender_email, password)\n",
    "            server.sendmail(sender_email,email, msg.as_string())\n",
    "            server.quit()\n",
    "            time.sleep(3)\n",
    "\n",
    "        logging.info(\"Mail Sent\")\n",
    "\n",
    "# driver code\n",
    "# send_email(\"Important Announcement\", \"john@example.com\", \"qwertyuiop\",\"Thank you\",\"abc@gmail.com\",\"def@gmail.com\", cc=\"manager@example.com\", bcc=\"hr@example.com\", filename =\"report.pdf\")\n",
    "# tried and tested"
   ]
  },
  {
   "cell_type": "markdown",
   "id": "31ea22b0",
   "metadata": {},
   "source": [
    "### Lambda functions\n",
    "Lambda functions, also known as anonymous functions, are a powerful tool in Python for creating small, one-time functions without explicitly defining them using the def keyword. They are commonly used in scenarios where a function is required as an argument or when a small function needs to be defined inline."
   ]
  },
  {
   "cell_type": "code",
   "execution_count": 17,
   "id": "a506bbd7",
   "metadata": {},
   "outputs": [
    {
     "name": "stdout",
     "output_type": "stream",
     "text": [
      "[{'name': 'Charlie', 'age': 24, 'salary': 45000}, {'name': 'Alice', 'age': 28, 'salary': 50000}, {'name': 'Bob', 'age': 32, 'salary': 60000}]\n"
     ]
    }
   ],
   "source": [
    "employees = [\n",
    "    {\"name\": \"Alice\", \"age\": 28, \"salary\": 50000},\n",
    "    {\"name\": \"Bob\", \"age\": 32, \"salary\": 60000},\n",
    "    {\"name\": \"Charlie\", \"age\": 24, \"salary\": 45000}\n",
    "]\n",
    "\n",
    "sorted_employees = sorted(employees, key=lambda emp: emp[\"salary\"])\n",
    "print(sorted_employees)\n"
   ]
  },
  {
   "cell_type": "markdown",
   "id": "b7046a2b",
   "metadata": {},
   "source": [
    "## Decorator\n",
    "A decorator in Python is a way to modify or enhance the functionality of a function or class without directly modifying its source code. It allows you to wrap a function or class with another function, commonly known as the decorator function, which can add additional behavior or modify the input/output of the original function."
   ]
  },
  {
   "cell_type": "code",
   "execution_count": 18,
   "id": "5ac6b1dd",
   "metadata": {},
   "outputs": [
    {
     "name": "stdout",
     "output_type": "stream",
     "text": [
      "Access granted\n"
     ]
    }
   ],
   "source": [
    "# example 1: Authorization Decorator\n",
    "# function definition\n",
    "def check_authorization(username, userpassword):\n",
    "    name = \"RachitMore\"\n",
    "    password = \"rachitmore\"\n",
    "    if username == name and userpassword == password:\n",
    "        return True\n",
    "    else:\n",
    "        return False\n",
    "\n",
    "def authorization_decorator(func):\n",
    "    def wrapper(username, userpassword):\n",
    "        try:\n",
    "            if check_authorization(username, userpassword):\n",
    "                return func(username, userpassword)\n",
    "            else:\n",
    "                raise PermissionError(\"Unauthorized access\")\n",
    "        except Exception as e:\n",
    "            return e\n",
    "    return wrapper\n",
    "\n",
    "@authorization_decorator\n",
    "def protected_function(username, userpassword):\n",
    "    print(\"Access granted\")\n",
    "\n",
    "name = \"RachitMore\"\n",
    "password = \"rachitmore\" \n",
    "protected_function(name, password)\n"
   ]
  },
  {
   "cell_type": "code",
   "execution_count": 19,
   "id": "d3bc0f17",
   "metadata": {},
   "outputs": [
    {
     "name": "stdout",
     "output_type": "stream",
     "text": [
      "Calling function: add\n",
      "Function add executed\n",
      "5\n",
      "Calling function: multiply\n",
      "Function multiply executed\n",
      "20\n"
     ]
    }
   ],
   "source": [
    "# example 2: Logging Decorator\n",
    "# function definition\n",
    "def log_decorator(func):\n",
    "    def wrapper(*args, **kwargs):\n",
    "        print(f\"Calling function: {func.__name__}\")\n",
    "        result = func(*args, **kwargs)\n",
    "        print(f\"Function {func.__name__} executed\")\n",
    "        return result\n",
    "    return wrapper\n",
    "\n",
    "@log_decorator\n",
    "def add(a, b):\n",
    "    return a + b\n",
    "\n",
    "@log_decorator\n",
    "def multiply(a, b):\n",
    "    return a * b\n",
    "\n",
    "print(add(2, 3))  # Output: 5\n",
    "print(multiply(4, 5))  # Output: 20\n"
   ]
  },
  {
   "cell_type": "code",
   "execution_count": 20,
   "id": "54f31912",
   "metadata": {},
   "outputs": [
    {
     "name": "stdout",
     "output_type": "stream",
     "text": [
      "55\n"
     ]
    }
   ],
   "source": [
    "# example 3: Memoization Decorator\n",
    "# function definition\n",
    "def memoize(func):\n",
    "    cache = {}\n",
    "\n",
    "    def wrapper(*args):\n",
    "        if args in cache:\n",
    "            return cache[args]\n",
    "        result = func(*args)\n",
    "        cache[args] = result\n",
    "        return result\n",
    "\n",
    "    return wrapper\n",
    "\n",
    "@memoize\n",
    "def fibonacci(n):\n",
    "    if n <= 1:\n",
    "        return n\n",
    "    return fibonacci(n-1) + fibonacci(n-2)\n",
    "\n",
    "print(fibonacci(10))  # Output: 55\n"
   ]
  },
  {
   "cell_type": "code",
   "execution_count": 21,
   "id": "60c8d734",
   "metadata": {},
   "outputs": [
    {
     "name": "stdout",
     "output_type": "stream",
     "text": [
      "Long running function executed\n",
      "Function long_running_function executed in 3.0134758949279785 seconds\n"
     ]
    }
   ],
   "source": [
    "# example 4: Timer Decorator\n",
    "# function definition\n",
    "import time\n",
    "\n",
    "def timer_decorator(func):\n",
    "    def wrapper(*args, **kwargs):\n",
    "        start_time = time.time()\n",
    "        result = func(*args, **kwargs)\n",
    "        end_time = time.time()\n",
    "        execution_time = end_time - start_time\n",
    "        print(f\"Function {func.__name__} executed in {execution_time} seconds\")\n",
    "        return result\n",
    "    return wrapper\n",
    "\n",
    "@timer_decorator\n",
    "def long_running_function():\n",
    "    time.sleep(3)\n",
    "    print(\"Long running function executed\")\n",
    "\n",
    "long_running_function()  # Output: Function long_running_function executed in 3.003286123275757 seconds\n"
   ]
  },
  {
   "cell_type": "code",
   "execution_count": 22,
   "id": "b5d1b901",
   "metadata": {},
   "outputs": [
    {
     "name": "stdout",
     "output_type": "stream",
     "text": [
      "Unstable function succeeded\n"
     ]
    }
   ],
   "source": [
    "# example 5: Retry Decorator\n",
    "# function definition\n",
    "import random\n",
    "\n",
    "def retry_decorator(max_attempts=3):\n",
    "    def decorator(func):\n",
    "        def wrapper(*args, **kwargs):\n",
    "            attempts = 0\n",
    "            while attempts < max_attempts:\n",
    "                try:\n",
    "                    result = func(*args, **kwargs)\n",
    "                    return result\n",
    "                except Exception as e:\n",
    "                    attempts += 1\n",
    "                    print(f\"Exception occurred. Retrying ({attempts}/{max_attempts})...\")\n",
    "                    time.sleep(random.uniform(0.5, 1.0))\n",
    "            raise Exception(\"Max retry attempts exceeded\")\n",
    "        return wrapper\n",
    "    return decorator\n",
    "\n",
    "@retry_decorator(max_attempts=5)\n",
    "def unstable_function():\n",
    "    if random.random() < 0.8:\n",
    "        raise Exception(\"Unstable function failed\")\n",
    "    else:\n",
    "        print(\"Unstable function succeeded\")\n",
    "\n",
    "unstable_function()  # Output: Retries up to 5 times if the function fails, and eventually succeeds or raises an exception.\n"
   ]
  },
  {
   "cell_type": "markdown",
   "id": "37dbf6b3",
   "metadata": {},
   "source": [
    "## File Handling (Reading and Writing Files) "
   ]
  },
  {
   "cell_type": "code",
   "execution_count": 23,
   "id": "b429946f",
   "metadata": {},
   "outputs": [
    {
     "name": "stdout",
     "output_type": "stream",
     "text": [
      "Enter your name: Rachit More\n",
      "Hello, Rachit More!\n",
      "Hello, World!\n",
      "['Name', 'Age', 'City']\n",
      "['John', '25', 'New York']\n",
      "['Alice', '32', 'London']\n",
      "['Bob', '28', 'Paris']\n",
      "{'name': 'John', 'age': 30, 'city': 'New York'}\n"
     ]
    }
   ],
   "source": [
    "# Reading from a file using with statement\n",
    "import csv\n",
    "import json\n",
    "\n",
    "# reading Input from the User\n",
    "name = input(\"Enter your name: \")\n",
    "print(f\"Hello, {name}!\")\n",
    "\n",
    "# Writing and Reading txt Files\n",
    "file = open(\"example.txt\", \"w\")\n",
    "file.write(\"Hello, World!\")\n",
    "file.close()\n",
    "\n",
    "file = open(\"example.txt\", \"r\")\n",
    "content = file.read()\n",
    "file.close()\n",
    "print(content)\n",
    "\n",
    "\n",
    "# Writing and Reading csv Files\n",
    "data = [\n",
    "    ['Name', 'Age', 'City'],\n",
    "    ['John', '25', 'New York'],\n",
    "    ['Alice', '32', 'London'],\n",
    "    ['Bob', '28', 'Paris']\n",
    "]\n",
    "\n",
    "# writing csv file\n",
    "with open('data.csv', 'w', newline='') as file:\n",
    "    csv_writer = csv.writer(file)\n",
    "    csv_writer.writerows(data)\n",
    "    file.close()\n",
    "\n",
    "# reading csv file\n",
    "with open('data.csv', 'r') as file:\n",
    "    csv_reader = csv.reader(file)\n",
    "    for row in csv_reader:\n",
    "        print(row)\n",
    "    file.close()\n",
    "\n",
    "    \n",
    "# Writing and Reading JSON file\n",
    "data = {\n",
    "    'name': 'John',\n",
    "    'age': 30,\n",
    "    'city': 'New York'\n",
    "}\n",
    "\n",
    "# writing json file\n",
    "with open('data.json', 'w') as file:\n",
    "    json.dump(data, file)\n",
    "    file.close()\n",
    "\n",
    "# reading json file\n",
    "with open('data.json', 'r') as file:\n",
    "    data = json.load(file)\n",
    "    file.close()\n",
    "    print(data)\n",
    "    "
   ]
  },
  {
   "cell_type": "code",
   "execution_count": 24,
   "id": "b28ca254",
   "metadata": {},
   "outputs": [
    {
     "name": "stdout",
     "output_type": "stream",
     "text": [
      "    Name  Age\n",
      "0   John   25\n",
      "1  Alice   32\n",
      "2    Bob   28\n"
     ]
    }
   ],
   "source": [
    "import pandas as pd\n",
    "# Writing and Reading Exel file\n",
    "\n",
    "df = pd.DataFrame({\n",
    "    'Name': ['John', 'Alice', 'Bob'],\n",
    "    'Age': [25, 32, 28]\n",
    "})\n",
    "\n",
    "# writing excel file\n",
    "df.to_excel('data.xlsx', index=False)\n",
    "\n",
    "# reading excel file\n",
    "df = pd.read_excel('data.xlsx')\n",
    "print(df)\n"
   ]
  },
  {
   "cell_type": "code",
   "execution_count": 25,
   "id": "eb23bb9f",
   "metadata": {},
   "outputs": [
    {
     "name": "stdout",
     "output_type": "stream",
     "text": [
      "{'name': 'John', 'age': 30}\n"
     ]
    }
   ],
   "source": [
    "# 'pickle' module in Python provides functionality for serializing and deserializing\n",
    "# python objects, allowing you to save and load complex data structures.\n",
    "import pickle\n",
    "\n",
    "data = {'name': 'John', 'age': 30}\n",
    "\n",
    "# writing pickle file \n",
    "with open('data.pickle', 'wb') as file:\n",
    "    pickle.dump(data, file)\n",
    "\n",
    "# reading pickle file\n",
    "with open('data.pickle', 'rb') as file:\n",
    "    data = pickle.load(file)\n",
    "    print(data)\n"
   ]
  },
  {
   "cell_type": "code",
   "execution_count": 26,
   "id": "542ddea8",
   "metadata": {},
   "outputs": [
    {
     "name": "stdout",
     "output_type": "stream",
     "text": [
      "Page Title: Google\n",
      "GoogleSearch Images Maps Play YouTube News Gmail Drive More »Web History | Settings | Sign in Advanced searchGoogle offered in:  हिन्दी বাংলা తెలుగు मराठी தமிழ் ગુજરાતી ಕನ್ನಡ മലയാളം ਪੰਜਾਬੀ AdvertisingBusiness SolutionsAbout GoogleGoogle.co.in© 2023 - Privacy - Terms   printing soup \n",
      "Links on the Page:\n",
      "https://www.google.com/imghp?hl=en&tab=wi\n",
      "https://maps.google.co.in/maps?hl=en&tab=wl\n",
      "https://play.google.com/?hl=en&tab=w8\n",
      "https://www.youtube.com/?tab=w1\n",
      "https://news.google.com/?tab=wn\n",
      "https://mail.google.com/mail/?tab=wm\n",
      "https://drive.google.com/?tab=wo\n",
      "https://www.google.co.in/intl/en/about/products?tab=wh\n",
      "http://www.google.co.in/history/optout?hl=en\n",
      "/preferences?hl=en\n",
      "https://accounts.google.com/ServiceLogin?hl=en&passive=true&continue=https://www.google.com/&ec=GAZAAQ\n",
      "/advanced_search?hl=en-IN&authuser=0\n",
      "https://www.google.com/setprefs?sig=0_cOaKaoCOg9KdHjE8IM6x-egRmhQ%3D&hl=hi&source=homepage&sa=X&ved=0ahUKEwjFheSly___AhVrZvUHHfwEB-sQ2ZgBCAU\n",
      "https://www.google.com/setprefs?sig=0_cOaKaoCOg9KdHjE8IM6x-egRmhQ%3D&hl=bn&source=homepage&sa=X&ved=0ahUKEwjFheSly___AhVrZvUHHfwEB-sQ2ZgBCAY\n",
      "https://www.google.com/setprefs?sig=0_cOaKaoCOg9KdHjE8IM6x-egRmhQ%3D&hl=te&source=homepage&sa=X&ved=0ahUKEwjFheSly___AhVrZvUHHfwEB-sQ2ZgBCAc\n",
      "https://www.google.com/setprefs?sig=0_cOaKaoCOg9KdHjE8IM6x-egRmhQ%3D&hl=mr&source=homepage&sa=X&ved=0ahUKEwjFheSly___AhVrZvUHHfwEB-sQ2ZgBCAg\n",
      "https://www.google.com/setprefs?sig=0_cOaKaoCOg9KdHjE8IM6x-egRmhQ%3D&hl=ta&source=homepage&sa=X&ved=0ahUKEwjFheSly___AhVrZvUHHfwEB-sQ2ZgBCAk\n",
      "https://www.google.com/setprefs?sig=0_cOaKaoCOg9KdHjE8IM6x-egRmhQ%3D&hl=gu&source=homepage&sa=X&ved=0ahUKEwjFheSly___AhVrZvUHHfwEB-sQ2ZgBCAo\n",
      "https://www.google.com/setprefs?sig=0_cOaKaoCOg9KdHjE8IM6x-egRmhQ%3D&hl=kn&source=homepage&sa=X&ved=0ahUKEwjFheSly___AhVrZvUHHfwEB-sQ2ZgBCAs\n",
      "https://www.google.com/setprefs?sig=0_cOaKaoCOg9KdHjE8IM6x-egRmhQ%3D&hl=ml&source=homepage&sa=X&ved=0ahUKEwjFheSly___AhVrZvUHHfwEB-sQ2ZgBCAw\n",
      "https://www.google.com/setprefs?sig=0_cOaKaoCOg9KdHjE8IM6x-egRmhQ%3D&hl=pa&source=homepage&sa=X&ved=0ahUKEwjFheSly___AhVrZvUHHfwEB-sQ2ZgBCA0\n",
      "/intl/en/ads/\n",
      "http://www.google.co.in/services/\n",
      "/intl/en/about.html\n",
      "https://www.google.com/setprefdomain?prefdom=IN&prev=https://www.google.co.in/&sig=K_1ptZr-oeO8qagbJJ0B3nRT6yC0k%3D\n",
      "/intl/en/policies/privacy/\n",
      "/intl/en/policies/terms/\n"
     ]
    }
   ],
   "source": [
    "# Connecting to web page and web scraping\n",
    "import requests\n",
    "from bs4 import BeautifulSoup\n",
    "\n",
    "# make a GET request to the web page\n",
    "response = requests.get('https://www.google.com/')\n",
    "\n",
    "# create a Beautiful Soup object with the response content\n",
    "soup = BeautifulSoup(response.content, 'html.parser')\n",
    "\n",
    "# find and print the title of the web page\n",
    "title = soup.title\n",
    "print(\"Page Title:\", title.text)\n",
    "\n",
    "# extracting all the text from a page\n",
    "print(soup.get_text(),\"printing soup \")\n",
    "\n",
    "# find and print all the links on the web page\n",
    "links = soup.find_all('a')\n",
    "print(\"Links on the Page:\")\n",
    "for link in links:\n",
    "    print(link.get('href'))"
   ]
  },
  {
   "cell_type": "code",
   "execution_count": 27,
   "id": "77634dd1",
   "metadata": {},
   "outputs": [
    {
     "name": "stdout",
     "output_type": "stream",
     "text": [
      "Byte 0: 255 (hex: FF, binary: 11111111)\n",
      "Byte 1: 216 (hex: D8, binary: 11011000)\n",
      "Byte 2: 255 (hex: FF, binary: 11111111)\n",
      "Byte 3: 224 (hex: E0, binary: 11100000)\n",
      "Byte 4: 0 (hex: 00, binary: 00000000)\n",
      "[255, 216, 255, 224, 0, 16, 74, 70, 73, 70, 0, 1, 1, 0, 0, 1, 0, 1, 0, 0, 255, 219, 0, 132, 0, 10, 7, 8, 20, 20, 20, 24, 20, 20, 20, 24, 24, 24, 24, 26, 26, 26, 26, 24, 24, 24, 26, 27, 26, 24, 24, 24, 27, 27, 25, 24, 26, 27, 24, 27, 33, 45, 36, 27, 29, 42, 33, 24, 26, 37, 55, 37, 42, 46, 49, 52, 53, 52, 26, 35, 58, 63, 58, 51, 62, 45, 51, 52, 49, 1, 11, 11, 11, 16, 15, 16, 29, 18, 18, 31, 51, 42, 35, 42, 51, 51, 51, 51, 51, 51, 51, 51, 51, 51, 51, 51, 51, 51, 51, 49, 51, 51, 51, 51, 51, 51, 51, 51, 51, 51, 51, 51, 51, 51, 49, 51, 51, 51, 51, 51, 51, 51, 51, 51, 51, 51, 51, 51, 51, 51, 51, 51, 51, 51, 255, 192, 0, 17, 8, 0, 154, 1, 72, 3, 1, 34, 0, 2, 17, 1, 3, 17, 1, 255, 196, 0, 27, 0, 0, 1, 5, 1, 1, 0, 0, 0, 0, 0, 0, 0, 0, 0, 0, 0, 2, 0, 1, 3, 4, 5, 6, 7, 255, 196, 0, 70, 16, 0, 2, 1, 3, 2, 4, 3, 4, 5, 8, 8, 4, 7, 0, 0, 0, 1, 2, 17, 0, 3, 33, 4, 18, 5, 49, 65, 81, 19, 34, 97, 50, 113, 129, 145, 6, 66, 82, 161, 209, 20, 35, 98, 114, 177, 178, 193, 225, 21, 51, 67, 83, 130, 146, 179, 240, 115, 147, 162, 210, 84, 99, 131, 148, 163, 211, 212, 255, 196, 0, 25, 1, 0, 3, 1, 1, 1, 0, 0, 0, 0, 0, 0, 0, 0, 0, 0, 0, 0, 1, 2, 3, 4, 5, 255, 196, 0, 41, 17, 0, 2, 2, 3, 1, 0, 1, 2, 5, 5, 1, 0, 0, 0, 0, 0, 0, 1, 2, 17, 3, 18, 33, 49, 65, 4, 81, 19, 34, 50, 97, 113, 129, 145, 161, 209, 225, 20, 255, 218, 0, 12, 3, 1, 0, 2, 17, 3, 17, 0, 63, 0, 241, 154, 84, 244, 170, 132, 53, 61, 42, 84, 0, 169, 82, 165, 84, 2, 165, 79, 20, 241, 77, 32, 26, 149, 60, 82, 167, 64, 42, 113, 77, 78, 41, 160, 30, 136, 80, 138, 33, 86, 144, 4, 40, 133, 48, 20, 64, 86, 177, 137, 13, 142, 41, 197, 32, 40, 128, 173, 227, 18, 27, 16, 163, 81, 76, 5, 26, 138, 186, 4, 72, 130, 167, 65, 80, 165, 78, 180, 153, 162, 101, 155, 66, 173, 219, 21, 78, 217, 171, 118, 205, 97, 52, 116, 66, 69, 149, 20, 68, 80, 161, 162, 38, 179, 163, 77, 128, 106, 106, 144, 167, 150, 125, 98, 163, 53, 104, 134, 199, 90, 53, 106, 142, 156, 26, 100, 236, 90, 70, 171, 8, 106, 154, 26, 183, 104, 86, 114, 41, 72, 157, 90, 164, 86, 52, 41, 109, 137, 128, 9, 35, 152, 0, 152, 248, 81, 149, 131, 4, 65, 237, 202, 176, 116, 104, 164, 16, 115, 72, 189, 58, 219, 36, 18, 1, 129, 204, 253, 255, 0, 176, 77, 70, 212, 169, 6, 194, 107, 149, 25, 185, 64, 230, 162, 103, 171, 81, 33, 204, 180, 46, 84, 136, 245, 73, 94, 165, 87, 169, 113, 13, 139, 234, 244, 213, 93, 30, 149, 103, 161, 91, 158, 81, 74, 149, 61, 58, 57, 70, 165, 79, 79, 78, 128, 106, 122, 84, 169, 208, 8, 85, 222, 31, 163, 241, 95, 96, 49, 130, 121, 22, 38, 58, 42, 174, 88, 250, 14, 128, 158, 149, 81, 69, 88, 211, 92, 40, 202, 226, 37, 88, 48, 156, 137, 83, 34, 71, 81, 138, 218, 17, 177, 89, 38, 179, 65, 114, 217, 59, 212, 196, 144, 28, 101, 24, 143, 178, 252, 155, 225, 85, 74, 215, 72, 156, 96, 166, 210, 251, 212, 186, 238, 193, 55, 1, 18, 64, 82, 29, 133, 197, 7, 108, 226, 228, 25, 6, 32, 197, 75, 165, 225, 167, 86, 235, 111, 79, 106, 221, 247, 101, 98, 222, 19, 139, 14, 8, 102, 96, 21, 46, 66, 237, 11, 183, 59, 14, 100, 110, 229, 84, 215, 220, 44, 229, 10, 211, 84, 174, 40, 34, 165, 198, 152, 199, 2, 136, 10, 101, 163, 81, 85, 20, 75, 97, 1, 70, 171, 73, 5, 78, 137, 93, 112, 141, 25, 250, 70, 169, 70, 18, 167, 91, 117, 42, 218, 170, 43, 82, 160, 183, 68, 169, 93, 2, 112, 34, 160, 27, 183, 21, 15, 216, 130, 215, 7, 189, 6, 23, 220, 196, 31, 74, 181, 103, 232, 245, 183, 32, 45, 238, 124, 229, 8, 63, 8, 102, 17, 220, 146, 35, 61, 171, 55, 150, 43, 228, 106, 12, 230, 85, 42, 84, 21, 210, 107, 184, 110, 158, 216, 199, 155, 152, 95, 49, 14, 74, 156, 238, 57, 11, 131, 137, 65, 252, 107, 62, 248, 69, 219, 182, 208, 130, 178, 11, 57, 102, 35, 43, 157, 140, 0, 243, 41, 196, 3, 243, 164, 178, 39, 226, 30, 180, 82, 81, 86, 237, 138, 54, 42, 71, 245, 101, 15, 112, 91, 57, 206, 27, 211, 246, 85, 157, 61, 148, 56, 59, 135, 168, 143, 217, 252, 234, 101, 34, 209, 10, 81, 156, 85, 213, 225, 243, 236, 48, 39, 160, 62, 83, 247, 227, 228, 102, 163, 58, 118, 86, 150, 6, 103, 32, 224, 252, 107, 61, 147, 52, 233, 80, 208, 19, 86, 47, 137, 36, 242, 170, 229, 106, 145, 12, 64, 209, 3, 66, 22, 137, 86, 152, 137, 237, 86, 167, 14, 73, 108, 16, 8, 136, 39, 144, 37, 149, 102, 15, 190, 179, 45, 10, 213, 225, 158, 215, 249, 63, 212, 74, 199, 33, 162, 101, 141, 70, 174, 219, 32, 85, 66, 14, 55, 49, 51, 185, 132, 230, 35, 24, 32, 64, 229, 21, 5, 221, 83, 59, 110, 118, 44, 96, 9, 39, 48, 4, 1, 62, 128, 10, 173, 24, 161, 21, 146, 130, 67, 178, 250, 106, 4, 65, 4, 129, 217, 160, 17, 51, 4, 70, 115, 82, 162, 6, 182, 228, 184, 193, 128, 144, 103, 32, 182, 224, 121, 1, 229, 136, 245, 172, 244, 53, 123, 78, 60, 143, 240, 253, 215, 165, 37, 67, 178, 133, 202, 174, 198, 173, 92, 90, 174, 194, 180, 137, 44, 16, 213, 42, 181, 68, 5, 72, 180, 48, 36, 86, 165, 76, 41, 84, 208, 236, 243, 40, 167, 165, 79, 21, 20, 98, 53, 60, 82, 138, 32, 42, 146, 36, 104, 165, 20, 81, 72, 10, 170, 1, 40, 171, 220, 63, 73, 226, 62, 221, 219, 112, 91, 164, 144, 57, 192, 102, 81, 129, 36, 201, 24, 82, 122, 69, 84, 81, 90, 202, 162, 222, 148, 180, 13, 215, 154, 1, 235, 177, 78, 96, 251, 213, 129, 29, 67, 175, 186, 182, 132, 105, 3, 96, 223, 214, 171, 5, 71, 64, 194, 216, 218, 25, 92, 131, 229, 10, 190, 66, 65, 1, 14, 205, 208, 84, 229, 152, 200, 152, 163, 116, 11, 110, 219, 219, 102, 84, 86, 109, 199, 11, 114, 95, 104, 59, 72, 111, 52, 168, 42, 57, 123, 15, 32, 86, 92, 245, 173, 62, 44, 193, 85, 44, 169, 7, 96, 59, 163, 163, 41, 42, 84, 245, 195, 248, 172, 61, 46, 10, 213, 198, 169, 33, 38, 80, 214, 233, 205, 183, 43, 50, 48, 85, 135, 38, 86, 18, 172, 61, 8, 32, 199, 78, 71, 34, 171, 69, 104, 218, 95, 18, 223, 135, 245, 208, 51, 91, 238, 201, 150, 116, 248, 101, 199, 248, 135, 50, 42, 128, 21, 139, 78, 199, 99, 40, 169, 84, 83, 42, 213, 171, 22, 230, 182, 132, 9, 110, 198, 183, 110, 181, 120, 119, 14, 123, 174, 18, 218, 150, 99, 208, 118, 234, 73, 228, 7, 169, 197, 105, 240, 126, 4, 29, 60, 75, 132, 170, 73, 0, 142, 110, 192, 100, 9, 232, 36, 102, 15, 60, 3, 13, 27, 10, 219, 64, 181, 107, 106, 171, 30, 67, 153, 60, 132, 158, 83, 216, 201, 60, 243, 200, 82, 201, 153, 46, 71, 210, 227, 2, 145, 224, 233, 100, 29, 200, 206, 202, 50, 96, 170, 33, 49, 19, 34, 91, 159, 93, 190, 226, 42, 198, 134, 229, 197, 12, 70, 197, 11, 129, 41, 110, 216, 150, 239, 180, 14, 146, 208, 15, 49, 215, 52, 218, 109, 219, 196, 18, 190, 171, 206, 15, 47, 126, 58, 86, 222, 187, 134, 49, 69, 10, 38, 1, 111, 40, 196, 177, 203, 1, 208, 16, 23, 29, 43, 150, 121, 171, 146, 102, 202, 6, 18, 233, 228, 249, 165, 139, 114, 43, 133, 31, 2, 185, 248, 64, 21, 190, 250, 85, 181, 104, 46, 230, 12, 125, 189, 152, 104, 196, 36, 244, 228, 73, 247, 140, 72, 170, 92, 39, 78, 193, 224, 251, 51, 230, 4, 72, 35, 248, 31, 81, 83, 234, 184, 102, 162, 229, 195, 134, 36, 147, 129, 38, 126, 85, 140, 242, 39, 36, 175, 133, 40, 243, 195, 38, 239, 7, 145, 187, 49, 221, 68, 207, 97, 158, 190, 135, 164, 154, 174, 156, 49, 231, 250, 182, 249, 86, 253, 158, 17, 126, 33, 67, 252, 205, 104, 105, 184, 37, 224, 65, 51, 60, 250, 255, 0, 26, 111, 234, 117, 94, 216, 181, 70, 2, 112, 216, 81, 131, 202, 72, 97, 16, 115, 203, 38, 112, 1, 159, 88, 140, 81, 88, 225, 162, 70, 15, 204, 87, 105, 167, 225, 142, 184, 34, 71, 110, 199, 210, 166, 183, 195, 153, 72, 97, 18, 8, 35, 222, 50, 49, 202, 185, 223, 213, 77, 149, 249, 23, 201, 198, 94, 225, 203, 208, 16, 125, 226, 172, 165, 176, 20, 43, 195, 129, 129, 49, 42, 63, 69, 163, 3, 211, 151, 165, 116, 215, 120, 105, 61, 62, 255, 0, 157, 69, 115, 135, 183, 217, 228, 35, 2, 57, 126, 223, 125, 102, 243, 202, 169, 148, 156, 25, 200, 94, 225, 64, 201, 83, 35, 191, 191, 246, 86, 102, 163, 70, 192, 193, 21, 220, 13, 51, 161, 220, 171, 159, 142, 106, 45, 86, 128, 92, 19, 179, 105, 61, 0, 231, 238, 29, 63, 143, 237, 215, 31, 213, 180, 250, 41, 69, 28, 33, 180, 105, 11, 102, 183, 175, 112, 255, 0, 79, 149, 87, 58, 90, 236, 142, 104, 178, 28, 26, 51, 145, 43, 75, 135, 172, 55, 249, 127, 212, 74, 31, 201, 200, 169, 236, 160, 18, 15, 34, 35, 239, 145, 247, 129, 83, 41, 166, 10, 37, 85, 79, 73, 247, 208, 248, 85, 168, 182, 45, 237, 29, 90, 76, 176, 112, 1, 24, 128, 20, 172, 131, 206, 133, 237, 168, 24, 7, 39, 202, 100, 55, 108, 96, 243, 244, 142, 163, 227, 31, 136, 58, 40, 162, 85, 205, 63, 176, 255, 0, 15, 221, 122, 145, 237, 164, 224, 123, 252, 234, 63, 104, 63, 183, 229, 202, 153, 238, 42, 169, 85, 140, 246, 59, 190, 37, 160, 14, 88, 0, 125, 166, 147, 202, 150, 214, 20, 103, 184, 170, 204, 42, 123, 141, 80, 49, 21, 172, 73, 96, 69, 24, 161, 154, 42, 161, 5, 52, 170, 54, 106, 84, 80, 30, 117, 78, 5, 56, 20, 224, 82, 72, 196, 104, 167, 2, 148, 83, 197, 85, 0, 212, 224, 82, 138, 32, 42, 212, 68, 216, 118, 173, 150, 33, 84, 75, 49, 0, 14, 228, 152, 3, 230, 107, 103, 94, 187, 175, 90, 179, 110, 8, 77, 136, 178, 36, 49, 109, 176, 204, 61, 87, 96, 97, 250, 38, 162, 250, 61, 165, 55, 46, 136, 12, 118, 140, 5, 30, 98, 199, 0, 39, 233, 193, 102, 0, 100, 148, 171, 156, 118, 253, 145, 168, 188, 201, 98, 237, 135, 243, 47, 132, 228, 54, 215, 117, 218, 236, 204, 78, 229, 246, 152, 129, 7, 59, 114, 6, 43, 85, 250, 171, 246, 23, 193, 30, 191, 84, 110, 235, 30, 251, 217, 91, 64, 126, 115, 195, 9, 177, 66, 160, 1, 1, 83, 246, 153, 81, 73, 234, 88, 211, 93, 222, 218, 100, 185, 118, 193, 54, 119, 236, 23, 131, 16, 124, 64, 178, 66, 201, 32, 72, 82, 88, 68, 49, 4, 200, 60, 171, 105, 175, 108, 178, 3, 151, 100, 123, 138, 10, 6, 34, 82, 220, 61, 192, 58, 41, 98, 201, 6, 62, 169, 171, 90, 253, 82, 75, 182, 147, 120, 210, 239, 147, 165, 184, 204, 193, 3, 0, 37, 134, 226, 8, 98, 35, 120, 59, 148, 237, 18, 14, 210, 93, 120, 146, 3, 57, 236, 181, 189, 183, 81, 165, 119, 2, 174, 4, 21, 117, 243, 0, 195, 59, 92, 68, 198, 65, 140, 18, 41, 107, 173, 3, 182, 226, 8, 71, 153, 81, 201, 28, 70, 244, 3, 160, 200, 101, 253, 22, 3, 152, 53, 49, 219, 105, 226, 89, 172, 221, 80, 79, 34, 197, 9, 57, 237, 189, 24, 48, 159, 180, 135, 161, 204, 64, 248, 45, 114, 213, 197, 220, 179, 181, 130, 152, 243, 33, 59, 93, 88, 169, 142, 100, 76, 25, 86, 97, 137, 144, 218, 249, 2, 173, 181, 205, 117, 159, 71, 120, 15, 140, 166, 227, 29, 168, 156, 219, 185, 17, 129, 131, 17, 34, 76, 24, 220, 162, 9, 32, 86, 46, 129, 45, 92, 117, 68, 181, 112, 179, 50, 170, 143, 25, 50, 204, 66, 168, 254, 171, 185, 21, 233, 238, 150, 146, 194, 90, 73, 240, 146, 68, 135, 80, 207, 176, 51, 220, 125, 187, 36, 179, 13, 205, 233, 184, 12, 77, 101, 159, 35, 140, 82, 143, 172, 188, 112, 190, 153, 247, 108, 160, 9, 12, 168, 129, 20, 13, 219, 176, 60, 195, 144, 220, 68, 193, 108, 243, 44, 79, 122, 115, 97, 17, 26, 226, 184, 97, 236, 226, 101, 75, 76, 200, 61, 213, 88, 3, 235, 210, 43, 47, 136, 106, 173, 220, 93, 231, 122, 193, 108, 120, 138, 6, 243, 144, 61, 130, 64, 42, 2, 143, 212, 136, 2, 77, 102, 167, 20, 64, 165, 54, 92, 218, 196, 18, 60, 68, 201, 93, 192, 31, 234, 250, 110, 63, 58, 198, 56, 164, 213, 217, 174, 233, 112, 232, 184, 100, 51, 150, 108, 9, 36, 158, 189, 88, 243, 247, 124, 200, 239, 90, 58, 158, 42, 167, 29, 7, 33, 216, 122, 118, 174, 86, 215, 17, 182, 168, 66, 163, 203, 123, 94, 117, 144, 1, 194, 255, 0, 87, 202, 115, 242, 237, 74, 221, 244, 144, 118, 92, 51, 222, 226, 116, 48, 73, 242, 96, 123, 234, 103, 244, 219, 59, 101, 70, 116, 118, 58, 109, 106, 8, 36, 8, 235, 248, 123, 207, 32, 43, 111, 73, 196, 81, 241, 229, 39, 222, 135, 248, 215, 157, 222, 213, 91, 104, 218, 175, 3, 202, 7, 141, 108, 30, 229, 160, 164, 201, 239, 203, 164, 224, 86, 143, 11, 189, 176, 16, 168, 249, 31, 223, 91, 39, 223, 236, 250, 114, 174, 121, 253, 37, 43, 79, 163, 223, 110, 51, 208, 211, 85, 111, 236, 143, 250, 127, 26, 153, 117, 105, 219, 247, 127, 26, 226, 22, 237, 194, 48, 175, 187, 169, 241, 173, 228, 119, 24, 173, 61, 22, 211, 109, 183, 43, 239, 220, 54, 55, 136, 140, 177, 137, 92, 17, 159, 129, 233, 238, 60, 238, 18, 143, 216, 79, 18, 103, 84, 151, 129, 229, 252, 40, 188, 65, 92, 242, 106, 154, 96, 198, 7, 218, 6, 38, 57, 65, 251, 251, 253, 241, 90, 226, 18, 66, 129, 4, 198, 51, 57, 248, 214, 123, 50, 63, 243, 157, 35, 93, 29, 170, 54, 185, 233, 88, 199, 80, 75, 71, 187, 225, 247, 211, 94, 214, 40, 193, 36, 114, 232, 216, 249, 53, 45, 155, 5, 130, 141, 55, 186, 58, 253, 241, 243, 170, 175, 121, 100, 28, 68, 243, 159, 199, 21, 149, 168, 190, 79, 151, 161, 206, 232, 48, 123, 76, 153, 172, 221, 78, 181, 237, 224, 200, 29, 187, 250, 209, 24, 185, 58, 70, 177, 198, 151, 165, 221, 85, 196, 50, 195, 148, 242, 237, 235, 238, 255, 0, 125, 171, 34, 254, 160, 122, 80, 38, 190, 76, 48, 25, 198, 119, 125, 241, 63, 178, 107, 39, 89, 116, 171, 17, 39, 211, 212, 28, 169, 143, 116, 87, 94, 44, 29, 233, 82, 157, 120, 93, 125, 72, 160, 252, 164, 86, 43, 234, 61, 106, 47, 202, 15, 33, 248, 147, 233, 21, 216, 176, 164, 100, 242, 29, 143, 10, 187, 167, 41, 117, 175, 239, 194, 133, 183, 179, 237, 144, 199, 248, 14, 120, 239, 210, 162, 208, 56, 102, 11, 185, 22, 89, 76, 185, 133, 16, 174, 100, 159, 120, 31, 18, 43, 3, 85, 168, 218, 69, 176, 112, 146, 24, 207, 55, 49, 188, 207, 161, 1, 71, 112, 128, 245, 171, 124, 54, 237, 189, 166, 84, 151, 222, 129, 91, 118, 2, 149, 184, 88, 20, 140, 251, 61, 255, 0, 156, 75, 15, 44, 54, 39, 187, 121, 68, 65, 156, 125, 245, 89, 245, 66, 169, 61, 236, 85, 119, 187, 90, 71, 16, 156, 139, 175, 122, 162, 55, 106, 151, 139, 77, 226, 214, 138, 4, 217, 115, 196, 162, 241, 42, 150, 255, 0, 90, 99, 114, 141, 69, 101, 198, 185, 74, 168, 181, 218, 84, 244, 11, 57, 88, 167, 138, 112, 40, 128, 169, 81, 50, 108, 24, 167, 138, 40, 167, 138, 181, 1, 54, 12, 81, 1, 68, 22, 164, 91, 45, 180, 190, 211, 180, 24, 45, 7, 104, 61, 139, 114, 7, 60, 189, 107, 72, 192, 87, 101, 142, 22, 91, 196, 85, 14, 200, 3, 171, 150, 83, 12, 190, 24, 102, 46, 172, 50, 25, 87, 121, 6, 164, 252, 161, 238, 61, 203, 151, 2, 182, 224, 215, 28, 220, 5, 203, 75, 109, 16, 231, 207, 237, 48, 89, 12, 61, 78, 42, 154, 62, 210, 8, 104, 35, 32, 131, 4, 30, 224, 142, 85, 107, 89, 175, 123, 129, 67, 176, 48, 57, 201, 150, 194, 172, 177, 36, 201, 132, 78, 80, 49, 60, 204, 213, 235, 209, 162, 13, 85, 240, 251, 97, 66, 42, 174, 208, 160, 146, 4, 179, 57, 50, 115, 205, 143, 194, 57, 243, 162, 225, 173, 249, 213, 83, 236, 185, 216, 223, 170, 254, 83, 241, 19, 35, 213, 65, 233, 80, 162, 22, 33, 84, 22, 39, 144, 92, 147, 238, 3, 38, 164, 211, 219, 62, 34, 46, 65, 222, 163, 177, 7, 112, 28, 187, 205, 54, 185, 66, 237, 151, 116, 214, 11, 89, 45, 114, 213, 205, 150, 247, 237, 184, 167, 106, 150, 44, 129, 173, 238, 40, 192, 145, 44, 208, 12, 228, 213, 13, 77, 221, 236, 15, 232, 162, 231, 186, 34, 161, 63, 18, 164, 214, 238, 159, 139, 129, 111, 83, 102, 239, 138, 246, 95, 127, 132, 136, 192, 34, 95, 118, 220, 142, 192, 243, 16, 179, 19, 223, 25, 145, 67, 141, 120, 27, 147, 192, 182, 232, 60, 43, 102, 224, 103, 220, 90, 227, 40, 118, 96, 122, 2, 25, 113, 220, 28, 10, 136, 55, 125, 69, 63, 11, 63, 70, 145, 131, 189, 197, 18, 81, 9, 95, 215, 114, 19, 252, 193, 13, 198, 3, 244, 39, 165, 116, 154, 125, 73, 37, 45, 147, 237, 35, 79, 235, 94, 70, 134, 248, 43, 91, 159, 212, 172, 238, 7, 170, 240, 244, 78, 109, 144, 46, 23, 15, 184, 123, 74, 128, 248, 109, 180, 253, 86, 5, 147, 35, 32, 93, 57, 205, 26, 107, 115, 98, 243, 18, 96, 149, 184, 76, 146, 118, 177, 12, 15, 82, 124, 55, 65, 53, 148, 214, 210, 124, 253, 139, 131, 164, 102, 155, 229, 110, 28, 6, 86, 149, 101, 60, 153, 73, 152, 244, 32, 128, 65, 232, 64, 53, 209, 240, 158, 6, 183, 132, 4, 109, 160, 97, 177, 185, 9, 201, 82, 7, 182, 147, 245, 128, 7, 39, 29, 43, 7, 64, 202, 55, 92, 96, 14, 194, 138, 20, 242, 220, 225, 200, 38, 51, 0, 35, 96, 70, 72, 205, 116, 122, 78, 40, 77, 185, 62, 94, 168, 138, 96, 64, 101, 82, 209, 215, 44, 4, 243, 59, 90, 78, 51, 57, 220, 170, 162, 92, 42, 250, 110, 232, 62, 134, 162, 153, 117, 222, 57, 66, 247, 61, 103, 191, 165, 83, 227, 159, 70, 118, 130, 45, 136, 83, 219, 184, 251, 93, 231, 238, 233, 216, 234, 105, 120, 179, 216, 182, 151, 30, 88, 58, 146, 8, 96, 48, 12, 71, 46, 98, 51, 81, 216, 250, 69, 110, 249, 101, 62, 249, 60, 198, 99, 150, 71, 202, 188, 213, 60, 201, 221, 183, 95, 216, 214, 149, 209, 197, 112, 203, 126, 103, 83, 147, 0, 97, 173, 128, 97, 214, 64, 44, 14, 238, 95, 87, 183, 105, 173, 157, 36, 76, 44, 207, 252, 75, 95, 30, 86, 234, 143, 16, 225, 172, 25, 217, 33, 149, 152, 238, 117, 80, 74, 0, 210, 219, 80, 144, 1, 142, 230, 8, 60, 199, 74, 220, 25, 28, 92, 147, 59, 97, 160, 248, 86, 140, 252, 75, 126, 53, 232, 54, 165, 27, 178, 23, 56, 117, 122, 82, 12, 100, 252, 46, 219, 38, 126, 22, 235, 69, 117, 2, 99, 115, 117, 228, 248, 0, 76, 133, 242, 103, 212, 245, 207, 199, 142, 211, 105, 110, 72, 193, 231, 253, 198, 159, 254, 250, 212, 127, 21, 8, 34, 88, 75, 3, 9, 108, 50, 152, 49, 33, 67, 68, 198, 12, 244, 53, 205, 147, 18, 126, 52, 92, 100, 110, 54, 171, 205, 130, 75, 116, 147, 186, 61, 32, 0, 70, 51, 29, 178, 61, 156, 202, 233, 181, 195, 21, 64, 73, 237, 115, 156, 231, 36, 87, 43, 161, 184, 224, 249, 144, 128, 73, 44, 207, 186, 35, 30, 209, 199, 35, 145, 25, 37, 136, 204, 197, 108, 54, 170, 217, 184, 20, 169, 89, 131, 1, 208, 51, 103, 30, 67, 48, 221, 64, 247, 137, 51, 92, 243, 193, 78, 145, 74, 70, 145, 212, 174, 230, 27, 147, 144, 156, 92, 199, 44, 154, 203, 189, 114, 93, 167, 102, 14, 73, 23, 49, 208, 103, 248, 117, 168, 175, 221, 179, 110, 225, 62, 121, 32, 79, 231, 173, 0, 68, 8, 128, 68, 242, 131, 52, 215, 111, 218, 112, 25, 55, 200, 19, 134, 87, 31, 172, 118, 41, 220, 208, 167, 28, 161, 79, 184, 144, 194, 211, 7, 52, 94, 189, 174, 182, 138, 39, 108, 64, 129, 45, 63, 172, 68, 253, 199, 167, 223, 151, 121, 210, 231, 56, 105, 38, 8, 47, 32, 246, 146, 96, 55, 188, 117, 170, 186, 133, 83, 4, 248, 156, 190, 195, 158, 167, 159, 230, 166, 170, 11, 246, 212, 149, 5, 201, 231, 178, 0, 36, 123, 153, 7, 73, 63, 178, 186, 49, 224, 215, 171, 210, 92, 208, 215, 151, 195, 97, 4, 247, 13, 35, 32, 226, 70, 61, 51, 60, 136, 35, 165, 80, 226, 55, 114, 51, 201, 126, 60, 201, 19, 240, 35, 225, 21, 181, 98, 230, 158, 224, 59, 222, 226, 25, 82, 112, 166, 55, 97, 159, 31, 225, 13, 220, 144, 123, 138, 199, 226, 134, 192, 185, 4, 92, 157, 170, 76, 53, 178, 36, 168, 36, 238, 24, 60, 249, 245, 205, 116, 195, 245, 117, 25, 201, 240, 202, 119, 169, 244, 111, 176, 53, 223, 177, 1, 61, 110, 52, 236, 63, 225, 1, 159, 222, 170, 58, 208, 179, 105, 255, 0, 243, 191, 248, 234, 190, 175, 80, 164, 42, 91, 4, 34, 76, 110, 141, 197, 156, 203, 49, 129, 216, 34, 199, 100, 30, 181, 189, 89, 149, 142, 143, 91, 60, 47, 82, 193, 74, 11, 106, 85, 157, 88, 185, 82, 93, 74, 6, 16, 173, 56, 95, 62, 113, 212, 119, 206, 2, 26, 214, 208, 92, 133, 201, 129, 190, 220, 246, 200, 185, 39, 238, 251, 170, 102, 184, 56, 178, 45, 228, 2, 7, 88, 154, 129, 167, 165, 92, 252, 149, 227, 0, 31, 213, 101, 111, 127, 178, 77, 86, 184, 99, 149, 10, 190, 6, 200, 9, 165, 76, 127, 216, 161, 6, 174, 137, 12, 26, 70, 135, 117, 11, 61, 20, 3, 181, 42, 133, 158, 158, 157, 10, 204, 128, 41, 226, 149, 16, 21, 42, 38, 109, 140, 5, 56, 20, 64, 83, 197, 90, 64, 37, 21, 165, 160, 213, 149, 5, 13, 194, 139, 152, 42, 74, 48, 36, 169, 32, 58, 163, 176, 7, 106, 200, 192, 242, 140, 247, 207, 81, 70, 5, 85, 38, 186, 82, 53, 63, 41, 95, 252, 69, 223, 253, 197, 223, 255, 0, 61, 43, 12, 133, 213, 82, 237, 217, 184, 234, 164, 173, 247, 6, 92, 198, 230, 45, 97, 65, 231, 222, 115, 89, 145, 86, 56, 120, 252, 245, 175, 248, 150, 255, 0, 125, 105, 56, 164, 138, 76, 182, 186, 151, 87, 85, 34, 251, 23, 24, 67, 169, 71, 86, 86, 148, 34, 60, 50, 164, 31, 48, 248, 85, 86, 180, 204, 251, 197, 219, 123, 203, 22, 25, 97, 231, 157, 196, 7, 216, 45, 204, 245, 13, 183, 183, 74, 182, 203, 96, 165, 148, 177, 113, 218, 227, 105, 221, 28, 58, 5, 11, 117, 139, 54, 196, 63, 91, 112, 119, 65, 250, 203, 223, 13, 198, 244, 78, 166, 219, 239, 71, 91, 202, 90, 210, 35, 110, 123, 105, 59, 86, 219, 32, 30, 70, 24, 93, 162, 114, 167, 168, 165, 26, 176, 101, 75, 118, 129, 81, 111, 204, 170, 132, 189, 210, 68, 16, 112, 187, 64, 63, 88, 65, 81, 60, 217, 206, 35, 53, 79, 83, 120, 187, 179, 145, 27, 140, 192, 228, 163, 162, 143, 64, 32, 124, 43, 70, 237, 146, 237, 119, 155, 108, 182, 140, 197, 73, 35, 122, 42, 35, 177, 35, 152, 146, 254, 110, 185, 51, 89, 68, 85, 33, 51, 115, 232, 245, 203, 103, 201, 113, 138, 170, 151, 220, 123, 165, 244, 22, 152, 156, 125, 87, 22, 143, 248, 137, 233, 71, 164, 125, 165, 236, 220, 242, 135, 193, 156, 108, 184, 178, 21, 143, 160, 36, 171, 122, 49, 60, 192, 170, 92, 17, 84, 151, 87, 32, 43, 163, 33, 38, 72, 95, 43, 92, 13, 3, 156, 53, 181, 249, 214, 157, 205, 43, 60, 146, 63, 56, 131, 243, 128, 25, 222, 163, 149, 213, 251, 64, 172, 110, 34, 122, 63, 38, 49, 47, 214, 153, 81, 240, 139, 242, 107, 136, 90, 217, 28, 224, 48, 35, 170, 153, 7, 223, 235, 216, 154, 214, 26, 35, 225, 166, 101, 65, 37, 31, 48, 36, 249, 173, 184, 230, 176, 76, 207, 66, 199, 152, 96, 194, 247, 10, 212, 91, 91, 71, 124, 57, 27, 85, 85, 132, 237, 88, 36, 153, 231, 24, 0, 40, 49, 147, 241, 187, 166, 214, 248, 135, 101, 187, 106, 1, 25, 27, 68, 16, 6, 89, 191, 17, 17, 56, 207, 62, 108, 153, 29, 249, 225, 170, 138, 38, 225, 161, 174, 91, 107, 44, 50, 70, 251, 125, 70, 245, 25, 0, 140, 16, 194, 121, 117, 81, 92, 167, 137, 224, 94, 36, 242, 130, 49, 240, 63, 194, 189, 19, 132, 165, 139, 118, 218, 226, 148, 36, 72, 96, 187, 138, 130, 68, 24, 36, 144, 73, 4, 40, 131, 235, 142, 67, 150, 226, 182, 52, 215, 9, 32, 180, 147, 214, 32, 207, 80, 100, 255, 0, 10, 231, 197, 145, 108, 213, 58, 41, 174, 25, 183, 120, 252, 219, 216, 177, 156, 180, 142, 108, 210, 79, 203, 0, 126, 169, 61, 77, 103, 63, 16, 185, 136, 120, 32, 70, 7, 164, 116, 29, 141, 116, 122, 31, 163, 218, 102, 30, 102, 50, 126, 203, 43, 71, 169, 1, 137, 249, 3, 80, 241, 79, 163, 118, 237, 146, 36, 242, 29, 100, 114, 231, 35, 218, 39, 229, 91, 199, 46, 37, 45, 107, 252, 11, 89, 52, 81, 225, 250, 219, 137, 206, 227, 22, 59, 118, 196, 198, 79, 152, 48, 217, 230, 145, 142, 99, 227, 93, 46, 155, 86, 228, 29, 172, 173, 33, 247, 35, 110, 32, 130, 50, 83, 235, 9, 142, 93, 192, 137, 24, 28, 211, 112, 235, 101, 161, 1, 146, 112, 20, 49, 25, 228, 22, 90, 99, 167, 122, 186, 156, 49, 237, 41, 118, 82, 10, 227, 204, 96, 71, 95, 16, 76, 64, 232, 63, 149, 44, 138, 50, 232, 227, 104, 157, 184, 136, 14, 0, 182, 172, 112, 87, 219, 57, 34, 70, 14, 15, 62, 180, 38, 250, 61, 193, 145, 43, 30, 112, 90, 57, 147, 39, 112, 200, 150, 231, 207, 175, 161, 163, 170, 182, 153, 82, 84, 185, 59, 75, 224, 158, 219, 73, 223, 146, 122, 183, 62, 99, 53, 157, 113, 141, 177, 181, 32, 226, 73, 16, 121, 245, 193, 199, 60, 123, 253, 106, 161, 137, 53, 193, 54, 205, 221, 78, 174, 222, 230, 241, 24, 204, 17, 1, 45, 180, 48, 57, 50, 202, 72, 89, 153, 94, 243, 17, 81, 220, 226, 0, 32, 85, 112, 39, 186, 40, 48, 73, 198, 213, 17, 24, 7, 215, 29, 133, 98, 174, 177, 128, 18, 17, 163, 18, 214, 237, 49, 129, 128, 55, 50, 146, 96, 99, 38, 173, 47, 17, 91, 137, 177, 196, 109, 130, 160, 109, 69, 129, 62, 88, 80, 22, 70, 246, 32, 199, 214, 97, 153, 21, 79, 29, 18, 164, 79, 121, 201, 11, 231, 95, 103, 183, 233, 55, 165, 18, 56, 85, 203, 229, 114, 132, 2, 10, 153, 157, 189, 49, 57, 244, 51, 222, 129, 221, 97, 33, 126, 169, 228, 233, 143, 51, 118, 229, 238, 61, 232, 110, 233, 151, 251, 64, 235, 233, 188, 79, 196, 40, 36, 124, 69, 42, 69, 21, 220, 179, 190, 229, 101, 94, 114, 113, 2, 71, 152, 199, 104, 147, 30, 241, 85, 53, 164, 187, 22, 233, 128, 36, 137, 218, 138, 21, 103, 214, 20, 79, 172, 213, 203, 151, 44, 133, 40, 169, 112, 2, 65, 98, 90, 73, 142, 67, 208, 102, 99, 188, 118, 21, 80, 139, 29, 220, 127, 191, 117, 105, 31, 224, 205, 149, 13, 163, 220, 83, 126, 78, 222, 149, 105, 146, 207, 71, 127, 149, 64, 246, 237, 255, 0, 120, 255, 0, 229, 63, 141, 105, 100, 208, 151, 78, 222, 159, 58, 183, 166, 14, 188, 136, 206, 15, 34, 8, 236, 65, 193, 170, 66, 221, 191, 239, 15, 249, 13, 88, 178, 150, 254, 217, 249, 31, 194, 166, 67, 70, 182, 144, 150, 101, 220, 22, 85, 173, 144, 66, 168, 62, 218, 143, 170, 50, 51, 247, 10, 202, 113, 90, 252, 49, 45, 6, 150, 45, 180, 20, 44, 64, 146, 0, 184, 147, 3, 169, 170, 183, 236, 40, 39, 104, 104, 250, 164, 224, 149, 228, 12, 86, 81, 116, 217, 77, 25, 111, 241, 154, 140, 154, 190, 218, 121, 244, 248, 255, 0, 42, 143, 242, 25, 250, 234, 43, 91, 68, 83, 41, 22, 166, 99, 90, 73, 194, 103, 251, 84, 30, 242, 106, 95, 232, 2, 127, 182, 181, 243, 63, 133, 39, 52, 189, 99, 213, 152, 133, 169, 86, 201, 250, 60, 223, 223, 90, 63, 226, 165, 75, 241, 35, 247, 13, 95, 216, 230, 0, 162, 2, 152, 10, 145, 69, 106, 145, 138, 16, 20, 81, 78, 5, 56, 20, 202, 161, 5, 171, 58, 109, 49, 114, 64, 32, 109, 93, 196, 144, 199, 18, 171, 201, 65, 39, 44, 7, 46, 181, 0, 21, 111, 75, 170, 54, 195, 0, 160, 238, 219, 157, 206, 164, 109, 156, 2, 140, 48, 103, 151, 160, 161, 221, 112, 104, 127, 200, 79, 219, 95, 242, 95, 255, 0, 235, 169, 52, 154, 85, 223, 62, 42, 239, 82, 10, 133, 86, 157, 192, 200, 242, 186, 174, 232, 32, 13, 171, 44, 103, 2, 151, 244, 129, 251, 39, 254, 101, 239, 251, 233, 248, 142, 182, 219, 234, 60, 91, 118, 124, 36, 220, 141, 225, 135, 98, 101, 96, 183, 159, 12, 9, 32, 153, 28, 166, 167, 243, 62, 15, 133, 61, 70, 130, 237, 178, 81, 237, 58, 178, 225, 149, 145, 129, 24, 228, 65, 21, 123, 81, 114, 230, 235, 168, 25, 206, 219, 104, 70, 88, 182, 90, 208, 96, 91, 218, 97, 14, 194, 9, 140, 250, 84, 220, 99, 143, 120, 215, 158, 232, 182, 202, 28, 200, 83, 126, 243, 17, 128, 50, 219, 196, 242, 237, 233, 210, 179, 70, 180, 2, 88, 90, 0, 158, 100, 61, 208, 79, 188, 239, 161, 108, 210, 109, 7, 11, 28, 18, 215, 231, 86, 221, 203, 195, 76, 151, 38, 110, 189, 189, 225, 10, 171, 109, 32, 30, 77, 230, 42, 8, 34, 55, 86, 118, 174, 193, 66, 6, 229, 101, 42, 25, 89, 102, 25, 100, 137, 18, 1, 25, 12, 8, 35, 5, 77, 94, 227, 28, 78, 221, 229, 180, 18, 215, 134, 81, 54, 177, 241, 29, 197, 199, 159, 110, 31, 217, 247, 103, 223, 129, 77, 196, 120, 141, 171, 150, 108, 218, 183, 167, 91, 102, 216, 59, 238, 111, 102, 107, 140, 222, 211, 65, 194, 131, 0, 145, 158, 66, 8, 3, 45, 109, 119, 94, 255, 0, 2, 116, 81, 210, 188, 52, 19, 19, 34, 122, 2, 68, 9, 244, 239, 232, 77, 109, 232, 47, 141, 133, 110, 238, 2, 217, 218, 142, 162, 92, 79, 180, 155, 73, 1, 146, 9, 57, 97, 183, 119, 80, 219, 107, 158, 6, 182, 248, 77, 195, 117, 173, 233, 218, 217, 115, 190, 19, 105, 10, 210, 251, 87, 107, 18, 8, 43, 10, 185, 62, 200, 28, 224, 64, 114, 240, 113, 58, 33, 111, 79, 177, 118, 155, 138, 66, 7, 118, 42, 172, 161, 88, 2, 178, 55, 8, 102, 145, 1, 75, 115, 3, 161, 53, 115, 70, 246, 141, 166, 75, 111, 182, 115, 113, 157, 91, 115, 9, 133, 65, 176, 48, 3, 51, 180, 25, 60, 206, 4, 7, 227, 119, 244, 74, 190, 26, 220, 46, 234, 114, 249, 185, 111, 120, 80, 187, 157, 188, 134, 225, 0, 64, 32, 16, 7, 213, 146, 101, 184, 117, 141, 19, 19, 249, 246, 201, 194, 132, 120, 81, 56, 18, 64, 152, 239, 92, 18, 119, 27, 105, 155, 71, 210, 174, 182, 227, 37, 182, 240, 174, 238, 73, 18, 0, 112, 102, 7, 153, 131, 40, 129, 208, 26, 231, 46, 94, 121, 201, 51, 93, 214, 167, 128, 161, 243, 217, 212, 33, 35, 151, 152, 163, 246, 192, 48, 126, 85, 158, 252, 55, 82, 135, 119, 134, 14, 112, 225, 22, 39, 224, 0, 39, 212, 131, 79, 22, 104, 165, 254, 248, 57, 69, 179, 155, 210, 241, 75, 150, 206, 24, 214, 150, 163, 233, 53, 199, 104, 46, 138, 163, 150, 245, 220, 139, 238, 80, 140, 68, 250, 12, 245, 53, 62, 177, 204, 148, 212, 91, 12, 71, 214, 141, 183, 7, 199, 145, 29, 96, 68, 247, 172, 110, 33, 195, 128, 32, 219, 59, 149, 134, 225, 208, 246, 32, 142, 224, 224, 196, 142, 196, 136, 39, 100, 177, 201, 219, 68, 189, 151, 13, 93, 47, 27, 243, 0, 218, 139, 104, 167, 12, 109, 163, 219, 48, 127, 73, 108, 140, 122, 28, 85, 77, 117, 147, 109, 136, 184, 246, 148, 73, 32, 31, 24, 157, 161, 138, 204, 132, 201, 149, 34, 122, 251, 171, 16, 233, 92, 100, 169, 160, 213, 93, 220, 128, 17, 230, 80, 23, 112, 250, 202, 48, 161, 135, 117, 24, 7, 176, 81, 24, 154, 209, 99, 138, 119, 18, 28, 159, 201, 119, 83, 125, 195, 120, 155, 109, 186, 57, 32, 58, 151, 42, 173, 184, 18, 6, 237, 165, 92, 126, 144, 228, 100, 3, 131, 84, 214, 243, 76, 242, 128, 50, 12, 198, 6, 121, 212, 58, 59, 204, 133, 188, 187, 208, 129, 189, 12, 195, 44, 128, 50, 61, 150, 4, 225, 134, 65, 248, 131, 123, 250, 41, 192, 241, 109, 134, 116, 56, 66, 7, 156, 55, 34, 142, 163, 145, 92, 201, 228, 113, 28, 241, 91, 37, 198, 77, 216, 9, 46, 96, 115, 61, 38, 1, 29, 72, 39, 0, 115, 39, 181, 76, 214, 212, 129, 225, 239, 118, 30, 217, 0, 237, 201, 1, 118, 226, 115, 49, 158, 102, 172, 104, 44, 50, 163, 151, 82, 131, 244, 193, 95, 236, 175, 78, 217, 201, 247, 9, 169, 91, 136, 27, 105, 118, 221, 182, 62, 123, 118, 183, 183, 45, 219, 60, 61, 177, 215, 235, 19, 39, 51, 24, 4, 77, 41, 75, 180, 138, 94, 17, 54, 184, 219, 59, 45, 145, 229, 193, 104, 86, 220, 71, 50, 55, 3, 2, 102, 35, 167, 200, 25, 213, 155, 128, 77, 189, 211, 57, 77, 202, 199, 104, 147, 1, 124, 184, 6, 125, 154, 199, 0, 158, 95, 117, 95, 208, 235, 77, 178, 172, 142, 81, 215, 196, 243, 41, 32, 141, 246, 194, 8, 35, 226, 62, 52, 56, 165, 231, 162, 76, 27, 232, 176, 25, 73, 130, 72, 134, 137, 4, 5, 60, 199, 180, 60, 220, 241, 203, 144, 169, 86, 218, 175, 48, 206, 66, 135, 32, 97, 84, 50, 134, 18, 68, 146, 60, 194, 125, 152, 61, 77, 71, 166, 184, 35, 104, 230, 22, 241, 244, 131, 100, 129, 251, 166, 167, 212, 106, 173, 171, 191, 132, 236, 80, 218, 68, 5, 212, 43, 18, 17, 21, 134, 217, 49, 201, 196, 246, 161, 223, 128, 67, 119, 88, 203, 128, 136, 184, 6, 54, 6, 195, 0, 65, 155, 155, 143, 34, 58, 213, 64, 236, 237, 2, 73, 39, 1, 71, 50, 122, 5, 3, 238, 20, 181, 47, 188, 202, 201, 242, 160, 248, 170, 42, 159, 188, 26, 126, 25, 121, 146, 245, 182, 70, 42, 202, 232, 65, 4, 130, 14, 225, 200, 140, 211, 241, 11, 228, 158, 234, 91, 33, 77, 182, 114, 66, 3, 113, 92, 40, 59, 196, 151, 54, 202, 243, 182, 61, 124, 216, 39, 61, 43, 37, 195, 83, 216, 114, 84, 18, 100, 159, 28, 146, 78, 73, 54, 129, 50, 122, 154, 160, 94, 144, 51, 160, 211, 234, 237, 165, 199, 71, 82, 84, 6, 69, 42, 20, 182, 240, 64, 87, 109, 194, 74, 224, 146, 170, 71, 72, 61, 77, 29, 70, 160, 134, 34, 98, 9, 16, 9, 32, 65, 228, 9, 230, 42, 59, 26, 245, 15, 189, 144, 150, 234, 85, 128, 147, 30, 212, 21, 36, 60, 230, 84, 175, 46, 146, 102, 141, 199, 18, 96, 64, 232, 57, 192, 237, 61, 107, 52, 169, 141, 178, 216, 213, 31, 180, 126, 102, 166, 179, 172, 2, 119, 18, 113, 143, 49, 193, 239, 235, 252, 235, 29, 158, 146, 189, 105, 194, 118, 54, 70, 171, 212, 252, 205, 47, 202, 199, 83, 247, 159, 198, 179, 5, 201, 2, 70, 7, 80, 63, 109, 15, 137, 71, 7, 177, 164, 218, 165, 245, 249, 159, 198, 149, 102, 151, 165, 64, 108, 70, 180, 106, 40, 22, 164, 90, 164, 66, 8, 81, 1, 76, 40, 133, 50, 135, 165, 74, 154, 152, 196, 77, 9, 52, 230, 128, 208, 33, 153, 170, 50, 104, 141, 1, 164, 75, 24, 181, 52, 211, 26, 106, 86, 196, 56, 53, 173, 244, 111, 90, 45, 106, 109, 57, 5, 130, 184, 144, 177, 39, 112, 41, 130, 113, 245, 187, 143, 120, 230, 50, 105, 193, 166, 186, 169, 148, 153, 179, 197, 172, 53, 171, 175, 108, 199, 145, 221, 112, 225, 253, 134, 43, 18, 58, 202, 245, 0, 250, 9, 170, 169, 170, 101, 200, 53, 162, 186, 148, 213, 91, 85, 184, 64, 190, 131, 111, 136, 238, 16, 92, 89, 149, 46, 74, 144, 206, 7, 147, 36, 18, 54, 31, 54, 69, 70, 255, 0, 71, 239, 12, 248, 46, 20, 2, 75, 72, 50, 6, 101, 64, 92, 227, 253, 138, 74, 74, 169, 250, 95, 190, 1, 111, 139, 92, 229, 184, 215, 73, 244, 98, 243, 92, 186, 162, 66, 201, 0, 149, 57, 248, 21, 57, 39, 211, 249, 214, 78, 135, 232, 197, 251, 140, 34, 219, 34, 204, 121, 185, 136, 19, 144, 60, 220, 132, 147, 21, 213, 104, 146, 215, 13, 87, 185, 113, 129, 186, 17, 188, 53, 129, 253, 97, 16, 165, 126, 218, 130, 65, 39, 167, 92, 145, 92, 249, 181, 106, 163, 235, 46, 13, 250, 205, 13, 75, 173, 213, 27, 237, 239, 51, 0, 19, 231, 216, 160, 239, 37, 186, 228, 174, 99, 189, 94, 224, 188, 58, 195, 143, 45, 183, 73, 131, 180, 237, 97, 153, 231, 156, 143, 120, 174, 15, 143, 113, 103, 107, 136, 197, 188, 225, 45, 150, 35, 4, 63, 134, 172, 209, 24, 95, 49, 56, 17, 19, 210, 186, 31, 163, 220, 114, 226, 39, 137, 122, 243, 237, 30, 98, 75, 179, 249, 19, 218, 98, 9, 200, 4, 133, 3, 171, 56, 3, 172, 113, 228, 250, 121, 168, 38, 159, 244, 52, 83, 76, 217, 250, 79, 195, 236, 90, 88, 185, 118, 210, 98, 118, 58, 9, 34, 122, 4, 1, 249, 145, 200, 226, 188, 235, 85, 114, 194, 179, 1, 114, 192, 245, 75, 119, 158, 71, 160, 184, 172, 191, 120, 247, 214, 111, 21, 226, 30, 37, 199, 112, 54, 135, 118, 109, 163, 234, 238, 98, 209, 142, 211, 21, 146, 205, 93, 88, 240, 254, 28, 122, 217, 140, 229, 102, 197, 238, 40, 139, 2, 208, 99, 6, 65, 112, 170, 129, 185, 110, 91, 73, 141, 221, 137, 61, 121, 117, 170, 182, 184, 139, 134, 37, 188, 234, 202, 21, 145, 176, 172, 131, 146, 128, 48, 145, 205, 74, 198, 211, 203, 173, 80, 20, 74, 42, 226, 209, 14, 206, 205, 120, 61, 221, 45, 155, 26, 173, 59, 45, 207, 202, 26, 109, 162, 160, 123, 138, 162, 221, 208, 225, 211, 105, 82, 66, 179, 2, 71, 40, 39, 21, 207, 220, 188, 80, 249, 76, 74, 91, 19, 0, 227, 98, 30, 188, 140, 128, 103, 158, 42, 78, 20, 197, 85, 217, 73, 86, 251, 74, 72, 63, 212, 106, 122, 140, 212, 90, 171, 219, 72, 1, 87, 216, 73, 37, 67, 19, 249, 181, 251, 82, 7, 192, 10, 184, 167, 125, 232, 239, 132, 220, 74, 253, 196, 184, 64, 46, 152, 67, 181, 153, 228, 22, 69, 111, 172, 100, 123, 67, 246, 245, 138, 128, 113, 7, 218, 202, 199, 118, 238, 173, 36, 143, 113, 39, 31, 200, 30, 98, 142, 230, 178, 229, 221, 237, 113, 183, 182, 207, 105, 130, 150, 242, 237, 3, 205, 19, 129, 142, 124, 177, 89, 173, 87, 21, 202, 98, 108, 215, 210, 89, 34, 217, 187, 185, 54, 254, 117, 54, 238, 27, 228, 89, 102, 45, 179, 158, 200, 32, 110, 239, 138, 174, 77, 203, 87, 60, 232, 85, 134, 118, 186, 178, 145, 185, 100, 24, 48, 195, 4, 16, 113, 208, 138, 45, 41, 242, 15, 253, 127, 244, 69, 30, 167, 88, 37, 205, 203, 126, 37, 198, 75, 27, 29, 221, 229, 54, 219, 77, 199, 108, 197, 201, 16, 60, 220, 162, 149, 187, 24, 111, 173, 38, 211, 123, 65, 252, 64, 67, 171, 176, 80, 133, 26, 109, 139, 99, 202, 6, 229, 6, 71, 186, 169, 46, 190, 224, 62, 219, 24, 207, 152, 238, 18, 50, 12, 52, 137, 156, 205, 15, 229, 175, 4, 121, 99, 156, 108, 183, 18, 57, 99, 111, 251, 154, 109, 122, 129, 113, 192, 16, 3, 180, 1, 128, 4, 158, 148, 210, 248, 19, 102, 143, 10, 123, 155, 79, 134, 246, 208, 236, 212, 79, 136, 80, 2, 158, 26, 111, 85, 222, 8, 222, 86, 98, 51, 88, 204, 245, 123, 77, 236, 15, 118, 163, 253, 21, 172, 215, 53, 15, 150, 196, 250, 23, 137, 76, 94, 163, 13, 28, 196, 210, 84, 36, 19, 24, 21, 147, 155, 30, 161, 110, 164, 26, 129, 14, 68, 209, 177, 232, 14, 7, 95, 231, 73, 77, 134, 168, 144, 92, 49, 24, 3, 183, 120, 166, 154, 138, 148, 211, 220, 90, 146, 205, 42, 138, 105, 81, 184, 106, 88, 90, 145, 106, 37, 52, 96, 215, 74, 18, 36, 20, 98, 128, 26, 64, 211, 40, 58, 70, 154, 105, 166, 152, 8, 208, 181, 57, 52, 36, 210, 6, 11, 84, 102, 140, 154, 140, 210, 100, 8, 208, 211, 154, 26, 150, 192, 122, 64, 211, 83, 82, 216, 170, 11, 117, 32, 241, 203, 30, 236, 80, 19, 67, 52, 156, 218, 41, 68, 157, 238, 150, 50, 196, 177, 238, 198, 79, 204, 213, 141, 18, 120, 151, 21, 9, 128, 199, 204, 216, 242, 160, 203, 177, 62, 138, 24, 252, 43, 62, 106, 125, 46, 163, 99, 110, 137, 242, 186, 145, 49, 135, 70, 67, 159, 115, 26, 75, 40, 245, 53, 65, 123, 247, 139, 65, 5, 217, 156, 128, 11, 109, 83, 44, 216, 25, 33, 68, 224, 118, 169, 184, 239, 16, 27, 141, 171, 120, 68, 133, 62, 165, 36, 42, 146, 57, 133, 206, 122, 187, 92, 111, 172, 0, 168, 56, 193, 182, 10, 216, 79, 15, 112, 1, 157, 136, 123, 132, 3, 186, 3, 237, 1, 4, 133, 50, 170, 26, 84, 103, 21, 146, 94, 156, 178, 43, 21, 50, 102, 122, 16, 106, 41, 163, 83, 88, 203, 35, 99, 74, 137, 86, 136, 80, 41, 162, 6, 156, 24, 51, 91, 135, 251, 15, 241, 255, 0, 67, 83, 67, 119, 97, 1, 246, 185, 27, 81, 103, 10, 187, 149, 21, 72, 13, 13, 187, 32, 246, 168, 116, 90, 173, 184, 152, 150, 83, 186, 98, 2, 173, 197, 63, 85, 185, 135, 61, 15, 46, 70, 167, 191, 174, 73, 156, 185, 239, 0, 255, 0, 215, 119, 123, 31, 146, 251, 171, 79, 145, 114, 136, 237, 222, 89, 33, 109, 167, 152, 17, 230, 119, 24, 231, 204, 184, 3, 149, 74, 154, 91, 101, 151, 196, 87, 182, 132, 141, 206, 163, 122, 162, 146, 36, 133, 129, 56, 253, 47, 194, 161, 60, 80, 206, 1, 63, 172, 236, 127, 119, 104, 251, 169, 39, 16, 77, 219, 182, 144, 126, 208, 216, 78, 125, 66, 171, 255, 0, 214, 41, 244, 45, 7, 100, 0, 48, 100, 78, 162, 12, 68, 143, 11, 6, 58, 72, 233, 69, 224, 219, 109, 229, 217, 195, 37, 187, 37, 17, 19, 118, 249, 182, 129, 247, 60, 249, 0, 25, 146, 12, 211, 235, 56, 133, 178, 150, 194, 47, 152, 11, 190, 35, 73, 135, 55, 23, 98, 97, 134, 224, 85, 70, 101, 154, 123, 211, 93, 212, 160, 68, 12, 229, 188, 170, 98, 3, 237, 32, 68, 65, 109, 139, 28, 178, 165, 176, 123, 130, 93, 176, 225, 79, 125, 177, 202, 216, 63, 174, 236, 127, 115, 109, 94, 213, 105, 216, 177, 45, 102, 75, 29, 199, 195, 102, 230, 121, 224, 239, 129, 62, 157, 160, 199, 58, 223, 210, 49, 236, 171, 123, 183, 194, 252, 173, 170, 126, 218, 99, 196, 67, 123, 73, 49, 203, 42, 64, 255, 0, 152, 174, 126, 250, 27, 119, 255, 0, 69, 104, 150, 219, 47, 178, 187, 164, 46, 160, 144, 192, 8, 155, 36, 1, 130, 103, 217, 61, 189, 213, 145, 114, 183, 127, 164, 173, 236, 184, 25, 75, 59, 33, 84, 153, 5, 11, 16, 24, 231, 120, 43, 179, 112, 133, 41, 238, 237, 130, 230, 162, 79, 129, 242, 1, 167, 87, 32, 16, 14, 13, 9, 166, 174, 118, 49, 233, 230, 154, 149, 72, 15, 52, 166, 154, 149, 59, 1, 230, 149, 52, 210, 165, 96, 89, 6, 140, 26, 1, 68, 43, 189, 51, 52, 72, 13, 20, 212, 98, 158, 168, 100, 147, 76, 77, 13, 35, 64, 199, 38, 128, 154, 115, 66, 104, 16, 36, 211, 19, 73, 168, 77, 75, 98, 21, 53, 35, 77, 89, 49, 164, 53, 35, 74, 152, 210, 178, 198, 38, 154, 145, 165, 80, 202, 67, 26, 84, 169, 84, 148, 34, 105, 166, 154, 149, 33, 4, 40, 129, 161, 20, 244, 128, 48, 104, 247, 84, 66, 158, 132, 201, 100, 155, 169, 139, 208, 83, 26, 189, 216, 169, 5, 186, 155, 117, 13, 42, 55, 97, 65, 238, 165, 186, 130, 149, 61, 216, 245, 65, 110, 165, 186, 134, 149, 45, 152, 80, 123, 168, 73, 166, 165, 73, 201, 136, 99, 74, 145, 165, 80, 2, 165, 74, 149, 0, 42, 106, 122, 99, 72, 5, 74, 149, 42, 64, 127, 255, 217]\n"
     ]
    }
   ],
   "source": [
    "# Reading image files into binary format\n",
    "with open('download.jfif', 'rb') as file:\n",
    "    data = file.read()# Binary data\n",
    "\n",
    "# Print the first 5 bytes of the image data\n",
    "for i in range(5):\n",
    "    byte = data[i]\n",
    "    print(f\"Byte {i}: {byte} (hex: {byte:02X}, binary: {bin(byte)[2:].zfill(8)})\")\n",
    "    \n",
    "# creating a list of image array\n",
    "image_array = []\n",
    "for i in range(len(data)):\n",
    "    image_array.append((data[i]))\n",
    "    \n",
    "# printing image data array \n",
    "print(image_array)"
   ]
  },
  {
   "cell_type": "markdown",
   "id": "70c53d0c",
   "metadata": {},
   "source": [
    "These pixel values represent the intensity of each pixel. In grayscale images, a pixel value of 0 represents black, and 255 represents white.where this array consist of number is stored as an 8-bit integer giving a range of possible values from 0 to 255. Values in between make up the different shades of gray."
   ]
  },
  {
   "cell_type": "markdown",
   "id": "ad743dc2",
   "metadata": {},
   "source": [
    "## Exception Handling"
   ]
  },
  {
   "cell_type": "code",
   "execution_count": 28,
   "id": "360e0889",
   "metadata": {},
   "outputs": [
    {
     "name": "stdout",
     "output_type": "stream",
     "text": [
      "The result of 10 divided by 2 is: 5.0\n",
      "Function Executed\n",
      "Error: Cannot divide by zero.\n",
      "Function Executed\n",
      "Error: Invalid operand types.\n",
      "Function Executed\n",
      "Error: Invalid operand types.\n",
      "Function Executed\n"
     ]
    }
   ],
   "source": [
    "# example 1\n",
    "# function definition\n",
    "def divide_numbers(a, b):\n",
    "    try:\n",
    "        result = a / b\n",
    "        print(f\"The result of {a} divided by {b} is: {result}\")\n",
    "    except ZeroDivisionError:\n",
    "        print(\"Error: Cannot divide by zero.\")\n",
    "    except TypeError:\n",
    "        print(\"Error: Invalid operand types.\")\n",
    "    except Exception as e:\n",
    "        print(\"An error occurred:\", str(e))\n",
    "        \n",
    "    finally:\n",
    "        print(\"Function Executed\")\n",
    "\n",
    "# driver code\n",
    "divide_numbers(10, 2)  # Valid division\n",
    "divide_numbers(10, 0)  # Division by zero error\n",
    "divide_numbers(10, \"2\")  # Type error\n",
    "divide_numbers(10, [])  # Other exceptions"
   ]
  },
  {
   "cell_type": "code",
   "execution_count": 29,
   "id": "993fa121",
   "metadata": {},
   "outputs": [
    {
     "name": "stdout",
     "output_type": "stream",
     "text": [
      "File not found.\n"
     ]
    }
   ],
   "source": [
    "# example 2\n",
    "# function definition\n",
    "def file_load(filename:object)-> str:\n",
    "    \"\"\"Returns multilines string.\"\"\"\n",
    "    \n",
    "    try:\n",
    "        file = open(filename, \"r\")\n",
    "        content = file.read()\n",
    "        file.close()\n",
    "        \n",
    "        return content\n",
    "        \n",
    "    except FileNotFoundError:\n",
    "        print(\"File not found.\")\n",
    "    except PermissionError:\n",
    "        print(\"Permission denied.\")\n",
    "    except Exception as e:\n",
    "        print(\"An error occurred:\", str(e))\n",
    "\n",
    "filename = \"nonexistent.txt\"\n",
    "file_load(filename)"
   ]
  },
  {
   "cell_type": "markdown",
   "id": "f307decc",
   "metadata": {},
   "source": [
    "## Object-Oriented Programming\n",
    "Object-Oriented Programming (OOP) is a programming paradigm that organizes code into objects, which are instances of classes. It focuses on encapsulating data and behavior into reusable and modular components. \n",
    "\n",
    "* Class: A class is a blueprint or template that defines the structure and behavior of objects. It encapsulates data (attributes) and functions (methods) that operate on that data. It serves as a blueprint for creating instances of objects.\n",
    "\n",
    "* Object: An object is an instance of a class. It represents a specific entity or concept. Objects have their own state (values of attributes) and behavior (methods)."
   ]
  },
  {
   "cell_type": "code",
   "execution_count": 30,
   "id": "4a79a32a",
   "metadata": {},
   "outputs": [
    {
     "name": "stdout",
     "output_type": "stream",
     "text": [
      "Tata\n",
      "Amaze\n",
      "The Tata Nexon engine is starting.\n",
      "The Honda Amaze engine is starting.\n"
     ]
    }
   ],
   "source": [
    "# class definition\n",
    "class Car:\n",
    "    def __init__(self, make, model):\n",
    "        self.make = make\n",
    "        self.model = model\n",
    "\n",
    "    def start_engine(self):\n",
    "        print(f\"The {self.make} {self.model} engine is starting.\")\n",
    "\n",
    "# Creating objects\n",
    "car1 = Car(\"Tata\", \"Nexon\")\n",
    "car2 = Car(\"Honda\", \"Amaze\")\n",
    "\n",
    "# Accessing attributes\n",
    "print(car1.make)  # Output: Toyota\n",
    "print(car2.model)  # Output: Accord\n",
    "\n",
    "# Calling methods\n",
    "car1.start_engine()  # Output: The Toyota Camry engine is starting.\n",
    "car2.start_engine()  # Output: The Honda Accord engine is starting.\n"
   ]
  },
  {
   "cell_type": "markdown",
   "id": "0c08a909",
   "metadata": {},
   "source": [
    "## Encapsulation\n",
    "* Encapsulation: Encapsulation is the concept of bundling data and methods together within a class. It provides the mechanism to hide internal implementation details and expose only relevant information to the outside world. It helps in achieving data integrity and code organization."
   ]
  },
  {
   "cell_type": "code",
   "execution_count": 31,
   "id": "843bad95",
   "metadata": {},
   "outputs": [
    {
     "name": "stdout",
     "output_type": "stream",
     "text": [
      "Account Number: 123456789\n",
      "Balance: 10000\n",
      "Balance after deposit: 15000\n",
      "Balance after withdrawal: 13000\n"
     ]
    }
   ],
   "source": [
    "# class definition\n",
    "class BankAccount:\n",
    "    def __init__(self, account_number, balance):\n",
    "        self.__account_number = account_number  # Private attribute\n",
    "        self.__balance = balance  # Private attribute\n",
    "\n",
    "    def get_account_number(self):\n",
    "        return self.__account_number\n",
    "\n",
    "    def get_balance(self):\n",
    "        return self.__balance\n",
    "\n",
    "    def deposit(self, amount):\n",
    "        if amount > 0:\n",
    "            self.__balance += amount\n",
    "        else:\n",
    "            print(\"Invalid deposit amount.\")\n",
    "\n",
    "    def withdraw(self, amount):\n",
    "        if amount > 0 and amount <= self.__balance:\n",
    "            self.__balance -= amount\n",
    "        else:\n",
    "            print(\"Invalid withdrawal amount or insufficient balance.\")\n",
    "\n",
    "\n",
    "# driver code\n",
    "account = BankAccount(\"123456789\", 10000)\n",
    "\n",
    "print(\"Account Number:\", account.get_account_number())\n",
    "print(\"Balance:\", account.get_balance())\n",
    "\n",
    "account.deposit(5000)\n",
    "print(\"Balance after deposit:\", account.get_balance())\n",
    "\n",
    "account.withdraw(2000)\n",
    "print(\"Balance after withdrawal:\", account.get_balance())\n"
   ]
  },
  {
   "cell_type": "markdown",
   "id": "a16292f2",
   "metadata": {},
   "source": [
    "## Inheritance\n",
    "* Inheritance: Inheritance is the process by which one class acquires the properties (attributes and methods) of another class. It allows the creation of a hierarchy of classes, with each derived class inheriting and extending the characteristics of its parent class. Inheritance promotes code reuse and supports the \"is-a\" relationship between classes."
   ]
  },
  {
   "cell_type": "code",
   "execution_count": 32,
   "id": "a72f142e",
   "metadata": {},
   "outputs": [
    {
     "name": "stdout",
     "output_type": "stream",
     "text": [
      "Name of Student is Rachit More and age is 25 and branch is Mechanical Engineeering\n",
      "Study in XYZ college located at Bhopal \n",
      "and affiliated by RGPV (Bhopal)\n",
      "\n",
      "Name of College is XYZ and located at Bhopal \n",
      "              and affiliated by RGPV (Bhopal)\n",
      "\n",
      "Name of university is RGPV and it is located at Bhopal\n"
     ]
    }
   ],
   "source": [
    "# # class definition\n",
    "class University:\n",
    "    def __init__(self, universityName, universityLocation):\n",
    "        self.universityName = universityName\n",
    "        self.universityLocation = universityLocation\n",
    "\n",
    "    def University_info(self):\n",
    "        print(f\"Name of university is {self.universityName} and it is located at {self.universityLocation}\")\n",
    "\n",
    "# class definition\n",
    "class College(University):\n",
    "    def __init__(self, collegeName, collegeLocation, universityName, universityLocation):\n",
    "        super().__init__(universityName, universityLocation)\n",
    "        self.collegeName = collegeName\n",
    "        self.collegeLocation = collegeLocation\n",
    "        \n",
    "    def College_info(self):\n",
    "        print(f\"\"\"Name of College is {self.collegeName} and located at {self.collegeLocation} \n",
    "              and affiliated by {self.universityName} ({self.universityLocation})\"\"\")\n",
    "# class definition\n",
    "class Student(College):\n",
    "    def __init__(self, name, age, branch, collegeName, collegeLocation, universityName, universityLocation):\n",
    "        super().__init__(collegeName, collegeLocation, universityName, universityLocation)\n",
    "        self.name = name\n",
    "        self.age = age\n",
    "        self.branch = branch\n",
    "        \n",
    "    def info(self):\n",
    "        print(f\"\"\"Name of Student is {self.name} and age is {self.age} and branch is {self.branch}\n",
    "Study in {self.collegeName} college located at {self.collegeLocation} \n",
    "and affiliated by {self.universityName} ({self.universityLocation})\"\"\")\n",
    "\n",
    "\n",
    "# driver code\n",
    "obj = Student(name=\"Rachit More\", age=25, branch=\"Mechanical Engineeering\", collegeName=\"XYZ\", collegeLocation=\"Bhopal\", universityName=\"RGPV\", universityLocation=\"Bhopal\")\n",
    "\n",
    "#finding the information of student\n",
    "obj.info()\n",
    "print(\"\")\n",
    "\n",
    "#finding the information of college\n",
    "obj.College_info()\n",
    "print(\"\")\n",
    "\n",
    "#finding the information of university\n",
    "obj.University_info()"
   ]
  },
  {
   "cell_type": "markdown",
   "id": "79da6b65",
   "metadata": {},
   "source": [
    "## Polymorphism\n",
    "* Polymorphism: Polymorphism allows objects of different classes to be treated as interchangeable entities, as long as they share a common interface or base class. It allows methods to be overridden in subclasses, enabling different implementations for the same method signature. Polymorphism promotes code flexibility and extensibility.\n"
   ]
  },
  {
   "cell_type": "code",
   "execution_count": 33,
   "id": "4920e186",
   "metadata": {},
   "outputs": [
    {
     "name": "stdout",
     "output_type": "stream",
     "text": [
      "BubbleSort:\n",
      "[1, 2, 3, 5, 7, 9]\n",
      "QuickSort:\n",
      "[1, 2, 3, 5, 7, 9]\n",
      "MergeSort:\n",
      "[1, 2, 3, 5, 7, 9]\n"
     ]
    }
   ],
   "source": [
    "# # class definition\n",
    "class SortingAlgorithm:\n",
    "    def sort(self, data):\n",
    "        raise NotImplementedError(\"Subclass must implement sort() method\")\n",
    "\n",
    "# Creating Bubble sorting algorithm class\n",
    "class BubbleSort(SortingAlgorithm):\n",
    "    def sort(self, arr):\n",
    "        n = len(arr)\n",
    "\n",
    "        # Traverse through all array elements\n",
    "        for i in range(n):\n",
    "            # Last i elements are already in place\n",
    "            for j in range(0, n-i-1):\n",
    "                # Swap adjacent elements if they are in the wrong order\n",
    "                if arr[j] > arr[j+1]:\n",
    "                    arr[j], arr[j+1] = arr[j+1], arr[j]\n",
    "\n",
    "        return  arr\n",
    "    \n",
    "    def info(self):\n",
    "        return \"BubbleSort:\"\n",
    "    \n",
    "\n",
    "# Creating Quick sorting algorithm class\n",
    "class QuickSort(SortingAlgorithm):\n",
    "        \n",
    "    def sort(self, arr):\n",
    "        if len(arr) <= 1:\n",
    "            return arr\n",
    "\n",
    "        else:\n",
    "            pivot = arr[0]\n",
    "            smaller = [x for x in arr[1:] if x <= pivot]\n",
    "            greater = [x for x in arr[1:] if x > pivot]\n",
    "\n",
    "            return self.sort(smaller) + [pivot] + self.sort(greater)\n",
    "        \n",
    "    def info(self):\n",
    "        return \"QuickSort:\"\n",
    "\n",
    "# Creating merge sorting algorithm class\n",
    "class MergeSort(SortingAlgorithm):\n",
    "    def sort(self, arr):\n",
    "        if len(arr) <= 1:\n",
    "            return arr\n",
    "\n",
    "        mid = len(arr) // 2\n",
    "        left_half = arr[:mid]\n",
    "        right_half = arr[mid:]\n",
    "\n",
    "        left_half = self.sort(left_half)\n",
    "        right_half = self.sort(right_half)\n",
    "\n",
    "        return self.merge(left_half, right_half)\n",
    "\n",
    "    def merge(self, left, right):\n",
    "        result = []\n",
    "        left_idx, right_idx = 0, 0\n",
    "\n",
    "        while left_idx < len(left) and right_idx < len(right):\n",
    "            if left[left_idx] < right[right_idx]:\n",
    "                result.append(left[left_idx])\n",
    "                left_idx += 1\n",
    "            else:\n",
    "                result.append(right[right_idx])\n",
    "                right_idx += 1\n",
    "\n",
    "        result.extend(left[left_idx:])\n",
    "        result.extend(right[right_idx:])\n",
    "\n",
    "        return result\n",
    "    \n",
    "    def info(self):\n",
    "        return \"MergeSort:\"\n",
    "    \n",
    "\n",
    "# driver code\n",
    "data = [7, 2, 5, 1, 9, 3]\n",
    "\n",
    "sorting_algorithms = [BubbleSort(), QuickSort(), MergeSort()]\n",
    "\n",
    "for algorithm in sorting_algorithms:\n",
    "    print(algorithm.info())\n",
    "    print(algorithm.sort(data))"
   ]
  },
  {
   "cell_type": "markdown",
   "id": "8e1af69b",
   "metadata": {},
   "source": [
    "## Abstraction\n",
    "* Abstraction: Abstraction is the process of simplifying complex systems by focusing on the essential features while hiding unnecessary details. In OOP, abstraction is achieved through abstract classes and interfaces, which provide a way to define common behaviors without specifying their exact implementation. Abstract classes cannot be instantiated, and they serve as a base for concrete classes."
   ]
  },
  {
   "cell_type": "code",
   "execution_count": 34,
   "id": "92c12c2d",
   "metadata": {},
   "outputs": [
    {
     "name": "stdout",
     "output_type": "stream",
     "text": [
      "Processing payment via Stripe: Rs: 100\n",
      "Refunding payment via Stripe: T12345\n",
      "Processing payment via PayPal: Rs: 200\n",
      "Refunding payment via PayPal: T56787\n"
     ]
    }
   ],
   "source": [
    "from abc import ABC, abstractmethod\n",
    "# Payment Gateway\n",
    "# function definition\n",
    "class PaymentGateway(ABC):\n",
    "    @abstractmethod\n",
    "    def process_payment(self, amount):\n",
    "        pass\n",
    "\n",
    "    @abstractmethod\n",
    "    def refund_payment(self, transaction_id):\n",
    "        pass\n",
    "\n",
    "class StripeGateway(PaymentGateway):\n",
    "    def process_payment(self, amount):\n",
    "        print(f\"Processing payment via Stripe: Rs: {amount}\")\n",
    "\n",
    "    def refund_payment(self, transaction_id):\n",
    "        print(f\"Refunding payment via Stripe: {transaction_id}\")\n",
    "\n",
    "class PayPalGateway(PaymentGateway):\n",
    "    def process_payment(self, amount):\n",
    "        print(f\"Processing payment via PayPal: Rs: {amount}\")\n",
    "\n",
    "    def refund_payment(self, transaction_id):\n",
    "        print(f\"Refunding payment via PayPal: {transaction_id}\")\n",
    "\n",
    "# driver code:\n",
    "stripe_gateway = StripeGateway()\n",
    "stripe_gateway.process_payment(100)\n",
    "stripe_gateway.refund_payment(\"T12345\")\n",
    "\n",
    "paypal_gateway = PayPalGateway()\n",
    "paypal_gateway.process_payment(200)\n",
    "paypal_gateway.refund_payment(\"T56787\")\n"
   ]
  },
  {
   "cell_type": "markdown",
   "id": "11d8ab4e",
   "metadata": {},
   "source": [
    "## Association\n",
    "* Association: Association represents a relationship between two or more classes. It describes how objects from different classes interact with each other. Associations can be one-to-one, one-to-many, or many-to-many, and they are often implemented through attributes or method parameters."
   ]
  },
  {
   "cell_type": "code",
   "execution_count": 35,
   "id": "a4b4280d",
   "metadata": {},
   "outputs": [
    {
     "name": "stdout",
     "output_type": "stream",
     "text": [
      "School: ABC School\n",
      "Enrolled Students:\n",
      "Name: John, Grade: 5\n",
      "Name: Alice, Grade: 6\n",
      "Name: Bob, Grade: 5\n"
     ]
    }
   ],
   "source": [
    "# class definition\n",
    "class School:\n",
    "    def __init__(self, name):\n",
    "        self.name = name\n",
    "        self.students = []\n",
    "\n",
    "    def enroll_student(self, student):\n",
    "        self.students.append(student)\n",
    "\n",
    "# class definition\n",
    "class Student:\n",
    "    def __init__(self, name, grade):\n",
    "        self.name = name\n",
    "        self.grade = grade\n",
    "\n",
    "# driver code\n",
    "# Create school object\n",
    "school = School(\"ABC School\")\n",
    "\n",
    "# Create student objects\n",
    "student1 = Student(\"John\", 5)\n",
    "student2 = Student(\"Alice\", 6)\n",
    "student3 = Student(\"Bob\", 5)\n",
    "\n",
    "# Enroll students in the school\n",
    "school.enroll_student(student1)\n",
    "school.enroll_student(student2)\n",
    "school.enroll_student(student3)\n",
    "\n",
    "# Print the school name and enrolled students\n",
    "print(f\"School: {school.name}\")\n",
    "print(\"Enrolled Students:\")\n",
    "for student in school.students:\n",
    "    print(f\"Name: {student.name}, Grade: {student.grade}\")\n"
   ]
  },
  {
   "cell_type": "markdown",
   "id": "dfc33bc4",
   "metadata": {},
   "source": [
    "## Composition\n",
    "* Composition: Composition is a strong form of association where one class contains objects of another class as part of its own structure. The composed objects cannot exist independently, and their lifecycle is tied to the lifecycle of the containing class. Composition allows the creation of complex objects by combining simpler objects."
   ]
  },
  {
   "cell_type": "code",
   "execution_count": 36,
   "id": "5e39a385",
   "metadata": {},
   "outputs": [
    {
     "name": "stdout",
     "output_type": "stream",
     "text": [
      "Class is in session at ABC School.\n",
      "Alice is studying.\n",
      "Bob is studying.\n",
      "Charlie is studying.\n"
     ]
    }
   ],
   "source": [
    "# class definition\n",
    "class Student:\n",
    "    def __init__(self, name):\n",
    "        self.name = name\n",
    "\n",
    "    def study(self):\n",
    "        print(f\"{self.name} is studying.\")\n",
    "\n",
    "# class definition\n",
    "class School:\n",
    "    def __init__(self, name):\n",
    "        self.name = name\n",
    "        self.students = []\n",
    "\n",
    "    def enroll_student(self, student):\n",
    "        self.students.append(student)\n",
    "\n",
    "    def conduct_class(self):\n",
    "        print(f\"Class is in session at {self.name}.\")\n",
    "        for student in self.students:\n",
    "            student.study()\n",
    "\n",
    "# driver code\n",
    "# Create student objects\n",
    "student1 = Student(\"Alice\")\n",
    "student2 = Student(\"Bob\")\n",
    "student3 = Student(\"Charlie\")\n",
    "\n",
    "# Create school object\n",
    "school = School(\"ABC School\")\n",
    "\n",
    "# Enroll students in the school\n",
    "school.enroll_student(student1)\n",
    "school.enroll_student(student2)\n",
    "school.enroll_student(student3)\n",
    "\n",
    "# Conduct a class in the school\n",
    "school.conduct_class()\n"
   ]
  },
  {
   "cell_type": "markdown",
   "id": "371a3ef0",
   "metadata": {},
   "source": [
    "## Aggregation\n",
    "* Aggregation: Aggregation is a form of association where one class represents a part of the other class, but the part can exist independently. The aggregated objects have their own lifecycle and can exist outside the scope of the containing class. Aggregation represents a \"has-a\" relationship between classes."
   ]
  },
  {
   "cell_type": "code",
   "execution_count": 37,
   "id": "579f290d",
   "metadata": {},
   "outputs": [
    {
     "name": "stdout",
     "output_type": "stream",
     "text": [
      "Departments of ABC University: Computer Science, Electrical Engineering\n"
     ]
    }
   ],
   "source": [
    "# class definition\n",
    "class Department:\n",
    "    def __init__(self, name):\n",
    "        self.name = name\n",
    "\n",
    "    def get_department_name(self):\n",
    "        return self.name\n",
    "\n",
    "# class definition\n",
    "class University:\n",
    "    def __init__(self, name):\n",
    "        self.name = name\n",
    "        self.departments = []\n",
    "\n",
    "    def add_department(self, department):\n",
    "        self.departments.append(department)\n",
    "\n",
    "    def get_departments(self):\n",
    "        return [department.get_department_name() for department in self.departments]\n",
    "\n",
    "# driver code\n",
    "# Create department objects\n",
    "dept1 = Department(\"Computer Science\")\n",
    "dept2 = Department(\"Electrical Engineering\")\n",
    "\n",
    "# Create university object\n",
    "university = University(\"ABC University\")\n",
    "\n",
    "# Add departments to the university\n",
    "university.add_department(dept1)\n",
    "university.add_department(dept2)\n",
    "\n",
    "# Get the departments of the university\n",
    "departments = university.get_departments()\n",
    "print(f\"Departments of {university.name}: {', '.join(departments)}\")\n"
   ]
  },
  {
   "cell_type": "markdown",
   "id": "aa3dd94b",
   "metadata": {},
   "source": [
    "## Decorator in class"
   ]
  },
  {
   "cell_type": "code",
   "execution_count": 38,
   "id": "cafd7edd",
   "metadata": {},
   "outputs": [
    {
     "name": "stdout",
     "output_type": "stream",
     "text": [
      "Calling method: add\n",
      "Method add executed\n",
      "5\n"
     ]
    }
   ],
   "source": [
    "# decorator definition\n",
    "def debug_methods(cls):\n",
    "    for name, value in vars(cls).items():\n",
    "        if callable(value):\n",
    "            setattr(cls, name, debug_method(value))\n",
    "    return cls\n",
    "\n",
    "def debug_method(func):\n",
    "    def wrapper(*args, **kwargs):\n",
    "        print(f\"Calling method: {func.__name__}\")\n",
    "        result = func(*args, **kwargs)\n",
    "        print(f\"Method {func.__name__} executed\")\n",
    "        return result\n",
    "    return wrapper\n",
    "\n",
    "@debug_methods\n",
    "class Calculator:\n",
    "    def add(self, a, b):\n",
    "        return a + b\n",
    "\n",
    "    def subtract(self, a, b):\n",
    "        return a - b\n",
    "\n",
    "# driver code\n",
    "calc = Calculator()\n",
    "print(calc.add(2, 3))  # Output: Calling method: add, Method add executed, 5\n"
   ]
  },
  {
   "cell_type": "markdown",
   "id": "2c81f184",
   "metadata": {},
   "source": [
    "## Static methods\n",
    "Static methods are defined using the @staticmethod decorator, which indicates that the following method should be treated as a static method. The decorator is placed above the method definition.\n",
    "\n",
    "Static methods do not have access to the instance-specific data or the instance itself. They are self-contained and can be used without any instance-related context. They are useful for grouping related utility functions within a class or when a method doesn't require access to instance-specific data."
   ]
  },
  {
   "cell_type": "code",
   "execution_count": 39,
   "id": "90821012",
   "metadata": {},
   "outputs": [
    {
     "name": "stderr",
     "output_type": "stream",
     "text": [
      "2023-07-08 22:31:53,225 - INFO - This is an informational message\n",
      "2023-07-08 22:31:53,227 - ERROR - This is an error message\n"
     ]
    }
   ],
   "source": [
    "import logging\n",
    "# class definition\n",
    "class Logger:\n",
    "    FORMAT = \"%(asctime)s - %(levelname)s - %(message)s\"\n",
    "\n",
    "    @staticmethod\n",
    "    def log_info(message):\n",
    "        logging.basicConfig(format=Logger.FORMAT, level=logging.INFO)\n",
    "        logging.info(message)\n",
    "\n",
    "    @staticmethod\n",
    "    def log_error(message):\n",
    "        logging.basicConfig(format=Logger.FORMAT, level=logging.ERROR)\n",
    "        logging.error(message)\n",
    "\n",
    "# driver code\n",
    "Logger.log_info(\"This is an informational message\")\n",
    "Logger.log_error(\"This is an error message\")\n"
   ]
  },
  {
   "cell_type": "markdown",
   "id": "c115a97b",
   "metadata": {},
   "source": [
    "## Dunder methods\n",
    "Dunder methods are special methods in Python that allow classes to define their behavior for built-in operations or syntax. They are called \"magic methods\" because they add special behavior to the objects of a class, making them behave like built-in types or supporting specific operations."
   ]
  },
  {
   "cell_type": "code",
   "execution_count": 40,
   "id": "5764166b",
   "metadata": {},
   "outputs": [
    {
     "name": "stdout",
     "output_type": "stream",
     "text": [
      "(1, 2)\n",
      "(4, 6)\n",
      "False\n",
      "True\n"
     ]
    }
   ],
   "source": [
    "# class definition\n",
    "class Point:\n",
    "    def __init__(self, x, y):\n",
    "        self.x = x\n",
    "        self.y = y\n",
    "    \n",
    "    def __str__(self):\n",
    "        return f\"({self.x}, {self.y})\"\n",
    "    \n",
    "    def __add__(self, other):\n",
    "        if isinstance(other, Point):\n",
    "            return Point(self.x + other.x, self.y + other.y)\n",
    "        else:\n",
    "            raise TypeError(\"Unsupported operand type: Point and {}\".format(type(other)))\n",
    "    \n",
    "    def __eq__(self, other):\n",
    "        if isinstance(other, Point):\n",
    "            return self.x == other.x and self.y == other.y\n",
    "        else:\n",
    "            return False\n",
    "\n",
    "# driver code\n",
    "# Create two Point objects\n",
    "p1 = Point(1, 2)\n",
    "p2 = Point(3, 4)\n",
    "\n",
    "# Test the __str__ method\n",
    "print(p1)  # Output: (1, 2)\n",
    "\n",
    "# Test the __add__ method\n",
    "p3 = p1 + p2\n",
    "print(p3)  # Output: (4, 6)\n",
    "\n",
    "# Test the __eq__ method\n",
    "print(p1 == p2)  # Output: False\n",
    "print(p1 == Point(1, 2))  # Output: True\n"
   ]
  },
  {
   "cell_type": "markdown",
   "id": "fca64548",
   "metadata": {},
   "source": [
    "## Generators and Iterators"
   ]
  },
  {
   "cell_type": "code",
   "execution_count": 41,
   "id": "b1fe2cce",
   "metadata": {},
   "outputs": [
    {
     "name": "stdout",
     "output_type": "stream",
     "text": [
      "0\n",
      "1\n",
      "2\n",
      "3\n",
      "4\n",
      "\n",
      "0\n",
      "1\n",
      "1\n",
      "2\n",
      "3\n"
     ]
    }
   ],
   "source": [
    "# Iterators\n",
    "# function definition\n",
    "class NumberIterator:\n",
    "    def __init__(self, limit):\n",
    "        self.limit = limit\n",
    "        self.current = 0\n",
    "\n",
    "    def __iter__(self):\n",
    "        return self\n",
    "\n",
    "    def __next__(self):\n",
    "        if self.current < self.limit:\n",
    "            number = self.current\n",
    "            self.current += 1\n",
    "            return number\n",
    "        else:\n",
    "            raise StopIteration\n",
    "\n",
    "# driver code\n",
    "# Using the custom iterator\n",
    "iterator = NumberIterator(5)\n",
    "for num in iterator:\n",
    "    print(num)\n",
    "print(\"\")\n",
    "\n",
    "# Generators\n",
    "# function definition\n",
    "def fibonacci_generator():\n",
    "    a, b = 0, 1\n",
    "    while True:\n",
    "        yield a\n",
    "        a, b = b, a + b\n",
    "\n",
    "# driver code\n",
    "# Using the generator\n",
    "fib_gen = fibonacci_generator()\n",
    "for _ in range(5):\n",
    "    print(next(fib_gen))"
   ]
  },
  {
   "cell_type": "markdown",
   "id": "a5a8945c",
   "metadata": {},
   "source": [
    "## Regular expression\n",
    "A regular expression (regex) is a sequence of characters that defines a search pattern. It is a powerful tool used for pattern matching, searching, and manipulating text. Regular expressions are supported in various programming languages and text editors."
   ]
  },
  {
   "cell_type": "markdown",
   "id": "e015b130",
   "metadata": {},
   "source": [
    "## Implementation of OOPS and Regular Expression"
   ]
  },
  {
   "cell_type": "code",
   "execution_count": 42,
   "id": "59a07252",
   "metadata": {},
   "outputs": [],
   "source": [
    "import re\n",
    "# class definition\n",
    "class Validate:\n",
    "    def __init__(self, username, email, phone, date):\n",
    "        self.username = username\n",
    "        self.email = email\n",
    "        self.phone = phone\n",
    "        self.date = date\n",
    "        \n",
    "    def info(self):\n",
    "        return self.username,self.email,self.phone,self.date\n",
    "                \n",
    "    # Validating email addresses\n",
    "    def validate_email(self):\n",
    "        pattern = r\"^[a-zA-Z0-9_.+-]+@[a-zA-Z0-9-]+\\.[a-zA-Z0-9-.]+$\"\n",
    "        result = re.match(pattern, self.email)\n",
    "        if result:\n",
    "            return True\n",
    "        else:\n",
    "            print(self.email,\"Invalid email\")\n",
    "            print(self.info())\n",
    "            return False\n",
    "\n",
    "    # Extracting phone numbers\n",
    "    def validate_phone_numbers(self):\n",
    "        pattern = r\"\\d{3}-\\d{3}-\\d{4}\"\n",
    "        result = re.findall(pattern, self.phone)\n",
    "        if result:\n",
    "            return True\n",
    "        else:\n",
    "            print(self.phone,\"Invalid phone\")\n",
    "            print(self.info())\n",
    "            return False\n",
    "\n",
    "    # Data validation\n",
    "    def validate_username(self):\n",
    "        pattern = r\"^[a-zA-Z0-9_ ]+$\"\n",
    "        result = re.match(pattern, self.username)\n",
    "        if result:\n",
    "            return True\n",
    "        else:\n",
    "            print(self.username,\"Invalid username\")\n",
    "            print(self.info())\n",
    "            return False\n",
    "\n",
    "\n",
    "    # Data extraction\n",
    "    def validate_dates(self):\n",
    "        pattern = r\"\\d{1,2}[/-]\\d{1,2}[/-]\\d{2,4}\"\n",
    "        result = re.findall(pattern, self.date)\n",
    "        if result:\n",
    "            return True\n",
    "        else:\n",
    "            print(self.date,\"Invalid dates\")\n",
    "            print(self.info())\n",
    "            return False\n",
    "    \n",
    "    # Data extraction\n",
    "    def data_validate(self):\n",
    "        if self.validate_username() and self.validate_email() and self.validate_phone_numbers() and self.validate_dates():\n",
    "            return True\n",
    "        else:\n",
    "            print(\"Something Went Worng\")\n",
    "            return False"
   ]
  },
  {
   "cell_type": "code",
   "execution_count": 43,
   "id": "236168fe",
   "metadata": {},
   "outputs": [
    {
     "name": "stdout",
     "output_type": "stream",
     "text": [
      "098-765-432 Invalid phone\n",
      "('krish', 'krish@example.com', '098-765-432', '15/06/2023')\n",
      "Something Went Worng\n",
      "Please enter valid details.\n",
      "\n",
      "All Students:\n",
      "Name: rachit\n",
      "Roll Number: 1001\n",
      "Email: rachitmore@gmail.com\n",
      "Enrolled Date: 08/07/2023\n",
      "Phone Number: 123-456-7890\n",
      "\n",
      "Name: Sunny\n",
      "Roll Number: 1002\n",
      "Email: sunny@example.com\n",
      "Enrolled Date: 10/02/2023\n",
      "Phone Number: 123-456-0789\n",
      "\n",
      "Search by Roll Number:\n",
      "Name: Sunny\n",
      "Roll Number: 1002\n",
      "Email: sunny@example.com\n",
      "Enrolled Date: 10/02/2023\n",
      "Phone Number: 123-456-0789\n",
      "\n",
      "Search by Name:\n",
      "No students found with the given name.\n",
      "Remove Student:\n",
      "Student not found.\n",
      "All Students after removal:\n",
      "Name: rachit\n",
      "Roll Number: 1001\n",
      "Email: rachitmore@gmail.com\n",
      "Enrolled Date: 08/07/2023\n",
      "Phone Number: 123-456-7890\n",
      "\n",
      "Name: Sunny\n",
      "Roll Number: 1002\n",
      "Email: sunny@example.com\n",
      "Enrolled Date: 10/02/2023\n",
      "Phone Number: 123-456-0789\n",
      "\n"
     ]
    }
   ],
   "source": [
    "# class definition\n",
    "class Student:\n",
    "    def __init__(self, name, roll_number, email, enrolled_date, phone_number):\n",
    "        self.name = name\n",
    "        self.roll_number = roll_number\n",
    "        self.email = email\n",
    "        self.enrolled_date = enrolled_date\n",
    "        self.phone_number = phone_number\n",
    "        \n",
    "    \n",
    "    def display(self):\n",
    "        print(f\"Name: {self.name}\")\n",
    "        print(f\"Roll Number: {self.roll_number}\")\n",
    "        print(f\"Email: {self.email}\")\n",
    "        print(f\"Enrolled Date: {self.enrolled_date}\")\n",
    "        print(f\"Phone Number: {self.phone_number}\")\n",
    "        print()\n",
    "\n",
    "# class definition\n",
    "class StudentManagementSystem(Validate):\n",
    "    def __init__(self):\n",
    "        self.students = []\n",
    "      # Initialize the parent class with empty values\n",
    "        \n",
    "    def add_student(self, name, roll_number, email, enrolled_date, phone_number):\n",
    "        super().__init__(name, email, phone_number, enrolled_date)# initializing the super class\n",
    "        if super().data_validate():# Checking Validation of data\n",
    "            student = Student(name, roll_number, email, enrolled_date, phone_number)\n",
    "            self.students.append(student)\n",
    "            \n",
    "        else:\n",
    "            print(\"Please enter valid details.\\n\")\n",
    "    \n",
    "    def display_all_students(self):\n",
    "        for student in self.students:\n",
    "            student.display()\n",
    "    \n",
    "    def search_student_by_roll_number(self, roll_number):\n",
    "        for student in self.students:\n",
    "            if student.roll_number == roll_number:\n",
    "                student.display()\n",
    "                return\n",
    "        print(\"Student not found.\")\n",
    "    \n",
    "    def search_students_by_name(self, name):\n",
    "        matching_students = []\n",
    "        for student in self.students:\n",
    "            if re.search(name, student.name, re.IGNORECASE):\n",
    "                matching_students.append(student)\n",
    "        \n",
    "        if matching_students:\n",
    "            for student in matching_students:\n",
    "                student.display()\n",
    "        else:\n",
    "            print(\"No students found with the given name.\")\n",
    "    \n",
    "    def remove_student(self, roll_number):\n",
    "        for student in self.students:\n",
    "            if student.roll_number == roll_number:\n",
    "                self.students.remove(student)\n",
    "                print(f\"Student with roll number {roll_number} removed.\")\n",
    "                return\n",
    "        print(\"Student not found.\")\n",
    "\n",
    "# driver code:\n",
    "# Create the student management system\n",
    "sms = StudentManagementSystem()\n",
    "\n",
    "# Add students\n",
    "sms.add_student(\"rachit\", \"1001\", \"rachitmore@gmail.com\", \"08/07/2023\", \"123-456-7890\")\n",
    "sms.add_student(\"Sunny\", \"1002\", \"sunny@example.com\", \"10/02/2023\", \"123-456-0789\")\n",
    "sms.add_student(\"krish\", \"1003\", \"krish@example.com\", \"15/06/2023\", \"098-765-432\")\n",
    "\n",
    "# Display all students\n",
    "print(\"All Students:\")\n",
    "sms.display_all_students()\n",
    "\n",
    "# Search for a student by roll number\n",
    "print(\"Search by Roll Number:\")\n",
    "sms.search_student_by_roll_number(\"1002\")\n",
    "\n",
    "# Search for students by name\n",
    "print(\"Search by Name:\")\n",
    "sms.search_students_by_name(\"b\")\n",
    "\n",
    "# Remove a student\n",
    "print(\"Remove Student:\")\n",
    "sms.remove_student(\"1003\")\n",
    "\n",
    "# Display all students after removal\n",
    "print(\"All Students after removal:\")\n",
    "sms.display_all_students()"
   ]
  },
  {
   "cell_type": "code",
   "execution_count": null,
   "id": "a13c3ecd",
   "metadata": {},
   "outputs": [],
   "source": []
  }
 ],
 "metadata": {
  "kernelspec": {
   "display_name": "Python 3 (ipykernel)",
   "language": "python",
   "name": "python3"
  },
  "language_info": {
   "codemirror_mode": {
    "name": "ipython",
    "version": 3
   },
   "file_extension": ".py",
   "mimetype": "text/x-python",
   "name": "python",
   "nbconvert_exporter": "python",
   "pygments_lexer": "ipython3",
   "version": "3.9.16"
  }
 },
 "nbformat": 4,
 "nbformat_minor": 5
}
