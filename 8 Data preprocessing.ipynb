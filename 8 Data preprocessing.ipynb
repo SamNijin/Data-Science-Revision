{
 "cells": [
  {
   "cell_type": "markdown",
   "id": "2608fb20",
   "metadata": {},
   "source": [
    "# Data preprocessing\n",
    "Data preprocessing refers to the steps taken to prepare and clean raw data before it can be used for analysis or machine learning algorithms. It involves transforming and organizing the data in a way that makes it suitable for further processing and analysis."
   ]
  },
  {
   "cell_type": "code",
   "execution_count": 1,
   "id": "0b356a06",
   "metadata": {},
   "outputs": [],
   "source": [
    "# importing libraries\n",
    "import numpy as np\n",
    "import pandas as pd\n",
    "import seaborn as sns\n",
    "import matplotlib.pyplot as plt\n",
    "import statistics as stats\n",
    "\n",
    "%matplotlib inline"
   ]
  },
  {
   "cell_type": "markdown",
   "id": "5afb2ca8",
   "metadata": {},
   "source": [
    "## Data Cleaning\n",
    "Data cleaning is an essential step in data preprocessing, aimed at handling missing values, removing duplicates, and addressing errors or outliers in the dataset. "
   ]
  },
  {
   "cell_type": "markdown",
   "id": "d70d2a3d",
   "metadata": {},
   "source": [
    "### Handling Missing Values"
   ]
  },
  {
   "cell_type": "markdown",
   "id": "88a264fa",
   "metadata": {},
   "source": [
    "#### Removing rows or columns with missing values"
   ]
  },
  {
   "cell_type": "code",
   "execution_count": 2,
   "id": "996ab9ca",
   "metadata": {},
   "outputs": [],
   "source": [
    "data = pd.DataFrame({\n",
    "    'Feature1': [1, 2, np.nan, 4, 5, 6, 8, 11, 32, 10],\n",
    "    'Feature2': [6, 10, 15, 30, 25, 21, 30, 42, 31, 51],\n",
    "    'Feature3': [6, 7, 8, np.nan, 10, 6, 8, 11, np.nan, 15],\n",
    "    'Feature4': [11, 12, 13, 14, 15, 7, 8, 11, 10, 30]\n",
    "})"
   ]
  },
  {
   "cell_type": "code",
   "execution_count": 3,
   "id": "3425a7c8",
   "metadata": {},
   "outputs": [
    {
     "name": "stdout",
     "output_type": "stream",
     "text": [
      "Original Data :\n",
      "    Feature1  Feature2  Feature3  Feature4\n",
      "0       1.0         6       6.0        11\n",
      "1       2.0        10       7.0        12\n",
      "2       NaN        15       8.0        13\n",
      "3       4.0        30       NaN        14\n",
      "4       5.0        25      10.0        15\n",
      "5       6.0        21       6.0         7\n",
      "6       8.0        30       8.0         8\n",
      "7      11.0        42      11.0        11\n",
      "8      32.0        31       NaN        10\n",
      "9      10.0        51      15.0        30\n",
      "Remove rows with missing values :\n",
      "    Feature1  Feature2  Feature3  Feature4\n",
      "0       1.0         6       6.0        11\n",
      "1       2.0        10       7.0        12\n",
      "4       5.0        25      10.0        15\n",
      "5       6.0        21       6.0         7\n",
      "6       8.0        30       8.0         8\n",
      "7      11.0        42      11.0        11\n",
      "9      10.0        51      15.0        30\n",
      "Remove columns with missing values :\n",
      "    Feature2  Feature4\n",
      "0         6        11\n",
      "1        10        12\n",
      "2        15        13\n",
      "3        30        14\n",
      "4        25        15\n",
      "5        21         7\n",
      "6        30         8\n",
      "7        42        11\n",
      "8        31        10\n",
      "9        51        30\n"
     ]
    }
   ],
   "source": [
    "print(\"Original Data :\\n\",data)\n",
    "\n",
    "# Remove rows with missing values\n",
    "row_removed_data = data.dropna(axis=0)\n",
    "print(\"Remove rows with missing values :\\n\",row_removed_data)\n",
    "\n",
    "# Remove columns with missing values\n",
    "col_removed_data = data.dropna(axis=1)\n",
    "print(\"Remove columns with missing values :\\n\",col_removed_data)\n"
   ]
  },
  {
   "cell_type": "markdown",
   "id": "cd8f7de1",
   "metadata": {},
   "source": [
    "#### Filling missing values with mean, median, or mode"
   ]
  },
  {
   "cell_type": "code",
   "execution_count": 4,
   "id": "7f5425c2",
   "metadata": {},
   "outputs": [
    {
     "name": "stdout",
     "output_type": "stream",
     "text": [
      "Original Data :\n",
      "    Feature1  Feature2  Feature3  Feature4\n",
      "0       1.0         6       6.0        11\n",
      "1       2.0        10       7.0        12\n",
      "2       NaN        15       8.0        13\n",
      "3       4.0        30       NaN        14\n",
      "4       5.0        25      10.0        15\n",
      "5       6.0        21       6.0         7\n",
      "6       8.0        30       8.0         8\n",
      "7      11.0        42      11.0        11\n",
      "8      32.0        31       NaN        10\n",
      "9      10.0        51      15.0        30\n",
      "\n",
      "Filled numerical missing values with mean :\n",
      "     Feature1  Feature2  Feature3  Feature4\n",
      "0   1.000000         6     6.000        11\n",
      "1   2.000000        10     7.000        12\n",
      "2   8.777778        15     8.000        13\n",
      "3   4.000000        30     8.875        14\n",
      "4   5.000000        25    10.000        15\n",
      "5   6.000000        21     6.000         7\n",
      "6   8.000000        30     8.000         8\n",
      "7  11.000000        42    11.000        11\n",
      "8  32.000000        31     8.875        10\n",
      "9  10.000000        51    15.000        30\n",
      "\n",
      "Filled numerical missing values with median :\n",
      "    Feature1  Feature2  Feature3  Feature4\n",
      "0       1.0         6       6.0        11\n",
      "1       2.0        10       7.0        12\n",
      "2       6.0        15       8.0        13\n",
      "3       4.0        30       8.0        14\n",
      "4       5.0        25      10.0        15\n",
      "5       6.0        21       6.0         7\n",
      "6       8.0        30       8.0         8\n",
      "7      11.0        42      11.0        11\n",
      "8      32.0        31       8.0        10\n",
      "9      10.0        51      15.0        30\n",
      "\n",
      "Filled numerical missing values with mode :\n",
      "    Feature1  Feature2  Feature3  Feature4\n",
      "0       1.0         6       6.0        11\n",
      "1       2.0        10       7.0        12\n",
      "2       1.0        15       8.0        13\n",
      "3       4.0        30      11.0        14\n",
      "4       5.0        25      10.0        15\n",
      "5       6.0        21       6.0         7\n",
      "6       8.0        30       8.0         8\n",
      "7      11.0        42      11.0        11\n",
      "8      32.0        31      11.0        10\n",
      "9      10.0        51      15.0        30\n"
     ]
    }
   ],
   "source": [
    "print(\"Original Data :\\n\",data)\n",
    "\n",
    "# Fill numerical missing values with mean\n",
    "filled_mean_data = data.fillna(data.mean())\n",
    "print(\"\\nFilled numerical missing values with mean :\\n\",filled_mean_data)\n",
    "\n",
    "# Fill numerical missing values with median\n",
    "filled_median_data = data.fillna(data.median())\n",
    "print(\"\\nFilled numerical missing values with median :\\n\",filled_median_data)\n",
    "\n",
    "# Fill categorical missing values with mode\n",
    "filled_mode_feature1 = data[\"Feature1\"].fillna(stats.mode(data[\"Feature1\"]))\n",
    "filled_mode_feature2 = data[\"Feature2\"].fillna(stats.mode(data[\"Feature2\"]))\n",
    "filled_mode_feature3 = data[\"Feature3\"].fillna(stats.mode(data[\"Feature4\"]))\n",
    "filled_mode_feature4 = data[\"Feature4\"].fillna(stats.mode(data[\"Feature4\"]))\n",
    "filled_mode_data = pd.concat([filled_mode_feature1,filled_mode_feature2,filled_mode_feature3,filled_mode_feature4],axis=1)\n",
    "print(\"\\nFilled numerical missing values with mode :\\n\",filled_mode_data)"
   ]
  },
  {
   "cell_type": "markdown",
   "id": "657cefb9",
   "metadata": {},
   "source": [
    "#### Forward filling or backward filling missing values"
   ]
  },
  {
   "cell_type": "code",
   "execution_count": 5,
   "id": "0672d1ee",
   "metadata": {},
   "outputs": [
    {
     "name": "stdout",
     "output_type": "stream",
     "text": [
      "Original Dataset :\n",
      "    Feature1  Feature2  Feature3  Feature4\n",
      "0       1.0         6       6.0        11\n",
      "1       2.0        10       7.0        12\n",
      "2       NaN        15       8.0        13\n",
      "3       4.0        30       NaN        14\n",
      "4       5.0        25      10.0        15\n",
      "5       6.0        21       6.0         7\n",
      "6       8.0        30       8.0         8\n",
      "7      11.0        42      11.0        11\n",
      "8      32.0        31       NaN        10\n",
      "9      10.0        51      15.0        30\n",
      "\n",
      "Forward Filled Dataset :\n",
      "    Feature1  Feature2  Feature3  Feature4\n",
      "0       1.0         6       6.0        11\n",
      "1       2.0        10       7.0        12\n",
      "2       2.0        15       8.0        13\n",
      "3       4.0        30       8.0        14\n",
      "4       5.0        25      10.0        15\n",
      "5       6.0        21       6.0         7\n",
      "6       8.0        30       8.0         8\n",
      "7      11.0        42      11.0        11\n",
      "8      32.0        31      11.0        10\n",
      "9      10.0        51      15.0        30\n",
      "\n",
      "Backward Filled Dataset :\n",
      "    Feature1  Feature2  Feature3  Feature4\n",
      "0       1.0         6       6.0        11\n",
      "1       2.0        10       7.0        12\n",
      "2       4.0        15       8.0        13\n",
      "3       4.0        30      10.0        14\n",
      "4       5.0        25      10.0        15\n",
      "5       6.0        21       6.0         7\n",
      "6       8.0        30       8.0         8\n",
      "7      11.0        42      11.0        11\n",
      "8      32.0        31      15.0        10\n",
      "9      10.0        51      15.0        30\n"
     ]
    }
   ],
   "source": [
    "# Forward filling missing values\n",
    "data_ffill = data.ffill()\n",
    "\n",
    "# Backward filling missing values\n",
    "data_bfill = data.bfill()\n",
    "\n",
    "# Print the original dataset\n",
    "print(\"Original Dataset :\\n\",data)\n",
    "\n",
    "\n",
    "# Print the dataset after forward filling missing values\n",
    "print(\"\\nForward Filled Dataset :\\n\",data_ffill)\n",
    "\n",
    "\n",
    "# Print the dataset after backward filling missing values\n",
    "print(\"\\nBackward Filled Dataset :\\n\",data_bfill)\n",
    "\n"
   ]
  },
  {
   "cell_type": "markdown",
   "id": "a96c1cb2",
   "metadata": {},
   "source": [
    "#### Replacing missing values with specific values"
   ]
  },
  {
   "cell_type": "code",
   "execution_count": 6,
   "id": "b3bfab06",
   "metadata": {},
   "outputs": [
    {
     "name": "stdout",
     "output_type": "stream",
     "text": [
      "Original Dataset :\n",
      "    Feature1  Feature2  Feature3  Feature4\n",
      "0       1.0         6       6.0        11\n",
      "1       2.0        10       7.0        12\n",
      "2       NaN        15       8.0        13\n",
      "3       4.0        30       NaN        14\n",
      "4       5.0        25      10.0        15\n",
      "5       6.0        21       6.0         7\n",
      "6       8.0        30       8.0         8\n",
      "7      11.0        42      11.0        11\n",
      "8      32.0        31       NaN        10\n",
      "9      10.0        51      15.0        30\n",
      "\n",
      "Replace missing numerical values with -999 :\n",
      "    Feature1  Feature2  Feature3  Feature4\n",
      "0       1.0         6       6.0        11\n",
      "1       2.0        10       7.0        12\n",
      "2    -999.0        15       8.0        13\n",
      "3       4.0        30    -999.0        14\n",
      "4       5.0        25      10.0        15\n",
      "5       6.0        21       6.0         7\n",
      "6       8.0        30       8.0         8\n",
      "7      11.0        42      11.0        11\n",
      "8      32.0        31    -999.0        10\n",
      "9      10.0        51      15.0        30\n",
      "\n",
      "Replace missing categorical values with 'Unknown' :\n",
      "   Feature1  Feature2 Feature3  Feature4\n",
      "0      1.0         6      6.0        11\n",
      "1      2.0        10      7.0        12\n",
      "2  Unknown        15      8.0        13\n",
      "3      4.0        30  Unknown        14\n",
      "4      5.0        25     10.0        15\n",
      "5      6.0        21      6.0         7\n",
      "6      8.0        30      8.0         8\n",
      "7     11.0        42     11.0        11\n",
      "8     32.0        31  Unknown        10\n",
      "9     10.0        51     15.0        30\n"
     ]
    }
   ],
   "source": [
    "# Print the original dataset\n",
    "print(\"Original Dataset :\\n\",data)\n",
    "\n",
    "# Replace missing numerical values with -999\n",
    "replacing_999 = data.fillna(-999)\n",
    "print(\"\\nReplace missing numerical values with -999 :\\n\",replacing_999)\n",
    "\n",
    "# Replace missing categorical values with 'Unknown'\n",
    "replacing_unknown = data.fillna('Unknown')\n",
    "print(\"\\nReplace missing categorical values with 'Unknown' :\\n\",replacing_unknown)\n"
   ]
  },
  {
   "cell_type": "markdown",
   "id": "e8be3785",
   "metadata": {},
   "source": [
    "#### Using interpolation for filling missing values"
   ]
  },
  {
   "cell_type": "code",
   "execution_count": 7,
   "id": "edf84336",
   "metadata": {},
   "outputs": [
    {
     "name": "stdout",
     "output_type": "stream",
     "text": [
      "Original Dataset :\n",
      "    Feature1  Feature2  Feature3  Feature4\n",
      "0       1.0         6       6.0        11\n",
      "1       2.0        10       7.0        12\n",
      "2       NaN        15       8.0        13\n",
      "3       4.0        30       NaN        14\n",
      "4       5.0        25      10.0        15\n",
      "5       6.0        21       6.0         7\n",
      "6       8.0        30       8.0         8\n",
      "7      11.0        42      11.0        11\n",
      "8      32.0        31       NaN        10\n",
      "9      10.0        51      15.0        30\n",
      "\n",
      "Interpolate missing numerical values :\n",
      "    Feature1  Feature2  Feature3  Feature4\n",
      "0       1.0         6       6.0        11\n",
      "1       2.0        10       7.0        12\n",
      "2       3.0        15       8.0        13\n",
      "3       4.0        30       9.0        14\n",
      "4       5.0        25      10.0        15\n",
      "5       6.0        21       6.0         7\n",
      "6       8.0        30       8.0         8\n",
      "7      11.0        42      11.0        11\n",
      "8      32.0        31      13.0        10\n",
      "9      10.0        51      15.0        30\n"
     ]
    }
   ],
   "source": [
    "# Print the original dataset\n",
    "print(\"Original Dataset :\\n\",data)\n",
    "\n",
    "# Interpolate missing numerical values\n",
    "data_interpolated = data.interpolate()\n",
    "print(\"\\nInterpolate missing numerical values :\\n\",data_interpolated)\n"
   ]
  },
  {
   "cell_type": "markdown",
   "id": "017a0770",
   "metadata": {},
   "source": [
    "#### Multiple imputation using fancyimpute library"
   ]
  },
  {
   "cell_type": "code",
   "execution_count": 8,
   "id": "5ce47b4a",
   "metadata": {},
   "outputs": [
    {
     "name": "stdout",
     "output_type": "stream",
     "text": [
      "(CVXPY) Jul 17 11:15:31 PM: Encountered unexpected exception importing solver CVXOPT:\n",
      "ImportError('DLL load failed while importing base: The specified module could not be found.')\n",
      "(CVXPY) Jul 17 11:15:31 PM: Encountered unexpected exception importing solver GLPK:\n",
      "ImportError('DLL load failed while importing base: The specified module could not be found.')\n",
      "(CVXPY) Jul 17 11:15:31 PM: Encountered unexpected exception importing solver GLPK_MI:\n",
      "ImportError('DLL load failed while importing base: The specified module could not be found.')\n",
      "Original Dataset:\n",
      "     A    B    C\n",
      "0  1.0  NaN  1.0\n",
      "1  NaN  2.0  2.0\n",
      "2  3.0  3.0  NaN\n",
      "3  NaN  NaN  NaN\n",
      "4  5.0  5.0  5.0\n",
      "\n",
      "Imputed Dataset:\n",
      "          A         B         C\n",
      "0  1.000000  1.000063  1.000000\n",
      "1  1.999852  2.000000  2.000000\n",
      "2  3.000000  3.000000  3.000014\n",
      "3  2.749963  2.750016  2.750004\n",
      "4  5.000000  5.000000  5.000000\n"
     ]
    }
   ],
   "source": [
    "from fancyimpute import IterativeImputer\n",
    "\n",
    "# Create sample dataset with missing values\n",
    "data = pd.DataFrame({\n",
    "    'A': [1, np.nan, 3, np.nan, 5],\n",
    "    'B': [np.nan, 2, 3, np.nan, 5],\n",
    "    'C': [1, 2, np.nan, np.nan, 5]\n",
    "})\n",
    "\n",
    "# Perform multiple imputation\n",
    "imputer = IterativeImputer()\n",
    "data_imputed = imputer.fit_transform(data)\n",
    "\n",
    "# Convert the imputed array back to a DataFrame\n",
    "data_imputed = pd.DataFrame(data_imputed, columns=data.columns)\n",
    "\n",
    "# Print the original dataset\n",
    "print(\"Original Dataset:\")\n",
    "print(data)\n",
    "\n",
    "# Print the imputed dataset\n",
    "print(\"\\nImputed Dataset:\")\n",
    "print(data_imputed)\n"
   ]
  },
  {
   "cell_type": "markdown",
   "id": "a8180819",
   "metadata": {},
   "source": [
    "#### Filling missing values using predictive models"
   ]
  },
  {
   "cell_type": "code",
   "execution_count": 9,
   "id": "dfad7d5b",
   "metadata": {},
   "outputs": [
    {
     "name": "stdout",
     "output_type": "stream",
     "text": [
      "Original Dataset :\n",
      "      A    B    C\n",
      "0  1.0  NaN  1.0\n",
      "1  NaN  2.0  2.0\n",
      "2  3.0  3.0  NaN\n",
      "3  NaN  NaN  NaN\n",
      "4  5.0  5.0  5.0\n",
      "\n",
      "[SoftImpute] Max Singular Value of X_init = 9.703555\n",
      "[SoftImpute] Iter 1: observed MAE=0.092302 rank=3\n",
      "[SoftImpute] Iter 2: observed MAE=0.092414 rank=3\n",
      "[SoftImpute] Iter 3: observed MAE=0.092508 rank=3\n",
      "[SoftImpute] Iter 4: observed MAE=0.092584 rank=3\n",
      "[SoftImpute] Iter 5: observed MAE=0.092639 rank=3\n",
      "[SoftImpute] Iter 6: observed MAE=0.092673 rank=3\n",
      "[SoftImpute] Iter 7: observed MAE=0.092684 rank=3\n",
      "[SoftImpute] Iter 8: observed MAE=0.092669 rank=3\n",
      "[SoftImpute] Iter 9: observed MAE=0.092627 rank=3\n",
      "[SoftImpute] Iter 10: observed MAE=0.092554 rank=3\n",
      "[SoftImpute] Iter 11: observed MAE=0.092447 rank=3\n",
      "[SoftImpute] Iter 12: observed MAE=0.092301 rank=3\n",
      "[SoftImpute] Iter 13: observed MAE=0.092111 rank=3\n",
      "[SoftImpute] Iter 14: observed MAE=0.091870 rank=3\n",
      "[SoftImpute] Iter 15: observed MAE=0.091569 rank=3\n",
      "[SoftImpute] Iter 16: observed MAE=0.091195 rank=3\n",
      "[SoftImpute] Iter 17: observed MAE=0.090387 rank=2\n",
      "[SoftImpute] Iter 18: observed MAE=0.083420 rank=2\n",
      "[SoftImpute] Iter 19: observed MAE=0.079818 rank=2\n",
      "[SoftImpute] Iter 20: observed MAE=0.077962 rank=2\n",
      "[SoftImpute] Iter 21: observed MAE=0.076999 rank=2\n",
      "[SoftImpute] Iter 22: observed MAE=0.076488 rank=2\n",
      "[SoftImpute] Iter 23: observed MAE=0.076205 rank=2\n",
      "[SoftImpute] Iter 24: observed MAE=0.076038 rank=2\n",
      "[SoftImpute] Iter 25: observed MAE=0.075932 rank=2\n",
      "[SoftImpute] Iter 26: observed MAE=0.075862 rank=2\n",
      "[SoftImpute] Iter 27: observed MAE=0.075822 rank=2\n",
      "[SoftImpute] Iter 28: observed MAE=0.075458 rank=1\n",
      "[SoftImpute] Iter 29: observed MAE=0.069518 rank=1\n",
      "[SoftImpute] Iter 30: observed MAE=0.067249 rank=1\n",
      "[SoftImpute] Iter 31: observed MAE=0.066347 rank=1\n",
      "[SoftImpute] Iter 32: observed MAE=0.065973 rank=1\n",
      "[SoftImpute] Iter 33: observed MAE=0.065812 rank=1\n",
      "[SoftImpute] Stopped after iteration 33 for lambda=0.194071\n",
      "\n",
      "Imputed Dataset:\n",
      "          A         B        C\n",
      "0  1.000000  0.977734  1.00000\n",
      "1  1.949875  2.000000  2.00000\n",
      "2  3.000000  3.000000  2.90091\n",
      "3 -0.000000 -0.000000 -0.00000\n",
      "4  5.000000  5.000000  5.00000\n"
     ]
    }
   ],
   "source": [
    "from fancyimpute import SoftImpute\n",
    "\n",
    "# Create sample dataset with missing values\n",
    "data = pd.DataFrame({\n",
    "    'A': [1, np.nan, 3, np.nan, 5],\n",
    "    'B': [np.nan, 2, 3, np.nan, 5],\n",
    "    'C': [1, 2, np.nan, np.nan, 5]\n",
    "})\n",
    "\n",
    "# Print the original dataset\n",
    "print(\"Original Dataset :\\n\",data)\n",
    "print(\"\")\n",
    "\n",
    "# Perform matrix completion using SoftImpute\n",
    "imputer = SoftImpute()\n",
    "data_imputed = imputer.fit_transform(data)\n",
    "\n",
    "# Convert the imputed array back to a DataFrame\n",
    "data_imputed = pd.DataFrame(data_imputed, columns=data.columns)\n",
    "\n",
    "# Print the imputed dataset\n",
    "print(\"\\nImputed Dataset:\")\n",
    "print(data_imputed)\n"
   ]
  },
  {
   "cell_type": "markdown",
   "id": "331dd889",
   "metadata": {},
   "source": [
    "#### Filling missing values using K-nearest neighbors (KNN) imputation"
   ]
  },
  {
   "cell_type": "code",
   "execution_count": 10,
   "id": "13b246a1",
   "metadata": {},
   "outputs": [
    {
     "name": "stdout",
     "output_type": "stream",
     "text": [
      "Original Dataset :\n",
      "      A    B    C\n",
      "0  1.0  NaN  1.0\n",
      "1  NaN  2.0  2.0\n",
      "2  3.0  3.0  NaN\n",
      "3  NaN  NaN  NaN\n",
      "4  5.0  5.0  5.0\n",
      "\n",
      "Imputing row 1/5 with 1 missing, elapsed time: 0.001\n",
      "[KNN] Warning: 3/15 still missing after imputation, replacing with 0\n",
      "Filling missing values using K-nearest neighbors (KNN) imputation :\n",
      " [[1.         2.33333333 1.        ]\n",
      " [2.15789468 2.         2.        ]\n",
      " [3.         3.         2.33333333]\n",
      " [0.         0.         0.        ]\n",
      " [5.         5.         5.        ]]\n"
     ]
    }
   ],
   "source": [
    "from fancyimpute import KNN\n",
    "\n",
    "# Print the original dataset\n",
    "print(\"Original Dataset :\\n\",data)\n",
    "print(\"\")\n",
    "\n",
    "# Create an instance of KNN imputer\n",
    "imputer = KNN()\n",
    "data_imputed = imputer.fit_transform(data)\n",
    "print(\"Filling missing values using K-nearest neighbors (KNN) imputation :\\n\",data_imputed)"
   ]
  },
  {
   "cell_type": "markdown",
   "id": "48f079de",
   "metadata": {},
   "source": [
    "#### Matrix Factorization"
   ]
  },
  {
   "cell_type": "code",
   "execution_count": 11,
   "id": "9d033dc3",
   "metadata": {},
   "outputs": [
    {
     "name": "stdout",
     "output_type": "stream",
     "text": [
      "Original Dataset :\n",
      "      A    B    C\n",
      "0  1.0  NaN  1.0\n",
      "1  NaN  2.0  2.0\n",
      "2  3.0  3.0  NaN\n",
      "3  NaN  NaN  NaN\n",
      "4  5.0  5.0  5.0\n",
      "\n",
      "[SoftImpute] Max Singular Value of X_init = 9.703555\n",
      "[SoftImpute] Iter 1: observed MAE=0.092302 rank=3\n",
      "[SoftImpute] Iter 2: observed MAE=0.092414 rank=3\n",
      "[SoftImpute] Iter 3: observed MAE=0.092508 rank=3\n",
      "[SoftImpute] Iter 4: observed MAE=0.092584 rank=3\n",
      "[SoftImpute] Iter 5: observed MAE=0.092639 rank=3\n",
      "[SoftImpute] Iter 6: observed MAE=0.092673 rank=3\n",
      "[SoftImpute] Iter 7: observed MAE=0.092684 rank=3\n",
      "[SoftImpute] Iter 8: observed MAE=0.092669 rank=3\n",
      "[SoftImpute] Iter 9: observed MAE=0.092627 rank=3\n",
      "[SoftImpute] Iter 10: observed MAE=0.092554 rank=3\n",
      "[SoftImpute] Iter 11: observed MAE=0.092447 rank=3\n",
      "[SoftImpute] Iter 12: observed MAE=0.092301 rank=3\n",
      "[SoftImpute] Iter 13: observed MAE=0.092111 rank=3\n",
      "[SoftImpute] Iter 14: observed MAE=0.091870 rank=3\n",
      "[SoftImpute] Iter 15: observed MAE=0.091569 rank=3\n",
      "[SoftImpute] Iter 16: observed MAE=0.091195 rank=3\n",
      "[SoftImpute] Iter 17: observed MAE=0.090387 rank=2\n",
      "[SoftImpute] Iter 18: observed MAE=0.083420 rank=2\n",
      "[SoftImpute] Iter 19: observed MAE=0.079818 rank=2\n",
      "[SoftImpute] Iter 20: observed MAE=0.077962 rank=2\n",
      "[SoftImpute] Iter 21: observed MAE=0.076999 rank=2\n",
      "[SoftImpute] Iter 22: observed MAE=0.076488 rank=2\n",
      "[SoftImpute] Iter 23: observed MAE=0.076205 rank=2\n",
      "[SoftImpute] Iter 24: observed MAE=0.076038 rank=2\n",
      "[SoftImpute] Iter 25: observed MAE=0.075932 rank=2\n",
      "[SoftImpute] Iter 26: observed MAE=0.075862 rank=2\n",
      "[SoftImpute] Iter 27: observed MAE=0.075822 rank=2\n",
      "[SoftImpute] Iter 28: observed MAE=0.075458 rank=1\n",
      "[SoftImpute] Iter 29: observed MAE=0.069518 rank=1\n",
      "[SoftImpute] Iter 30: observed MAE=0.067249 rank=1\n",
      "[SoftImpute] Iter 31: observed MAE=0.066347 rank=1\n",
      "[SoftImpute] Iter 32: observed MAE=0.065973 rank=1\n",
      "[SoftImpute] Iter 33: observed MAE=0.065812 rank=1\n",
      "[SoftImpute] Stopped after iteration 33 for lambda=0.194071\n",
      "\n",
      "Matrix Factorization Data :\n",
      " [[ 1.          0.97773356  1.        ]\n",
      " [ 1.9498746   2.          2.        ]\n",
      " [ 3.          3.          2.90091019]\n",
      " [-0.         -0.         -0.        ]\n",
      " [ 5.          5.          5.        ]]\n"
     ]
    }
   ],
   "source": [
    "from fancyimpute import SoftImpute\n",
    "\n",
    "# Print the original dataset\n",
    "print(\"Original Dataset :\\n\",data)\n",
    "print(\"\")\n",
    "\n",
    "# Create an instance of SoftImpute imputer\n",
    "imputer = SoftImpute()\n",
    "data_imputed = imputer.fit_transform(data)\n",
    "print(\"\\nMatrix Factorization Data :\\n\",data_imputed)"
   ]
  },
  {
   "cell_type": "markdown",
   "id": "f65861aa",
   "metadata": {},
   "source": [
    "### Handling Duplicates"
   ]
  },
  {
   "cell_type": "markdown",
   "id": "d1878ed1",
   "metadata": {},
   "source": [
    "#### Identifying duplicates"
   ]
  },
  {
   "cell_type": "code",
   "execution_count": 12,
   "id": "ae3e4d8b",
   "metadata": {},
   "outputs": [
    {
     "name": "stdout",
     "output_type": "stream",
     "text": [
      "Original Dataset:\n",
      "   ID   Name  Age\n",
      "0   1   John   25\n",
      "1   2   Jane   30\n",
      "2   3   Mike   35\n",
      "3   4   Emma   40\n",
      "4   1   John   25\n",
      "5   2   Jane   30\n",
      "6   5  David   45\n",
      "\n",
      "Duplicates (All Columns):\n",
      "   ID  Name  Age\n",
      "4   1  John   25\n",
      "5   2  Jane   30\n",
      "\n",
      "Duplicates (Specific Columns):\n",
      "   ID  Name  Age\n",
      "4   1  John   25\n",
      "5   2  Jane   30\n"
     ]
    }
   ],
   "source": [
    "# Create sample dataset with duplicates\n",
    "data = pd.DataFrame({\n",
    "    'ID': [1, 2, 3, 4, 1, 2, 5],\n",
    "    'Name': ['John', 'Jane', 'Mike', 'Emma', 'John', 'Jane', 'David'],\n",
    "    'Age': [25, 30, 35, 40, 25, 30, 45]\n",
    "})\n",
    "\n",
    "# Identify duplicates based on all columns\n",
    "duplicates_all = data[data.duplicated()]\n",
    "\n",
    "# Identify duplicates based on specific columns\n",
    "columns_to_check = ['ID', 'Name']\n",
    "duplicates_specific = data[data.duplicated(subset=columns_to_check)]\n",
    "\n",
    "# Print the original dataset\n",
    "print(\"Original Dataset:\")\n",
    "print(data)\n",
    "print()\n",
    "\n",
    "# Print duplicates based on all columns\n",
    "print(\"Duplicates (All Columns):\")\n",
    "print(duplicates_all)\n",
    "print()\n",
    "\n",
    "# Print duplicates based on specific columns\n",
    "print(\"Duplicates (Specific Columns):\")\n",
    "print(duplicates_specific)\n",
    "\n"
   ]
  },
  {
   "cell_type": "markdown",
   "id": "3452e351",
   "metadata": {},
   "source": [
    "#### Removing duplicates"
   ]
  },
  {
   "cell_type": "code",
   "execution_count": 13,
   "id": "ce8d19d6",
   "metadata": {},
   "outputs": [
    {
     "name": "stdout",
     "output_type": "stream",
     "text": [
      "Original Dataset:\n",
      "   ID   Name  Age\n",
      "0   1   John   25\n",
      "1   2   Jane   30\n",
      "2   3   Mike   35\n",
      "3   4   Emma   40\n",
      "4   1   John   25\n",
      "5   2   Jane   30\n",
      "6   5  David   45\n",
      "\n",
      "Dataset after Removing Duplicates:\n",
      "   ID   Name  Age\n",
      "0   1   John   25\n",
      "1   2   Jane   30\n",
      "2   3   Mike   35\n",
      "3   4   Emma   40\n",
      "6   5  David   45\n"
     ]
    }
   ],
   "source": [
    "# Print the original dataset\n",
    "print(\"Original Dataset:\")\n",
    "print(data)\n",
    "\n",
    "# Remove duplicates based on all columns\n",
    "data_duplicates_removed = data.drop_duplicates()\n",
    "\n",
    "# Print the dataset after removing duplicates\n",
    "print(\"\\nDataset after Removing Duplicates:\")\n",
    "print(data_duplicates_removed)"
   ]
  },
  {
   "cell_type": "markdown",
   "id": "c096c759",
   "metadata": {},
   "source": [
    "#### Keeping the first occurrence and removing subsequent duplicates"
   ]
  },
  {
   "cell_type": "code",
   "execution_count": 14,
   "id": "b9d190c2",
   "metadata": {},
   "outputs": [
    {
     "name": "stdout",
     "output_type": "stream",
     "text": [
      "Original Dataset:\n",
      "   ID   Name  Age\n",
      "0   1   John   25\n",
      "1   2   Jane   30\n",
      "2   3   Mike   35\n",
      "3   4   Emma   40\n",
      "4   1   John   25\n",
      "5   2   Jane   30\n",
      "6   5  David   45\n",
      "\n",
      "Keep the first occurrence and remove subsequent duplicates :\n",
      "\n",
      "   ID   Name  Age\n",
      "0   1   John   25\n",
      "1   2   Jane   30\n",
      "2   3   Mike   35\n",
      "3   4   Emma   40\n",
      "6   5  David   45\n"
     ]
    }
   ],
   "source": [
    "# Print the original dataset\n",
    "print(\"Original Dataset:\")\n",
    "print(data)\n",
    "\n",
    "# Keep the first occurrence and remove subsequent duplicates\n",
    "data_duplicates_removed = data.drop_duplicates(keep='first')\n",
    "print(\"\\nKeep the first occurrence and remove subsequent duplicates :\\n\")\n",
    "print(data_duplicates_removed)"
   ]
  },
  {
   "cell_type": "markdown",
   "id": "1d7e1f27",
   "metadata": {},
   "source": [
    "#### Keeping the last occurrence and removing previous duplicates"
   ]
  },
  {
   "cell_type": "code",
   "execution_count": 15,
   "id": "697d2cd5",
   "metadata": {},
   "outputs": [
    {
     "name": "stdout",
     "output_type": "stream",
     "text": [
      "Original Dataset:\n",
      "   ID   Name  Age\n",
      "0   1   John   25\n",
      "1   2   Jane   30\n",
      "2   3   Mike   35\n",
      "3   4   Emma   40\n",
      "4   1   John   25\n",
      "5   2   Jane   30\n",
      "6   5  David   45\n",
      "\n",
      "Keep the last occurrence and remove subsequent duplicates :\n",
      "\n",
      "   ID   Name  Age\n",
      "2   3   Mike   35\n",
      "3   4   Emma   40\n",
      "4   1   John   25\n",
      "5   2   Jane   30\n",
      "6   5  David   45\n"
     ]
    }
   ],
   "source": [
    "# Print the original dataset\n",
    "print(\"Original Dataset:\")\n",
    "print(data)\n",
    "\n",
    "# Keep the last occurrence and remove previous duplicates\n",
    "data_duplicates_removed = data.drop_duplicates(keep='last')\n",
    "print(\"\\nKeep the last occurrence and remove subsequent duplicates :\\n\")\n",
    "print(data_duplicates_removed)"
   ]
  },
  {
   "cell_type": "markdown",
   "id": "897433c5",
   "metadata": {},
   "source": [
    "### Handling Errors and Outliers"
   ]
  },
  {
   "cell_type": "markdown",
   "id": "2ca84fdc",
   "metadata": {},
   "source": [
    "#### Visual Inspection and Statistical Analysis\n",
    "Visualize the data using plots (e.g., scatter plots, histograms, box plots) to identify potential errors or outliers.\n",
    "Calculate summary statistics (e.g., mean, median, standard deviation) and identify values that deviate significantly from the expected range."
   ]
  },
  {
   "cell_type": "markdown",
   "id": "513dc2c1",
   "metadata": {},
   "source": [
    "#### Winsorization\n",
    "Winsorization replaces extreme values with less extreme values to reduce the impact of outliers. It involves capping or flooring the extreme values to a specified percentile."
   ]
  },
  {
   "cell_type": "code",
   "execution_count": 16,
   "id": "142c80b5",
   "metadata": {},
   "outputs": [
    {
     "name": "stdout",
     "output_type": "stream",
     "text": [
      "Original Dataset:\n",
      "    A    B\n",
      "0   1   10\n",
      "1   2   20\n",
      "2   3   30\n",
      "3   4   40\n",
      "4   5   50\n",
      "5   6   60\n",
      "6   7   70\n",
      "7   8   80\n",
      "8   9   90\n",
      "9  10  100\n",
      "\n",
      "Dataset after Winsorization:\n",
      "   A    B\n",
      "0  2   10\n",
      "1  2   20\n",
      "2  3   30\n",
      "3  4   40\n",
      "4  5   50\n",
      "5  6   60\n",
      "6  7   70\n",
      "7  8   80\n",
      "8  9   90\n",
      "9  9  100\n"
     ]
    }
   ],
   "source": [
    "from scipy.stats.mstats import winsorize\n",
    "\n",
    "# Create sample dataset with outliers\n",
    "data = pd.DataFrame({\n",
    "    'A': [1, 2, 3, 4, 5, 6, 7, 8, 9, 10],\n",
    "    'B': [10, 20, 30, 40, 50, 60, 70, 80, 90, 100]\n",
    "})\n",
    "\n",
    "# Print the original dataset\n",
    "print(\"Original Dataset:\")\n",
    "print(data)\n",
    "\n",
    "# Apply winsorization on column 'A'\n",
    "winsorized_A = winsorize(data['A'], limits=(0.1, 0.1))\n",
    "\n",
    "# Create a new DataFrame with winsorized values\n",
    "data_winsorized = data.copy()\n",
    "data_winsorized['A'] = winsorized_A\n",
    "\n",
    "# Print the dataset after winsorization\n",
    "print(\"\\nDataset after Winsorization:\")\n",
    "print(data_winsorized)\n"
   ]
  },
  {
   "cell_type": "markdown",
   "id": "039dc210",
   "metadata": {},
   "source": [
    "#### Trimming\n",
    "Trimming removes a specified percentage of extreme values from the dataset. It can be used when extreme values are unlikely to represent errors and should not be included in the analysis."
   ]
  },
  {
   "cell_type": "code",
   "execution_count": 17,
   "id": "a61cc644",
   "metadata": {},
   "outputs": [
    {
     "name": "stdout",
     "output_type": "stream",
     "text": [
      "Original Dataset:\n",
      "     A    B\n",
      "0    1   11\n",
      "1    2   12\n",
      "2    3   13\n",
      "3    4   14\n",
      "4    5   15\n",
      "5  100   16\n",
      "6    7   17\n",
      "7    8   18\n",
      "8    9  200\n",
      "9   10   20\n",
      "\n",
      "Dataset after Trimming:\n",
      "       A       B\n",
      "0   1.45   11.45\n",
      "1   2.00   12.00\n",
      "2   3.00   13.00\n",
      "3   4.00   14.00\n",
      "4   5.00   15.00\n",
      "5  59.50   16.00\n",
      "6   7.00   17.00\n",
      "7   8.00   18.00\n",
      "8   9.00  119.00\n",
      "9  10.00   20.00\n"
     ]
    }
   ],
   "source": [
    "# Create sample dataset with outliers\n",
    "data = pd.DataFrame({\n",
    "    'A': [1, 2, 3, 4, 5, 6, 7, 8, 9, 10],\n",
    "    'B': [11, 12, 13, 14, 15, 16, 17, 18, 19, 20]\n",
    "})\n",
    "\n",
    "# Add outliers to the dataset\n",
    "data.loc[5, 'A'] = 100\n",
    "data.loc[8, 'B'] = 200\n",
    "\n",
    "# Print the original dataset\n",
    "print(\"Original Dataset:\")\n",
    "print(data)\n",
    "\n",
    "# Trim outliers using clipping\n",
    "trimmed_data = data.clip(lower=data.quantile(0.05), upper=data.quantile(0.95), axis=1)\n",
    "\n",
    "# Print the dataset after trimming\n",
    "print(\"\\nDataset after Trimming:\")\n",
    "print(trimmed_data)\n"
   ]
  },
  {
   "cell_type": "markdown",
   "id": "9c2a1e46",
   "metadata": {},
   "source": [
    "#### Statistical Methods\n",
    "Statistical techniques such as z-score or modified z-score can be used to identify and handle outliers based on their deviation from the mean or median."
   ]
  },
  {
   "cell_type": "code",
   "execution_count": 18,
   "id": "ecc3a6e2",
   "metadata": {},
   "outputs": [
    {
     "name": "stdout",
     "output_type": "stream",
     "text": [
      "Original Dataset:\n",
      "     A     B    C\n",
      "0    1    10  100\n",
      "1    2    20  200\n",
      "2    3    30  300\n",
      "3    4    40  400\n",
      "4    5    50  500\n",
      "5  200  1000  100\n",
      "\n",
      "Identified Outliers:\n",
      "Empty DataFrame\n",
      "Columns: [A, B, C]\n",
      "Index: []\n",
      "\n",
      "Dataset after Removing Outliers:\n",
      "     A     B    C\n",
      "0    1    10  100\n",
      "1    2    20  200\n",
      "2    3    30  300\n",
      "3    4    40  400\n",
      "4    5    50  500\n",
      "5  200  1000  100\n"
     ]
    }
   ],
   "source": [
    "# Create sample dataset with outliers\n",
    "data = pd.DataFrame({\n",
    "    'A': [1, 2, 3, 4, 5, 200],\n",
    "    'B': [10, 20, 30, 40, 50, 1000],\n",
    "    'C': [100, 200, 300, 400, 500, 100],\n",
    "})\n",
    "\n",
    "# Print the original dataset\n",
    "print(\"Original Dataset:\")\n",
    "print(data)\n",
    "\n",
    "# Calculate the mean and standard deviation for each column\n",
    "means = data.mean()\n",
    "stds = data.std()\n",
    "\n",
    "# Define the threshold for outliers (e.g., beyond 3 standard deviations)\n",
    "threshold = 3\n",
    "\n",
    "# Identify outliers using the z-score method\n",
    "outliers = data[(np.abs((data - means) / stds) > threshold).any(axis=1)]\n",
    "\n",
    "# Print the identified outliers\n",
    "print(\"\\nIdentified Outliers:\")\n",
    "print(outliers)\n",
    "\n",
    "# Remove outliers using the z-score method\n",
    "data_no_outliers = data[(np.abs((data - means) / stds) <= threshold).all(axis=1)]\n",
    "\n",
    "# Print the dataset after removing outliers\n",
    "print(\"\\nDataset after Removing Outliers:\")\n",
    "print(data_no_outliers)\n"
   ]
  },
  {
   "cell_type": "markdown",
   "id": "370820d8",
   "metadata": {},
   "source": [
    "#### Robust Statistical Methods\n",
    "Robust statistical methods, like the median absolute deviation (MAD), are less sensitive to outliers compared to traditional methods that use mean and standard deviation."
   ]
  },
  {
   "cell_type": "code",
   "execution_count": 19,
   "id": "44a8084a",
   "metadata": {},
   "outputs": [
    {
     "name": "stdout",
     "output_type": "stream",
     "text": [
      "Original Dataset:\n",
      "   A    B     C\n",
      "0  1   10   100\n",
      "1  2   20   200\n",
      "2  3   30   300\n",
      "3  4   40  4000\n",
      "4  5   50   500\n",
      "5  6   60   600\n",
      "6  7  700   700\n",
      "\n",
      "Dataset after Removing Outliers:\n",
      "   A   B    C\n",
      "0  1  10  100\n",
      "1  2  20  200\n",
      "2  3  30  300\n",
      "4  5  50  500\n",
      "5  6  60  600\n"
     ]
    }
   ],
   "source": [
    "# Create sample dataset with errors and outliers\n",
    "data = pd.DataFrame({\n",
    "    'A': [1, 2, 3, 4, 5, 6, 7],\n",
    "    'B': [10, 20, 30, 40, 50, 60, 700],\n",
    "    'C': [100, 200, 300, 4000, 500, 600, 700]\n",
    "})\n",
    "\n",
    "# Print the original dataset\n",
    "print(\"Original Dataset:\")\n",
    "print(data)\n",
    "\n",
    "# Calculate the median absolute deviation (MAD)\n",
    "median = data.median()\n",
    "mad = (data - median).abs().median()\n",
    "\n",
    "# Define the threshold for outliers\n",
    "threshold = 3.5\n",
    "\n",
    "# Identify outliers based on the MAD\n",
    "outliers_mad = (np.abs((data - median) / mad) > threshold).any(axis=1)\n",
    "\n",
    "# Identify outliers based on the IQR\n",
    "q1 = data.quantile(0.25)\n",
    "q3 = data.quantile(0.75)\n",
    "iqr = q3 - q1\n",
    "lower_bound = q1 - 1.5 * iqr\n",
    "upper_bound = q3 + 1.5 * iqr\n",
    "outliers_iqr = ((data < lower_bound) | (data > upper_bound)).any(axis=1)\n",
    "\n",
    "# Remove outliers from the dataset\n",
    "data_cleaned = data[~(outliers_mad | outliers_iqr)]\n",
    "\n",
    "# Print the dataset after removing outliers\n",
    "print(\"\\nDataset after Removing Outliers:\")\n",
    "print(data_cleaned)\n"
   ]
  },
  {
   "cell_type": "markdown",
   "id": "af795ccf",
   "metadata": {},
   "source": [
    "## Data Transformation"
   ]
  },
  {
   "cell_type": "markdown",
   "id": "22d564e5",
   "metadata": {},
   "source": [
    "#### Scaling/Normalization\n",
    "Scaling or normalization is used to bring numerical features onto a similar scale, preventing any single feature from dominating the analysis due to its larger magnitude. Common scaling techniques include min-max scaling and standardization."
   ]
  },
  {
   "cell_type": "code",
   "execution_count": 20,
   "id": "b6c3a949",
   "metadata": {},
   "outputs": [
    {
     "name": "stdout",
     "output_type": "stream",
     "text": [
      "Original Data :\n",
      " [[10  3  5]\n",
      " [20  6  9]\n",
      " [ 5  1  2]\n",
      " [15  4  7]\n",
      " [ 8  2  4]]\n",
      "\n",
      "Scaled Data :\n",
      " [[0.33333333 0.4        0.42857143]\n",
      " [1.         1.         1.        ]\n",
      " [0.         0.         0.        ]\n",
      " [0.66666667 0.6        0.71428571]\n",
      " [0.2        0.2        0.28571429]]\n",
      "\n",
      "Standard Data :\n",
      " [[-0.30108397 -0.11624764 -0.16552118]\n",
      " [ 1.58069085  1.62746694  1.4896906 ]\n",
      " [-1.24197138 -1.27872403 -1.40693001]\n",
      " [ 0.63980344  0.46499055  0.66208471]\n",
      " [-0.67743894 -0.69748583 -0.57932412]]\n"
     ]
    }
   ],
   "source": [
    "from sklearn.preprocessing import MinMaxScaler, StandardScaler\n",
    "\n",
    "# Create a sample dataset\n",
    "data = np.array([[10, 3, 5],\n",
    "                [20, 6, 9],\n",
    "                [5, 1, 2],\n",
    "                [15, 4, 7],\n",
    "                [8, 2, 4]])\n",
    "\n",
    "print(\"Original Data :\\n\",data)\n",
    "print(\"\")\n",
    "# Min-max scaling\n",
    "scaler = MinMaxScaler()\n",
    "data_scaled = scaler.fit_transform(data)\n",
    "print(\"Scaled Data :\\n\",data_scaled)\n",
    "\n",
    "print(\"\")\n",
    "# Standardization\n",
    "scaler = StandardScaler()\n",
    "data_standardized = scaler.fit_transform(data)\n",
    "print(\"Standard Data :\\n\",data_standardized)\n"
   ]
  },
  {
   "cell_type": "markdown",
   "id": "142b3203",
   "metadata": {},
   "source": [
    "#### Logarithmic Transformation\n",
    "Logarithmic transformation is used to reduce the impact of large values and handle positively skewed distributions. It compresses the scale of the data and can make it more symmetric."
   ]
  },
  {
   "cell_type": "code",
   "execution_count": 21,
   "id": "21072963",
   "metadata": {},
   "outputs": [
    {
     "name": "stdout",
     "output_type": "stream",
     "text": [
      "Original Data :\n",
      " [    10    100   1000  10000 100000]\n",
      "Log Transform Data :\n",
      " [ 2.39789527  4.61512052  6.90875478  9.21044037 11.51293546]\n"
     ]
    }
   ],
   "source": [
    "# Create a sample dataset\n",
    "data = np.array([10, 100, 1000, 10000, 100000])\n",
    "\n",
    "print(\"Original Data :\\n\",data)\n",
    "# Logarithmic transformation\n",
    "data_log_transformed = np.log1p(data)  # Log transformation with added 1 to handle zero or negative values\n",
    "print(\"Log Transform Data :\\n\",data_log_transformed)"
   ]
  },
  {
   "cell_type": "markdown",
   "id": "8400cdc8",
   "metadata": {},
   "source": [
    "#### Power Transformation\n",
    "Power transformation, such as the Box-Cox transformation, is used to stabilize variance and normalize the data. It can be applied to handle data that violates assumptions of normality or homoscedasticity."
   ]
  },
  {
   "cell_type": "code",
   "execution_count": 22,
   "id": "a3619948",
   "metadata": {},
   "outputs": [
    {
     "name": "stdout",
     "output_type": "stream",
     "text": [
      "Original Data :\n",
      " [1. 2. 3. 4. 5. 6. 7. 8. 9.]\n",
      "Power Transform Data :\n",
      " [0.         0.89887536 1.67448353 2.37952145 3.03633818 3.65711928\n",
      " 4.2494518  4.81847233 5.36786648]\n"
     ]
    }
   ],
   "source": [
    "from scipy.stats import boxcox\n",
    "\n",
    "# Create a sample dataset\n",
    "data = np.array([1.0, 2.0, 3.0,4.0, 5.0, 6.0,7.0, 8.0, 9.0])\n",
    "\n",
    "print(\"Original Data :\\n\",data)\n",
    "\n",
    "# Box-Cox transformation\n",
    "data_transformed, lambda_val = boxcox(data)\n",
    "print(\"Power Transform Data :\\n\",data_transformed)"
   ]
  },
  {
   "cell_type": "markdown",
   "id": "f696a9ca",
   "metadata": {},
   "source": [
    "#### Binning/Discretization\n",
    "Binning or discretization is used to convert continuous numerical features into categorical features by grouping values into bins or intervals. This can help simplify the analysis and handle non-linear relationships."
   ]
  },
  {
   "cell_type": "code",
   "execution_count": 23,
   "id": "8754aa81",
   "metadata": {},
   "outputs": [
    {
     "name": "stdout",
     "output_type": "stream",
     "text": [
      "Original Data :\n",
      "    age  income\n",
      "0   25   50000\n",
      "1   37   75000\n",
      "2   42  100000\n",
      "3   18   25000\n",
      "4   51   80000\n",
      "5   29   60000\n",
      "6   36   90000\n",
      "7   22   40000\n",
      "8   45   95000\n",
      "9   33   70000\n",
      "Binning Data :\n",
      " [[1. 1.]\n",
      " [2. 3.]\n",
      " [3. 4.]\n",
      " [0. 0.]\n",
      " [4. 3.]\n",
      " [1. 2.]\n",
      " [2. 4.]\n",
      " [0. 1.]\n",
      " [4. 4.]\n",
      " [2. 3.]]\n"
     ]
    },
    {
     "name": "stderr",
     "output_type": "stream",
     "text": [
      "C:\\Users\\RACHIT\\anaconda3\\lib\\site-packages\\sklearn\\preprocessing\\_discretization.py:239: FutureWarning: In version 1.5 onwards, subsample=200_000 will be used by default. Set subsample explicitly to silence this warning in the mean time. Set subsample=None to disable subsampling explicitly.\n",
      "  warnings.warn(\n"
     ]
    }
   ],
   "source": [
    "from sklearn.preprocessing import KBinsDiscretizer\n",
    "\n",
    "# Create a sample dataset\n",
    "data = pd.DataFrame({\n",
    "    'age': [25, 37, 42, 18, 51, 29, 36, 22, 45, 33],\n",
    "    'income': [50000, 75000, 100000, 25000, 80000, 60000, 90000, 40000, 95000, 70000]\n",
    "})\n",
    "\n",
    "print(\"Original Data :\\n\",data)\n",
    "\n",
    "# Binning into equal-width bins\n",
    "bin_discretizer = KBinsDiscretizer(n_bins=5, strategy='uniform', encode='ordinal')\n",
    "data_binned = bin_discretizer.fit_transform(data)\n",
    "\n",
    "print(\"Binning Data :\\n\",data_binned)"
   ]
  },
  {
   "cell_type": "markdown",
   "id": "277b78d9",
   "metadata": {},
   "source": [
    "### Encoding Categorical Variables\n",
    "Encoding categorical variables is necessary to represent them in a numerical format suitable for analysis"
   ]
  },
  {
   "cell_type": "markdown",
   "id": "6c7583ce",
   "metadata": {},
   "source": [
    "#### One-Hot Encoding\n",
    "One-hot encoding is used to represent categorical variables as binary vectors. It creates new binary columns for each unique category in the variable, with a value of 1 indicating the presence of that category and 0 otherwise."
   ]
  },
  {
   "cell_type": "code",
   "execution_count": 24,
   "id": "169f1a70",
   "metadata": {},
   "outputs": [
    {
     "name": "stdout",
     "output_type": "stream",
     "text": [
      "Original Data :\n",
      "     Color    Size      Shape\n",
      "0     Red   Small     Circle\n",
      "1    Blue   Large  Rectangle\n",
      "2   Green  Medium   Triangle\n",
      "3     Red   Small     Circle\n",
      "4  Yellow  Medium     Square\n",
      "OneHot Encoder Data :\n",
      "   (0, 2)\t1.0\n",
      "  (0, 6)\t1.0\n",
      "  (0, 7)\t1.0\n",
      "  (1, 0)\t1.0\n",
      "  (1, 4)\t1.0\n",
      "  (1, 8)\t1.0\n",
      "  (2, 1)\t1.0\n",
      "  (2, 5)\t1.0\n",
      "  (2, 10)\t1.0\n",
      "  (3, 2)\t1.0\n",
      "  (3, 6)\t1.0\n",
      "  (3, 7)\t1.0\n",
      "  (4, 3)\t1.0\n",
      "  (4, 5)\t1.0\n",
      "  (4, 9)\t1.0\n"
     ]
    }
   ],
   "source": [
    "from sklearn.preprocessing import OneHotEncoder\n",
    "\n",
    "# Create a sample dataset\n",
    "data = pd.DataFrame({\n",
    "    'Color': ['Red', 'Blue', 'Green', 'Red', 'Yellow'],\n",
    "    'Size': ['Small', 'Large', 'Medium', 'Small', 'Medium'],\n",
    "    'Shape': ['Circle', 'Rectangle', 'Triangle', 'Circle', 'Square']\n",
    "})\n",
    "\n",
    "print(\"Original Data :\\n\",data)\n",
    "\n",
    "# One-hot encoding\n",
    "encoder = OneHotEncoder()\n",
    "data_encoded = encoder.fit_transform(data)\n",
    "\n",
    "print(\"OneHot Encoder Data :\\n\",data_encoded)"
   ]
  },
  {
   "cell_type": "markdown",
   "id": "09ac6ede",
   "metadata": {},
   "source": [
    "#### Label Encoding\n",
    "Label encoding assigns a numerical label to each unique category in a categorical variable. It is suitable for ordinal variables where the order of the categories matters. Each category is assigned a unique integer value."
   ]
  },
  {
   "cell_type": "code",
   "execution_count": 25,
   "id": "3776b1f2",
   "metadata": {},
   "outputs": [
    {
     "name": "stdout",
     "output_type": "stream",
     "text": [
      "Original Data :\n",
      "   Category    Size Label\n",
      "0      Red   Small     A\n",
      "1     Blue   Large     B\n",
      "2    Green  Medium     A\n",
      "3    Green   Large     C\n",
      "4      Red   Small     B\n",
      "5     Blue  Medium     C\n",
      "Label Encoder data :\n",
      "   Category    Size Label  Encoded label\n",
      "0      Red   Small     A              0\n",
      "1     Blue   Large     B              1\n",
      "2    Green  Medium     A              0\n",
      "3    Green   Large     C              2\n",
      "4      Red   Small     B              1\n",
      "5     Blue  Medium     C              2\n"
     ]
    }
   ],
   "source": [
    "from sklearn.preprocessing import LabelEncoder\n",
    "\n",
    "# Create a sample dataset\n",
    "data = pd.DataFrame({\n",
    "    'Category': ['Red', 'Blue', 'Green', 'Green', 'Red', 'Blue'],\n",
    "    'Size': ['Small', 'Large', 'Medium', 'Large', 'Small', 'Medium'],\n",
    "    'Label': ['A', 'B', 'A', 'C', 'B', 'C']\n",
    "})\n",
    "\n",
    "print(\"Original Data :\\n\",data)\n",
    "\n",
    "\n",
    "# LabelEncoder\n",
    "encoder = LabelEncoder()\n",
    "data[\"Encoded label\"] = encoder.fit_transform(data['Label'])\n",
    "\n",
    "print(\"Label Encoder data :\\n\",data)"
   ]
  },
  {
   "cell_type": "markdown",
   "id": "9e39ffd8",
   "metadata": {},
   "source": [
    "#### Ordinal Encoding\n",
    "Ordinal encoding is similar to label encoding but is used when the categories have an inherent order or rank. It assigns integer labels to categories based on their order, preserving the ordinal relationship between them"
   ]
  },
  {
   "cell_type": "code",
   "execution_count": 26,
   "id": "73131cd8",
   "metadata": {},
   "outputs": [
    {
     "name": "stdout",
     "output_type": "stream",
     "text": [
      "Original Data :\n",
      " [['Red', 'Small'], ['Blue', 'Large'], ['Green', 'Medium'], ['Green', 'Large'], ['Red', 'Small'], ['Blue', 'Medium']]\n",
      "Encoded Data :\n",
      " [[2. 2.]\n",
      " [0. 0.]\n",
      " [1. 1.]\n",
      " [1. 0.]\n",
      " [2. 2.]\n",
      " [0. 1.]]\n"
     ]
    }
   ],
   "source": [
    "from sklearn.preprocessing import OrdinalEncoder\n",
    "\n",
    "# Create a sample dataset\n",
    "data = [['Red', 'Small'], ['Blue', 'Large'], ['Green', 'Medium'], \n",
    "        ['Green', 'Large'], ['Red', 'Small'], ['Blue', 'Medium']]\n",
    "\n",
    "print(\"Original Data :\\n\",data)\n",
    "\n",
    "# Initialize OrdinalEncoder\n",
    "ordinal_encoder = OrdinalEncoder()\n",
    "\n",
    "# Fit and transform the data\n",
    "encoded_data = ordinal_encoder.fit_transform(data)\n",
    "\n",
    "# Print the encoded data\n",
    "print(\"Encoded Data :\\n\",encoded_data)\n"
   ]
  },
  {
   "cell_type": "markdown",
   "id": "b396c88d",
   "metadata": {},
   "source": [
    "#### Binary Encoding\n",
    "Binary encoding represents each unique category with a binary code. It involves converting the categories to binary representation and then creating binary columns for each digit in the binary code."
   ]
  },
  {
   "cell_type": "code",
   "execution_count": 27,
   "id": "53c65eae",
   "metadata": {},
   "outputs": [
    {
     "name": "stdout",
     "output_type": "stream",
     "text": [
      "Original Data :\n",
      "   Category    Size Label\n",
      "0      Red   Small     A\n",
      "1     Blue   Large     B\n",
      "2    Green  Medium     A\n",
      "3    Green   Large     C\n",
      "4      Red   Small     B\n",
      "5     Blue  Medium     C\n",
      "Encoded Data :\n",
      "    Category_0  Category_1  Size_0  Size_1 Label\n",
      "0           0           1       0       1     A\n",
      "1           1           0       1       0     B\n",
      "2           1           1       1       1     A\n",
      "3           1           1       1       0     C\n",
      "4           0           1       0       1     B\n",
      "5           1           0       1       1     C\n"
     ]
    }
   ],
   "source": [
    "import category_encoders as ce\n",
    "\n",
    "# Create a sample dataset\n",
    "data = pd.DataFrame({\n",
    "    'Category': ['Red', 'Blue', 'Green', 'Green', 'Red', 'Blue'],\n",
    "    'Size': ['Small', 'Large', 'Medium', 'Large', 'Small', 'Medium'],\n",
    "    'Label': ['A', 'B', 'A', 'C', 'B', 'C']\n",
    "})\n",
    "\n",
    "print(\"Original Data :\\n\",data)\n",
    "\n",
    "# Specify the columns to be binary encoded\n",
    "columns_to_encode = ['Category', 'Size']\n",
    "\n",
    "# Initialize BinaryEncoder\n",
    "binary_encoder = ce.BinaryEncoder(cols=columns_to_encode)\n",
    "\n",
    "# Fit and transform the data\n",
    "encoded_data = binary_encoder.fit_transform(data)\n",
    "\n",
    "# Print the encoded data\n",
    "print(\"Encoded Data :\\n\",encoded_data)\n"
   ]
  },
  {
   "cell_type": "markdown",
   "id": "99ffd8bf",
   "metadata": {},
   "source": [
    "#### Frequency Encoding\n",
    "Frequency encoding replaces categories with their frequency of occurrence in the dataset. It assigns a numerical value representing the proportion of observations that belong to each category"
   ]
  },
  {
   "cell_type": "code",
   "execution_count": 28,
   "id": "c55bad81",
   "metadata": {},
   "outputs": [
    {
     "name": "stdout",
     "output_type": "stream",
     "text": [
      "Original Data :\n",
      "   Category    Size Label\n",
      "0      Red   Small     A\n",
      "1     Blue   Large     B\n",
      "2    Green  Medium     A\n",
      "3    Green   Large     C\n",
      "4      Red   Small     B\n",
      "5     Blue  Medium     C\n",
      "Frequency Encoded Data :\n",
      "   Category    Size Label  Category_Frequency_Encoded  Size_Frequency_Encoded\n",
      "0      Red   Small     A                    0.333333                0.333333\n",
      "1     Blue   Large     B                    0.333333                0.333333\n",
      "2    Green  Medium     A                    0.333333                0.333333\n",
      "3    Green   Large     C                    0.333333                0.333333\n",
      "4      Red   Small     B                    0.333333                0.333333\n",
      "5     Blue  Medium     C                    0.333333                0.333333\n"
     ]
    }
   ],
   "source": [
    "# Create a sample dataset\n",
    "data = pd.DataFrame({\n",
    "    'Category': ['Red', 'Blue', 'Green', 'Green', 'Red', 'Blue'],\n",
    "    'Size': ['Small', 'Large', 'Medium', 'Large', 'Small', 'Medium'],\n",
    "    'Label': ['A', 'B', 'A', 'C', 'B', 'C']\n",
    "})\n",
    "\n",
    "print(\"Original Data :\\n\",data)\n",
    "\n",
    "# Calculate the frequency of each category\n",
    "category_freq = data['Category'].value_counts(normalize=True)\n",
    "size_freq = data['Size'].value_counts(normalize=True)\n",
    "label_freq = data['Label'].value_counts(normalize=True)\n",
    "\n",
    "# Create frequency encoding mapping dictionaries\n",
    "category_mapping = category_freq.to_dict()\n",
    "size_mapping = size_freq.to_dict()\n",
    "label_mapping = label_freq.to_dict()\n",
    "\n",
    "# Perform frequency encoding\n",
    "data['Category_Frequency_Encoded'] = data['Category'].map(category_mapping)\n",
    "data['Size_Frequency_Encoded'] = data['Size'].map(size_mapping)\n",
    "\n",
    "print(\"Frequency Encoded Data :\\n\",data)"
   ]
  },
  {
   "cell_type": "markdown",
   "id": "932d9983",
   "metadata": {},
   "source": [
    "## Feature Selection/Extraction"
   ]
  },
  {
   "cell_type": "markdown",
   "id": "5af7d064",
   "metadata": {},
   "source": [
    "#### Univariate Feature Selection\n",
    "This method evaluates each feature independently based on statistical measures like chi-square, ANOVA F-value, or mutual information with the target variable. It selects the top-k features with the highest scores."
   ]
  },
  {
   "cell_type": "code",
   "execution_count": 29,
   "id": "90174bd7",
   "metadata": {},
   "outputs": [
    {
     "name": "stdout",
     "output_type": "stream",
     "text": [
      "Original Dataset :\n",
      "    Feature1  Feature2  Feature3 Feature4  Target\n",
      "0  0.548814         2 -0.651715        A       0\n",
      "1  0.715189         3  0.000038        A       0\n",
      "2  0.602763         2  0.889754        C       0\n",
      "3  0.544883         0 -1.156281        B       1\n",
      "4  0.423655         8  0.397217        C       1\n",
      "Encoded Dataset :\n",
      "    Feature1  Feature2  Feature3  Target    A    B    C\n",
      "0  0.548814         2 -0.651715       0  1.0  0.0  0.0\n",
      "1  0.715189         3  0.000038       0  1.0  0.0  0.0\n",
      "2  0.602763         2  0.889754       0  0.0  0.0  1.0\n",
      "3  0.544883         0 -1.156281       1  0.0  1.0  0.0\n",
      "4  0.423655         8  0.397217       1  0.0  0.0  1.0\n",
      "Selected Features:\n",
      "Feature1\n",
      "Feature2\n",
      "A\n",
      "B\n",
      "C\n"
     ]
    },
    {
     "name": "stderr",
     "output_type": "stream",
     "text": [
      "C:\\Users\\RACHIT\\anaconda3\\lib\\site-packages\\sklearn\\preprocessing\\_encoders.py:972: FutureWarning: `sparse` was renamed to `sparse_output` in version 1.2 and will be removed in 1.4. `sparse_output` is ignored unless you leave `sparse` to its default value.\n",
      "  warnings.warn(\n"
     ]
    }
   ],
   "source": [
    "from sklearn.feature_selection import SelectKBest, f_classif\n",
    "from sklearn.preprocessing import OneHotEncoder\n",
    "\n",
    "# Create a sample dataset\n",
    "np.random.seed(0)\n",
    "data = pd.DataFrame({\n",
    "    'Feature1': np.random.rand(100),\n",
    "    'Feature2': np.random.randint(0, 10, 100),\n",
    "    'Feature3': np.random.normal(0, 1, 100),\n",
    "    'Feature4': np.random.choice(['A', 'B', 'C'], 100),\n",
    "    'Target': np.random.randint(0, 2, 100)\n",
    "})\n",
    "\n",
    "# Print the original dataset\n",
    "print(\"Original Dataset :\\n\",data.head())\n",
    "\n",
    "# Perform one-hot encoding for the categorical feature\n",
    "onehot_encoder = OneHotEncoder(sparse=False, handle_unknown='ignore')\n",
    "encoded_feature4 = onehot_encoder.fit_transform(data[['Feature4']])\n",
    "\n",
    "# Create a new DataFrame with the encoded feature\n",
    "encoded_data = pd.concat([data.drop('Feature4', axis=1), pd.DataFrame(encoded_feature4, columns=onehot_encoder.categories_[0])], axis=1)\n",
    "\n",
    "# Split the dataset into X (features) and y (target variable)\n",
    "X = encoded_data.drop('Target', axis=1)\n",
    "y = encoded_data['Target']\n",
    "\n",
    "# Print the encoded dataset\n",
    "print(\"Encoded Dataset :\\n\",encoded_data.head())\n",
    "\n",
    "# Assuming you have X as your feature matrix and y as the target variable\n",
    "\n",
    "# Create an instance of SelectKBest with the desired scoring function\n",
    "selector = SelectKBest(score_func=f_classif, k=5)  # Select top 5 features\n",
    "\n",
    "# Apply feature selection\n",
    "selected_features = selector.fit_transform(X, y)\n",
    "\n",
    "# Get the selected feature indices\n",
    "selected_indices = selector.get_support(indices=True)\n",
    "\n",
    "# Print the selected feature indices and their corresponding names\n",
    "selected_feature_names = [X.columns[i] for i in selected_indices]\n",
    "print(\"Selected Features:\")\n",
    "for feature_name in selected_feature_names:\n",
    "    print(feature_name)\n"
   ]
  },
  {
   "cell_type": "markdown",
   "id": "77a7ce77",
   "metadata": {},
   "source": [
    "#### Recursive Feature Elimination (RFE)\n",
    "RFE recursively eliminates features by fitting a model and discarding the least important feature at each iteration until the desired number of features is reached."
   ]
  },
  {
   "cell_type": "code",
   "execution_count": 30,
   "id": "d9bd865c",
   "metadata": {},
   "outputs": [
    {
     "name": "stdout",
     "output_type": "stream",
     "text": [
      "Selected Features:\n",
      "Feature1\n",
      "B\n",
      "C\n"
     ]
    },
    {
     "name": "stderr",
     "output_type": "stream",
     "text": [
      "C:\\Users\\RACHIT\\anaconda3\\lib\\site-packages\\sklearn\\preprocessing\\_encoders.py:972: FutureWarning: `sparse` was renamed to `sparse_output` in version 1.2 and will be removed in 1.4. `sparse_output` is ignored unless you leave `sparse` to its default value.\n",
      "  warnings.warn(\n"
     ]
    }
   ],
   "source": [
    "from sklearn.feature_selection import RFE\n",
    "from sklearn.linear_model import LogisticRegression\n",
    "from sklearn.preprocessing import OneHotEncoder\n",
    "\n",
    "# Create a sample dataset\n",
    "np.random.seed(0)\n",
    "data = pd.DataFrame({\n",
    "    'Feature1': np.random.rand(100),\n",
    "    'Feature2': np.random.randint(0, 10, 100),\n",
    "    'Feature3': np.random.normal(0, 1, 100),\n",
    "    'Feature4': np.random.choice(['A', 'B', 'C'], 100),\n",
    "    'Target': np.random.randint(0, 2, 100)\n",
    "})\n",
    "\n",
    "# Perform one-hot encoding for the categorical feature\n",
    "onehot_encoder = OneHotEncoder(sparse=False, handle_unknown='ignore')\n",
    "encoded_feature4 = onehot_encoder.fit_transform(data[['Feature4']])\n",
    "\n",
    "# Create a new DataFrame with the encoded feature\n",
    "encoded_data = pd.concat([data.drop('Feature4', axis=1), pd.DataFrame(encoded_feature4, columns=onehot_encoder.categories_[0])], axis=1)\n",
    "\n",
    "# Split the dataset into X (features) and y (target variable)\n",
    "X = encoded_data.drop('Target', axis=1)\n",
    "y = encoded_data['Target']\n",
    "\n",
    "# Initialize the estimator (model) for feature importance estimation\n",
    "estimator = LogisticRegression()\n",
    "\n",
    "# Initialize the Recursive Feature Elimination (RFE) object\n",
    "rfe = RFE(estimator, n_features_to_select=3)  # Select the top 2 features\n",
    "\n",
    "# Perform RFE feature selection\n",
    "selected_features = rfe.fit_transform(X, y)\n",
    "\n",
    "# Get the selected feature indices\n",
    "selected_indices = rfe.get_support(indices=True)\n",
    "\n",
    "# Print the selected feature indices and their corresponding names\n",
    "selected_feature_names = [X.columns[i] for i in selected_indices]\n",
    "print(\"Selected Features:\")\n",
    "for feature_name in selected_feature_names:\n",
    "    print(feature_name)\n"
   ]
  },
  {
   "cell_type": "markdown",
   "id": "bc49154b",
   "metadata": {},
   "source": [
    "#### L1 Regularization (Lasso)\n",
    "L1 regularization can be used to induce sparsity in the coefficients of a linear model, thereby automatically selecting a subset of features."
   ]
  },
  {
   "cell_type": "code",
   "execution_count": 31,
   "id": "66479a8c",
   "metadata": {},
   "outputs": [
    {
     "name": "stdout",
     "output_type": "stream",
     "text": [
      "Selected Features:\n",
      "Feature2\n"
     ]
    }
   ],
   "source": [
    "from sklearn.linear_model import Lasso\n",
    "\n",
    "# Create a sample dataset\n",
    "np.random.seed(0)\n",
    "data = pd.DataFrame({\n",
    "    'Feature1': np.random.rand(100),\n",
    "    'Feature2': np.random.randint(0, 10, 100),\n",
    "    'Feature3': np.random.normal(0, 1, 100),\n",
    "    'Feature4': np.random.choice(['A', 'B', 'C'], 100),\n",
    "    'Target': np.random.randint(0, 2, 100)\n",
    "})\n",
    "\n",
    "# Encode categorical feature\n",
    "data_encoded = pd.get_dummies(data, columns=['Feature4'], drop_first=True)\n",
    "\n",
    "# Split the dataset into X (features) and y (target variable)\n",
    "X = data_encoded.drop('Target', axis=1)\n",
    "y = data_encoded['Target']\n",
    "\n",
    "# Initialize the Lasso estimator\n",
    "lasso = Lasso(alpha=0.1)  # Set the regularization strength (alpha)\n",
    "\n",
    "# Fit the Lasso model to the data\n",
    "lasso.fit(X, y)\n",
    "\n",
    "# Get the feature importance scores\n",
    "feature_importances = lasso.coef_\n",
    "\n",
    "# Get the selected feature indices (non-zero coefficients)\n",
    "selected_indices = np.nonzero(feature_importances)[0]\n",
    "\n",
    "# Print the selected feature indices and their corresponding names\n",
    "selected_feature_names = X.columns[selected_indices]\n",
    "print(\"Selected Features:\")\n",
    "for feature_name in selected_feature_names:\n",
    "    print(feature_name)\n"
   ]
  },
  {
   "cell_type": "markdown",
   "id": "bf5f2305",
   "metadata": {},
   "source": [
    "#### Recursive Feature Addition (RFA):\n",
    "RFA is the opposite of RFE. It starts with an empty set of features and iteratively adds one feature at a time based on a selected evaluation metric until a stopping criterion is met."
   ]
  },
  {
   "cell_type": "code",
   "execution_count": 32,
   "id": "3e7d3b12",
   "metadata": {},
   "outputs": [
    {
     "name": "stderr",
     "output_type": "stream",
     "text": [
      "C:\\Users\\RACHIT\\anaconda3\\lib\\site-packages\\sklearn\\preprocessing\\_encoders.py:972: FutureWarning: `sparse` was renamed to `sparse_output` in version 1.2 and will be removed in 1.4. `sparse_output` is ignored unless you leave `sparse` to its default value.\n",
      "  warnings.warn(\n"
     ]
    },
    {
     "name": "stdout",
     "output_type": "stream",
     "text": [
      "Selected Features:\n",
      "C\n"
     ]
    }
   ],
   "source": [
    "from sklearn.feature_selection import RFECV\n",
    "from sklearn.linear_model import LogisticRegression\n",
    "from sklearn.preprocessing import OneHotEncoder\n",
    "\n",
    "# Create a sample dataset\n",
    "np.random.seed(0)\n",
    "data = pd.DataFrame({\n",
    "    'Feature1': np.random.rand(100),\n",
    "    'Feature2': np.random.randint(0, 10, 100),\n",
    "    'Feature3': np.random.normal(0, 1, 100),\n",
    "    'Feature4': np.random.choice(['A', 'B', 'C'], 100),\n",
    "    'Target': np.random.randint(0, 2, 100)\n",
    "})\n",
    "\n",
    "# Perform one-hot encoding for the categorical feature\n",
    "onehot_encoder = OneHotEncoder(sparse=False, handle_unknown='ignore')\n",
    "encoded_feature4 = onehot_encoder.fit_transform(data[['Feature4']])\n",
    "\n",
    "# Create a new DataFrame with the encoded feature\n",
    "encoded_data = pd.concat([data.drop('Feature4', axis=1), pd.DataFrame(encoded_feature4, columns=onehot_encoder.categories_[0])], axis=1)\n",
    "\n",
    "# Split the dataset into X (features) and y (target variable)\n",
    "X = encoded_data.drop('Target', axis=1)\n",
    "y = encoded_data['Target']\n",
    "\n",
    "# Initialize the estimator (model) for feature importance estimation\n",
    "estimator = LogisticRegression()\n",
    "\n",
    "# Initialize the Recursive Feature Addition (RFA) object\n",
    "rfa = RFECV(estimator, cv=5)  # Use 5-fold cross-validation\n",
    "\n",
    "# Perform RFA feature selection\n",
    "selected_features = rfa.fit_transform(X, y)\n",
    "\n",
    "# Get the selected feature indices\n",
    "selected_indices = rfa.get_support(indices=True)\n",
    "\n",
    "# Print the selected feature indices and their corresponding names\n",
    "selected_feature_names = [X.columns[i] for i in selected_indices]\n",
    "print(\"Selected Features:\")\n",
    "for feature_name in selected_feature_names:\n",
    "    print(feature_name)\n"
   ]
  },
  {
   "cell_type": "markdown",
   "id": "b8af9761",
   "metadata": {},
   "source": [
    "#### SelectFromModel:\n",
    "SelectFromModel is a meta-transformer that selects features based on the importance scores provided by a base model. It allows you to specify a threshold to control the number of selected features."
   ]
  },
  {
   "cell_type": "code",
   "execution_count": 33,
   "id": "2ff5c8c7",
   "metadata": {},
   "outputs": [
    {
     "name": "stdout",
     "output_type": "stream",
     "text": [
      "Selected Features:\n",
      "Feature1\n",
      "Feature3\n"
     ]
    }
   ],
   "source": [
    "from sklearn.feature_selection import SelectFromModel\n",
    "from sklearn.ensemble import RandomForestClassifier\n",
    "\n",
    "# Create a sample dataset\n",
    "np.random.seed(0)\n",
    "data = pd.DataFrame({\n",
    "    'Feature1': np.random.rand(100),\n",
    "    'Feature2': np.random.randint(0, 10, 100),\n",
    "    'Feature3': np.random.normal(0, 1, 100),\n",
    "    'Target': np.random.randint(0, 2, 100)\n",
    "})\n",
    "\n",
    "# Split the dataset into X (features) and y (target variable)\n",
    "X = data.drop('Target', axis=1)\n",
    "y = data['Target']\n",
    "\n",
    "# Initialize the estimator (model) for feature importance estimation\n",
    "estimator = RandomForestClassifier()\n",
    "\n",
    "# Initialize the SelectFromModel object\n",
    "selector = SelectFromModel(estimator)\n",
    "\n",
    "# Perform feature selection\n",
    "selected_features = selector.fit_transform(X, y)\n",
    "\n",
    "# Get the selected feature indices\n",
    "selected_indices = selector.get_support(indices=True)\n",
    "\n",
    "# Print the selected feature indices and their corresponding names\n",
    "selected_feature_names = [X.columns[i] for i in selected_indices]\n",
    "print(\"Selected Features:\")\n",
    "for feature_name in selected_feature_names:\n",
    "    print(feature_name)\n"
   ]
  },
  {
   "cell_type": "markdown",
   "id": "779980bd",
   "metadata": {},
   "source": [
    "#### Correlation Matrix\n",
    "The correlation matrix can be used to identify highly correlated features and select only one representative feature from each correlated group."
   ]
  },
  {
   "cell_type": "code",
   "execution_count": 34,
   "id": "7fa3618e",
   "metadata": {},
   "outputs": [
    {
     "data": {
      "image/png": "[encoded data removed]",
      "text/plain": [
       "<Figure size 800x600 with 2 Axes>"
      ]
     },
     "metadata": {},
     "output_type": "display_data"
    },
    {
     "name": "stdout",
     "output_type": "stream",
     "text": [
      "Highly Correlated Features:\n",
      "Empty DataFrame\n",
      "Columns: [Feature, Highly Correlated Features]\n",
      "Index: []\n"
     ]
    }
   ],
   "source": [
    "# Create a sample dataset\n",
    "np.random.seed(0)\n",
    "data = pd.DataFrame({\n",
    "    'Feature1': np.random.rand(100),\n",
    "    'Feature2': np.random.randint(0, 10, 100),\n",
    "    'Feature3': np.random.normal(0, 1, 100),\n",
    "    'Feature4': np.random.choice(['A', 'B', 'C'], 100),\n",
    "    'Target': np.random.randint(0, 2, 100)\n",
    "})\n",
    "\n",
    "# Calculate the correlation matrix\n",
    "corr_matrix = data.corr()\n",
    "\n",
    "# Plot the correlation matrix as a heatmap\n",
    "plt.figure(figsize=(8, 6))\n",
    "sns.heatmap(corr_matrix, annot=True, cmap='coolwarm')\n",
    "plt.title('Correlation Matrix')\n",
    "plt.show()\n",
    "\n",
    "# Set the threshold for correlation value\n",
    "threshold = 0.3\n",
    "\n",
    "# Get the absolute correlation values above the threshold\n",
    "high_corr_features = corr_matrix[abs(corr_matrix) > threshold].stack().reset_index()\n",
    "\n",
    "# Filter out the self-correlations (diagonal elements) and duplicate correlations\n",
    "high_corr_features = high_corr_features[high_corr_features['level_0'] != high_corr_features['level_1']]\n",
    "\n",
    "# Get the unique pairs of highly correlated features\n",
    "unique_high_corr_features = high_corr_features.groupby('level_0')['level_1'].apply(set).reset_index()\n",
    "unique_high_corr_features.columns = ['Feature', 'Highly Correlated Features']\n",
    "\n",
    "# Print the highly correlated feature pairs\n",
    "print(\"Highly Correlated Features:\")\n",
    "print(unique_high_corr_features)\n"
   ]
  },
  {
   "cell_type": "markdown",
   "id": "5c85b6bf",
   "metadata": {},
   "source": [
    "#### Principal Component Analysis (PCA) \n",
    "PCA is a popular technique that transforms the original features into a new set of uncorrelated variables called principal components. It aims to capture the maximum variance in the data."
   ]
  },
  {
   "cell_type": "code",
   "execution_count": 35,
   "id": "1bd86597",
   "metadata": {},
   "outputs": [
    {
     "name": "stdout",
     "output_type": "stream",
     "text": [
      "Explained Variance Ratio:\n",
      "[0.42444987 0.32299404]\n",
      "Principal Components:\n",
      "        PC1       PC2\n",
      "0 -0.941287  0.641507\n",
      "1 -0.078539  0.726065\n",
      "2  0.014491 -0.083057\n",
      "3 -1.706534  0.946253\n",
      "4  0.879801 -0.394987\n"
     ]
    }
   ],
   "source": [
    "from sklearn.decomposition import PCA\n",
    "from sklearn.preprocessing import StandardScaler\n",
    "\n",
    "# Create a sample dataset\n",
    "np.random.seed(0)\n",
    "data = pd.DataFrame({\n",
    "    'Feature1': np.random.rand(100),\n",
    "    'Feature2': np.random.randint(0, 10, 100),\n",
    "    'Feature3': np.random.normal(0, 1, 100),\n",
    "    'Target': np.random.randint(0, 2, 100)\n",
    "})\n",
    "\n",
    "# Split the dataset into X (features) and y (target variable)\n",
    "X = data.drop('Target', axis=1)\n",
    "y = data['Target']\n",
    "\n",
    "# Perform feature scaling using StandardScaler\n",
    "scaler = StandardScaler()\n",
    "X_scaled = scaler.fit_transform(X)\n",
    "\n",
    "# Initialize PCA object\n",
    "pca = PCA(n_components=2)  # Set the number of principal components to keep\n",
    "\n",
    "# Perform PCA on the scaled features\n",
    "X_pca = pca.fit_transform(X_scaled)\n",
    "\n",
    "# Create a new DataFrame with the principal components\n",
    "principal_components = pd.DataFrame(data=X_pca, columns=['PC1', 'PC2'])\n",
    "\n",
    "# Print the explained variance ratio\n",
    "print(\"Explained Variance Ratio:\")\n",
    "print(pca.explained_variance_ratio_)\n",
    "\n",
    "# Print the principal components dataframe\n",
    "print(\"Principal Components:\")\n",
    "print(principal_components.head())\n"
   ]
  },
  {
   "cell_type": "markdown",
   "id": "71429800",
   "metadata": {},
   "source": [
    "#### Random Forest Importance\n",
    "Random Forest Importance assigns an importance score to each feature based on how much the feature contributes to the accuracy of a random forest model."
   ]
  },
  {
   "cell_type": "code",
   "execution_count": 36,
   "id": "c938df1f",
   "metadata": {},
   "outputs": [
    {
     "name": "stdout",
     "output_type": "stream",
     "text": [
      "Feature Importances:\n",
      "      Feature  Importance\n",
      "0    Feature1    0.347744\n",
      "2    Feature3    0.312635\n",
      "1    Feature2    0.235444\n",
      "5  Feature4_C    0.042192\n",
      "4  Feature4_B    0.038426\n",
      "3  Feature4_A    0.023559\n"
     ]
    }
   ],
   "source": [
    "from sklearn.ensemble import RandomForestClassifier\n",
    "\n",
    "# Create a sample dataset\n",
    "np.random.seed(0)\n",
    "data = pd.DataFrame({\n",
    "    'Feature1': np.random.rand(100),\n",
    "    'Feature2': np.random.randint(0, 10, 100),\n",
    "    'Feature3': np.random.normal(0, 1, 100),\n",
    "    'Feature4': np.random.choice(['A', 'B', 'C'], 100),\n",
    "    'Target': np.random.randint(0, 2, 100)\n",
    "})\n",
    "\n",
    "# Perform one-hot encoding for the categorical feature\n",
    "encoded_data = pd.get_dummies(data, columns=['Feature4'])\n",
    "\n",
    "# Split the dataset into X (features) and y (target variable)\n",
    "X = encoded_data.drop('Target', axis=1)\n",
    "y = encoded_data['Target']\n",
    "\n",
    "# Initialize the Random Forest Classifier\n",
    "rf_classifier = RandomForestClassifier(n_estimators=100, random_state=0)\n",
    "\n",
    "# Fit the classifier to the data\n",
    "rf_classifier.fit(X, y)\n",
    "\n",
    "# Get feature importances from the classifier\n",
    "importances = rf_classifier.feature_importances_\n",
    "\n",
    "# Create a DataFrame of feature importances\n",
    "feature_importances = pd.DataFrame({'Feature': X.columns, 'Importance': importances})\n",
    "feature_importances = feature_importances.sort_values(by='Importance', ascending=False)\n",
    "\n",
    "# Print the feature importances\n",
    "print(\"Feature Importances:\")\n",
    "print(feature_importances)\n"
   ]
  },
  {
   "cell_type": "markdown",
   "id": "4c069eec",
   "metadata": {},
   "source": [
    "#### Independent Component Analysis (ICA)\n",
    "ICA is used to separate a multivariate signal into additive subcomponents by assuming the independence of the components. It can be used for feature extraction in scenarios where the underlying sources are statistically independent"
   ]
  },
  {
   "cell_type": "code",
   "execution_count": 37,
   "id": "548aa385",
   "metadata": {},
   "outputs": [
    {
     "name": "stdout",
     "output_type": "stream",
     "text": [
      "ICA Features:\n",
      "       ICA1      ICA2\n",
      "0 -0.505701  1.004970\n",
      "1  0.049168  0.628112\n",
      "2  1.198251  0.925680\n",
      "3 -0.748373  1.720097\n",
      "4  0.178875 -1.093848\n"
     ]
    }
   ],
   "source": [
    "from sklearn.decomposition import FastICA\n",
    "\n",
    "# Create a sample dataset\n",
    "np.random.seed(0)\n",
    "data = pd.DataFrame({\n",
    "    'Feature1': np.random.rand(100),\n",
    "    'Feature2': np.random.randint(0, 10, 100),\n",
    "    'Feature3': np.random.normal(0, 1, 100),\n",
    "    'Feature4': np.random.choice(['A', 'B', 'C'], 100),\n",
    "    'Target': np.random.randint(0, 2, 100)\n",
    "})\n",
    "\n",
    "# Split the dataset into X (features) and y (target variable)\n",
    "X = data.drop('Target', axis=1)\n",
    "y = data['Target']\n",
    "\n",
    "# Perform one-hot encoding for the categorical feature\n",
    "X_encoded = pd.get_dummies(X, columns=['Feature4'])\n",
    "\n",
    "# Initialize the Independent Component Analysis (ICA) object\n",
    "ica = FastICA(n_components=2)  # Select the top 2 independent components\n",
    "\n",
    "# Perform ICA for feature extraction\n",
    "X_ica = ica.fit_transform(X_encoded)\n",
    "\n",
    "# Create a DataFrame with the extracted features\n",
    "ica_data = pd.DataFrame(X_ica, columns=['ICA1', 'ICA2'])\n",
    "\n",
    "# Print the extracted features\n",
    "print(\"ICA Features:\")\n",
    "print(ica_data.head())\n"
   ]
  },
  {
   "cell_type": "markdown",
   "id": "451b3730",
   "metadata": {},
   "source": [
    "#### Non-Negative Matrix Factorization (NMF)\n",
    "NMF is a technique that factorizes the data matrix into non-negative matrices, which can be interpreted as parts-based representation of the original data. It can be used for feature extraction when the features are non-negative"
   ]
  },
  {
   "cell_type": "code",
   "execution_count": 38,
   "id": "2a557f06",
   "metadata": {},
   "outputs": [
    {
     "name": "stdout",
     "output_type": "stream",
     "text": [
      "Selected Features:\n",
      "['Feature4_B' 'Target' 'Feature1' 'Feature3' 'Feature4_A' 'Feature2']\n",
      "['Feature4_A' 'Target' 'Feature2' 'Feature1' 'Feature3' 'Feature4_B']\n"
     ]
    },
    {
     "name": "stderr",
     "output_type": "stream",
     "text": [
      "C:\\Users\\RACHIT\\AppData\\Local\\Temp\\ipykernel_6720\\2732190983.py:34: FutureWarning: Support for multi-dimensional indexing (e.g. `obj[:, None]`) is deprecated and will be removed in a future version.  Convert to a numpy array before indexing instead.\n",
      "  selected_feature_names = encoded_data.columns[selected_indices]\n"
     ]
    }
   ],
   "source": [
    "from sklearn.decomposition import NMF\n",
    "from sklearn.preprocessing import MinMaxScaler\n",
    "\n",
    "# Create a sample dataset\n",
    "np.random.seed(0)\n",
    "data = pd.DataFrame({\n",
    "    'Feature1': np.random.randn(100),\n",
    "    'Feature2': np.random.randint(0, 10, 100),\n",
    "    'Feature3': np.random.normal(0, 1, 100),\n",
    "    'Feature4': np.random.choice(['A', 'B', 'C'], 100),\n",
    "    'Target': np.random.randint(0, 2, 100)\n",
    "})\n",
    "\n",
    "# Perform one-hot encoding for the categorical feature\n",
    "encoded_data = pd.get_dummies(data, columns=['Feature4'])\n",
    "\n",
    "# Apply log transformation and shift to make the values non-negative\n",
    "scaler = MinMaxScaler()\n",
    "X = np.log1p(scaler.fit_transform(encoded_data.drop('Target', axis=1)) + 1e-8)\n",
    "\n",
    "# Split the dataset into X (features) and y (target variable)\n",
    "y = encoded_data['Target']\n",
    "\n",
    "# Initialize the NMF object\n",
    "nmf = NMF(n_components=2)  # Select the top 2 components\n",
    "\n",
    "# Perform NMF feature selection\n",
    "selected_features = nmf.fit_transform(X)\n",
    "\n",
    "# Get the selected feature indices\n",
    "selected_indices = np.argsort(nmf.components_)[-2:]\n",
    "\n",
    "# Print the selected feature indices and their corresponding names\n",
    "selected_feature_names = encoded_data.columns[selected_indices]\n",
    "print(\"Selected Features:\")\n",
    "for feature_name in selected_feature_names:\n",
    "    print(feature_name)\n"
   ]
  },
  {
   "cell_type": "markdown",
   "id": "067225c4",
   "metadata": {},
   "source": [
    "#### t-distributed Stochastic Neighbor Embedding (t-SNE)\n",
    "t-SNE is a technique commonly used for data visualization and exploratory analysis. It maps high-dimensional data to a lower-dimensional space while preserving local relationships and capturing non-linear structures. t-SNE is particularly useful for visualizing clusters or identifying patterns in the data."
   ]
  },
  {
   "cell_type": "code",
   "execution_count": 39,
   "id": "59383de1",
   "metadata": {},
   "outputs": [
    {
     "data": {
      "image/png": "[encoded data removed]",
      "text/plain": [
       "<Figure size 640x480 with 1 Axes>"
      ]
     },
     "metadata": {},
     "output_type": "display_data"
    }
   ],
   "source": [
    "from sklearn.manifold import TSNE\n",
    "import matplotlib.pyplot as plt\n",
    "\n",
    "# Create a sample dataset\n",
    "np.random.seed(0)\n",
    "data = pd.DataFrame({\n",
    "    'Feature1': np.random.rand(100),\n",
    "    'Feature2': np.random.randint(0, 10, 100),\n",
    "    'Feature3': np.random.normal(0, 1, 100),\n",
    "    'Feature4': np.random.choice(['A', 'B', 'C'], 100),\n",
    "    'Target': np.random.randint(0, 2, 100)\n",
    "})\n",
    "\n",
    "# Perform one-hot encoding for the categorical feature\n",
    "encoded_data = pd.get_dummies(data, columns=['Feature4'])\n",
    "\n",
    "# Split the dataset into X (features) and y (target variable)\n",
    "X = encoded_data.drop('Target', axis=1)\n",
    "y = encoded_data['Target']\n",
    "\n",
    "# Initialize the t-SNE object\n",
    "tsne = TSNE(n_components=2)\n",
    "\n",
    "# Perform t-SNE transformation\n",
    "X_tsne = tsne.fit_transform(X)\n",
    "\n",
    "# Visualize the t-SNE plot\n",
    "plt.scatter(X_tsne[:, 0], X_tsne[:, 1], c=y)\n",
    "plt.xlabel('t-SNE Component 1')\n",
    "plt.ylabel('t-SNE Component 2')\n",
    "plt.title('t-SNE Visualization')\n",
    "plt.show()\n"
   ]
  },
  {
   "cell_type": "markdown",
   "id": "bf20830a",
   "metadata": {},
   "source": [
    "#### Linear Discriminant Analysis (LDA)\n",
    "LDA is a supervised dimensionality reduction technique that aims to find a linear combination of features that maximizes class separability. It considers class labels in addition to the data itself, making it useful for classification tasks. LDA seeks to find discriminative features that maximize between-class variance while minimizing within-class variance."
   ]
  },
  {
   "cell_type": "code",
   "execution_count": 40,
   "id": "a6a606d9",
   "metadata": {},
   "outputs": [
    {
     "name": "stdout",
     "output_type": "stream",
     "text": [
      "Selected Features Shape: (100, 2)\n"
     ]
    }
   ],
   "source": [
    "from sklearn.discriminant_analysis import LinearDiscriminantAnalysis\n",
    "\n",
    "# Create a sample dataset\n",
    "np.random.seed(0)\n",
    "data = pd.DataFrame({\n",
    "    'Feature1': np.random.rand(100),\n",
    "    'Feature2': np.random.randint(0, 10, 100),\n",
    "    'Feature3': np.random.normal(0, 1, 100),\n",
    "    'Feature4': np.random.choice(['A', 'B', 'C'], 100),\n",
    "    'Target': np.random.randint(0, 3, 100)  # Increase the number of classes to 3\n",
    "})\n",
    "\n",
    "# Perform one-hot encoding for the categorical feature\n",
    "encoded_data = pd.get_dummies(data, columns=['Feature4'])\n",
    "\n",
    "# Split the dataset into X (features) and y (target variable)\n",
    "X = encoded_data.drop('Target', axis=1)\n",
    "y = encoded_data['Target']\n",
    "\n",
    "# Initialize the LDA object\n",
    "lda = LinearDiscriminantAnalysis(n_components=2)  # Set the n_components value to 2 or less\n",
    "\n",
    "# Perform LDA feature selection\n",
    "selected_features = lda.fit_transform(X, y)\n",
    "\n",
    "# Print the selected feature shape\n",
    "print(\"Selected Features Shape:\", selected_features.shape)\n",
    "\n"
   ]
  },
  {
   "cell_type": "markdown",
   "id": "2c9ba4b9",
   "metadata": {},
   "source": [
    "#### Manifold Learning (e.g., Isomap, Locally Linear Embedding)\n",
    "Manifold Learning methods aim to capture the underlying non-linear structure of the data by mapping it to a lower-dimensional space. Techniques like Isomap and Locally Linear Embedding (LLE) preserve the local relationships of the data points and can reveal intricate structures in the data that may not be captured by linear methods like PCA."
   ]
  },
  {
   "cell_type": "code",
   "execution_count": 41,
   "id": "205584f2",
   "metadata": {},
   "outputs": [
    {
     "name": "stdout",
     "output_type": "stream",
     "text": [
      "Isomap Transformed Features Shape: (100, 2)\n",
      "LLE Transformed Features Shape: (100, 2)\n"
     ]
    }
   ],
   "source": [
    "from sklearn.manifold import Isomap, LocallyLinearEmbedding\n",
    "\n",
    "# Create a sample dataset\n",
    "np.random.seed(0)\n",
    "data = pd.DataFrame({\n",
    "    'Feature1': np.random.rand(100),\n",
    "    'Feature2': np.random.randint(0, 10, 100),\n",
    "    'Feature3': np.random.normal(0, 1, 100),\n",
    "    'Target': np.random.randint(0, 2, 100)\n",
    "})\n",
    "\n",
    "# Split the dataset into X (features) and y (target variable)\n",
    "X = data.drop('Target', axis=1)\n",
    "y = data['Target']\n",
    "\n",
    "# Initialize the Isomap object\n",
    "isomap = Isomap(n_components=2)  # Set the number of components to 2\n",
    "\n",
    "# Perform Isomap dimensionality reduction\n",
    "isomap_features = isomap.fit_transform(X)\n",
    "\n",
    "# Initialize the LLE object\n",
    "lle = LocallyLinearEmbedding(n_components=2)  # Set the number of components to 2\n",
    "\n",
    "# Perform LLE dimensionality reduction\n",
    "lle_features = lle.fit_transform(X)\n",
    "\n",
    "# Print the shape of the transformed features\n",
    "print(\"Isomap Transformed Features Shape:\", isomap_features.shape)\n",
    "print(\"LLE Transformed Features Shape:\", lle_features.shape)\n"
   ]
  },
  {
   "cell_type": "markdown",
   "id": "b0524774",
   "metadata": {},
   "source": [
    "## Handling Imbalanced Data"
   ]
  },
  {
   "cell_type": "markdown",
   "id": "ab64532e",
   "metadata": {},
   "source": [
    "#### Resampling Techniques\n",
    "Oversampling: Oversampling increases the number of instances in the minority class by replicating existing instances or generating synthetic samples. Common oversampling methods include Random Oversampling, SMOTE (Synthetic Minority Over-sampling Technique), and ADASYN (Adaptive Synthetic Sampling)."
   ]
  },
  {
   "cell_type": "code",
   "execution_count": 42,
   "id": "a390e172",
   "metadata": {},
   "outputs": [
    {
     "name": "stdout",
     "output_type": "stream",
     "text": [
      "Class Distribution:\n",
      "0    898\n",
      "1    102\n",
      "Name: Target, dtype: int64\n",
      "\n",
      "Class Distribution after Random Oversampling:\n",
      "0    898\n",
      "1    898\n",
      "Name: Target, dtype: int64\n",
      "\n",
      "Class Distribution after Random Undersampling:\n",
      "1    102\n",
      "0    102\n",
      "Name: Target, dtype: int64\n"
     ]
    }
   ],
   "source": [
    "from sklearn.datasets import make_classification\n",
    "from sklearn.utils import resample\n",
    "\n",
    "# Create a sample imbalanced dataset\n",
    "np.random.seed(0)\n",
    "X, y = make_classification(\n",
    "    n_samples=1000,\n",
    "    n_features=5,\n",
    "    n_informative=3,\n",
    "    n_redundant=2,\n",
    "    n_classes=2,\n",
    "    weights=[0.9, 0.1],  # Imbalanced class distribution\n",
    ")\n",
    "\n",
    "# Convert the dataset into a DataFrame\n",
    "data = pd.DataFrame(X, columns=['Feature1', 'Feature2', 'Feature3', 'Feature4', 'Feature5'])\n",
    "data['Target'] = y\n",
    "\n",
    "# Check the class distribution\n",
    "print(\"Class Distribution:\")\n",
    "print(data['Target'].value_counts())\n",
    "\n",
    "# Perform random oversampling\n",
    "oversampled_data = resample(data[data['Target'] == 1], n_samples=data['Target'].value_counts()[0], replace=True)\n",
    "oversampled_data = pd.concat([data[data['Target'] == 0], oversampled_data])\n",
    "\n",
    "# Perform random undersampling\n",
    "undersampled_data = resample(data[data['Target'] == 0], n_samples=data['Target'].value_counts()[1], replace=False)\n",
    "undersampled_data = pd.concat([data[data['Target'] == 1], undersampled_data])\n",
    "\n",
    "# Check the class distribution after resampling\n",
    "print(\"\\nClass Distribution after Random Oversampling:\")\n",
    "print(oversampled_data['Target'].value_counts())\n",
    "\n",
    "print(\"\\nClass Distribution after Random Undersampling:\")\n",
    "print(undersampled_data['Target'].value_counts())\n"
   ]
  },
  {
   "cell_type": "code",
   "execution_count": 43,
   "id": "a4f53962",
   "metadata": {},
   "outputs": [
    {
     "name": "stdout",
     "output_type": "stream",
     "text": [
      "Class Distribution:\n",
      "0    898\n",
      "1    102\n",
      "Name: Target, dtype: int64\n",
      "\n",
      "Class Distribution after Random Oversampling:\n",
      "1    898\n",
      "0    898\n",
      "Name: Target, dtype: int64\n",
      "\n",
      "Class Distribution after SMOTE:\n",
      "1    898\n",
      "0    898\n",
      "Name: Target, dtype: int64\n",
      "\n",
      "Class Distribution after ADASYN:\n",
      "1    900\n",
      "0    898\n",
      "Name: Target, dtype: int64\n"
     ]
    }
   ],
   "source": [
    "from sklearn.datasets import make_classification\n",
    "from imblearn.over_sampling import RandomOverSampler, SMOTE, ADASYN\n",
    "\n",
    "# Create a sample imbalanced dataset\n",
    "np.random.seed(0)\n",
    "X, y = make_classification(\n",
    "    n_samples=1000,\n",
    "    n_features=5,\n",
    "    n_informative=3,\n",
    "    n_redundant=2,\n",
    "    n_classes=2,\n",
    "    weights=[0.9, 0.1],  # Imbalanced class distribution\n",
    ")\n",
    "\n",
    "# Convert the dataset into a DataFrame\n",
    "data = pd.DataFrame(X, columns=['Feature1', 'Feature2', 'Feature3', 'Feature4', 'Feature5'])\n",
    "data['Target'] = y\n",
    "\n",
    "# Check the class distribution\n",
    "print(\"Class Distribution:\")\n",
    "print(data['Target'].value_counts())\n",
    "\n",
    "# Random Oversampling\n",
    "ros = RandomOverSampler(random_state=0)\n",
    "X_ros, y_ros = ros.fit_resample(data.drop('Target', axis=1), data['Target'])\n",
    "\n",
    "# SMOTE\n",
    "smote = SMOTE(random_state=0)\n",
    "X_smote, y_smote = smote.fit_resample(data.drop('Target', axis=1), data['Target'])\n",
    "\n",
    "# ADASYN\n",
    "adasyn = ADASYN(random_state=0)\n",
    "X_adasyn, y_adasyn = adasyn.fit_resample(data.drop('Target', axis=1), data['Target'])\n",
    "\n",
    "# Check the class distribution after resampling\n",
    "print(\"\\nClass Distribution after Random Oversampling:\")\n",
    "print(pd.Series(y_ros).value_counts())\n",
    "\n",
    "print(\"\\nClass Distribution after SMOTE:\")\n",
    "print(pd.Series(y_smote).value_counts())\n",
    "\n",
    "print(\"\\nClass Distribution after ADASYN:\")\n",
    "print(pd.Series(y_adasyn).value_counts())\n"
   ]
  },
  {
   "cell_type": "markdown",
   "id": "8e4656a0",
   "metadata": {},
   "source": [
    "#### Undersampling\n",
    "Undersampling reduces the number of instances in the majority class by randomly removing samples. It can be effective when the dataset is large, and the majority class has many redundant instances. Common undersampling methods include Random Undersampling, NearMiss, and Tomek Links."
   ]
  },
  {
   "cell_type": "code",
   "execution_count": 44,
   "id": "1740de8f",
   "metadata": {},
   "outputs": [
    {
     "name": "stdout",
     "output_type": "stream",
     "text": [
      "Class Distribution:\n",
      "0    898\n",
      "1    102\n",
      "Name: Target, dtype: int64\n",
      "\n",
      "Class Distribution after Random Undersampling:\n",
      "0    102\n",
      "1    102\n",
      "Name: Target, dtype: int64\n",
      "\n",
      "Class Distribution after NearMiss:\n",
      "0    102\n",
      "1    102\n",
      "Name: Target, dtype: int64\n",
      "\n",
      "Class Distribution after TomekLinks:\n",
      "0    886\n",
      "1    102\n",
      "Name: Target, dtype: int64\n"
     ]
    }
   ],
   "source": [
    "from sklearn.datasets import make_classification\n",
    "from imblearn.under_sampling import RandomUnderSampler, NearMiss\n",
    "from imblearn.under_sampling import TomekLinks\n",
    "\n",
    "# Create a sample imbalanced dataset\n",
    "np.random.seed(0)\n",
    "X, y = make_classification(\n",
    "    n_samples=1000,\n",
    "    n_features=5,\n",
    "    n_informative=3,\n",
    "    n_redundant=2,\n",
    "    n_classes=2,\n",
    "    weights=[0.9, 0.1],  # Imbalanced class distribution\n",
    ")\n",
    "\n",
    "# Convert the dataset into a DataFrame\n",
    "data = pd.DataFrame(X, columns=['Feature1', 'Feature2', 'Feature3', 'Feature4', 'Feature5'])\n",
    "data['Target'] = y\n",
    "\n",
    "# Check the class distribution\n",
    "print(\"Class Distribution:\")\n",
    "print(data['Target'].value_counts())\n",
    "\n",
    "# Random Undersampling\n",
    "rus = RandomUnderSampler(random_state=0)\n",
    "X_rus, y_rus = rus.fit_resample(data.drop('Target', axis=1), data['Target'])\n",
    "\n",
    "# NearMiss\n",
    "nm = NearMiss(version=1)\n",
    "X_nm, y_nm = nm.fit_resample(data.drop('Target', axis=1), data['Target'])\n",
    "\n",
    "# TomekLinks\n",
    "tl = TomekLinks()\n",
    "X_tl, y_tl = tl.fit_resample(data.drop('Target', axis=1), data['Target'])\n",
    "\n",
    "# Check the class distribution after undersampling\n",
    "print(\"\\nClass Distribution after Random Undersampling:\")\n",
    "print(pd.Series(y_rus).value_counts())\n",
    "\n",
    "print(\"\\nClass Distribution after NearMiss:\")\n",
    "print(pd.Series(y_nm).value_counts())\n",
    "\n",
    "print(\"\\nClass Distribution after TomekLinks:\")\n",
    "print(pd.Series(y_tl).value_counts())\n"
   ]
  },
  {
   "cell_type": "markdown",
   "id": "c585e170",
   "metadata": {},
   "source": [
    "#### Class Weighting\n",
    "Assigning class weights can be used to give more importance to the minority class during model training. This approach is applicable to algorithms that accept class weights as a parameter, such as decision trees or support vector machines."
   ]
  },
  {
   "cell_type": "code",
   "execution_count": 45,
   "id": "1e996808",
   "metadata": {},
   "outputs": [
    {
     "name": "stdout",
     "output_type": "stream",
     "text": [
      "Class Distribution:\n",
      "0    898\n",
      "1    102\n",
      "Name: Target, dtype: int64\n",
      "\n",
      "Classification Report:\n",
      "              precision    recall  f1-score   support\n",
      "\n",
      "           0       0.90      0.73      0.81       173\n",
      "           1       0.22      0.48      0.30        27\n",
      "\n",
      "    accuracy                           0.69       200\n",
      "   macro avg       0.56      0.60      0.55       200\n",
      "weighted avg       0.81      0.69      0.74       200\n",
      "\n"
     ]
    }
   ],
   "source": [
    "from sklearn.datasets import make_classification\n",
    "from sklearn.model_selection import train_test_split\n",
    "from sklearn.linear_model import LogisticRegression\n",
    "from sklearn.metrics import classification_report\n",
    "\n",
    "# Create a sample imbalanced dataset\n",
    "np.random.seed(0)\n",
    "X, y = make_classification(\n",
    "    n_samples=1000,\n",
    "    n_features=5,\n",
    "    n_informative=3,\n",
    "    n_redundant=2,\n",
    "    n_classes=2,\n",
    "    weights=[0.9, 0.1],  # Imbalanced class distribution\n",
    ")\n",
    "\n",
    "# Convert the dataset into a DataFrame\n",
    "data = pd.DataFrame(X, columns=['Feature1', 'Feature2', 'Feature3', 'Feature4', 'Feature5'])\n",
    "data['Target'] = y\n",
    "\n",
    "# Check the class distribution\n",
    "print(\"Class Distribution:\")\n",
    "print(data['Target'].value_counts())\n",
    "\n",
    "# Split the dataset into train and test sets\n",
    "X_train, X_test, y_train, y_test = train_test_split(data.drop('Target', axis=1), data['Target'], test_size=0.2, random_state=0)\n",
    "\n",
    "# Calculate class weights\n",
    "class_weights = dict(1 / data['Target'].value_counts())\n",
    "\n",
    "# Create and train the model with class weighting\n",
    "model = LogisticRegression(class_weight=class_weights)\n",
    "model.fit(X_train, y_train)\n",
    "\n",
    "# Make predictions on the test set\n",
    "y_pred = model.predict(X_test)\n",
    "\n",
    "# Evaluate the model\n",
    "print(\"\\nClassification Report:\")\n",
    "print(classification_report(y_test, y_pred))\n"
   ]
  },
  {
   "cell_type": "markdown",
   "id": "afb94df6",
   "metadata": {},
   "source": [
    "#### Ensemble Techniques\n",
    "Ensemble methods combine multiple models to improve predictive performance. They can be effective for imbalanced data by giving more importance to the minority class. Examples include Balanced Random Forest and EasyEnsemble."
   ]
  },
  {
   "cell_type": "code",
   "execution_count": 46,
   "id": "e1a1df80",
   "metadata": {},
   "outputs": [
    {
     "name": "stdout",
     "output_type": "stream",
     "text": [
      "Class Distribution:\n",
      "0    898\n",
      "1    102\n",
      "Name: Target, dtype: int64\n"
     ]
    },
    {
     "name": "stderr",
     "output_type": "stream",
     "text": [
      "C:\\Users\\RACHIT\\anaconda3\\lib\\site-packages\\imblearn\\ensemble\\_forest.py:546: FutureWarning: The default of `sampling_strategy` will change from `'auto'` to `'all'` in version 0.13. This change will follow the implementation proposed in the original paper. Set to `'all'` to silence this warning and adopt the future behaviour.\n",
      "  warn(\n",
      "C:\\Users\\RACHIT\\anaconda3\\lib\\site-packages\\imblearn\\ensemble\\_forest.py:558: FutureWarning: The default of `replacement` will change from `False` to `True` in version 0.13. This change will follow the implementation proposed in the original paper. Set to `True` to silence this warning and adopt the future behaviour.\n",
      "  warn(\n"
     ]
    },
    {
     "name": "stdout",
     "output_type": "stream",
     "text": [
      "\n",
      "Classification Report - Balanced Random Forest Classifier:\n",
      "              precision    recall  f1-score   support\n",
      "\n",
      "           0       0.96      0.92      0.94       173\n",
      "           1       0.62      0.78      0.69        27\n",
      "\n",
      "    accuracy                           0.91       200\n",
      "   macro avg       0.79      0.85      0.82       200\n",
      "weighted avg       0.92      0.91      0.91       200\n",
      "\n",
      "\n",
      "Classification Report - Easy Ensemble Classifier:\n",
      "              precision    recall  f1-score   support\n",
      "\n",
      "           0       0.97      0.84      0.90       173\n",
      "           1       0.44      0.81      0.57        27\n",
      "\n",
      "    accuracy                           0.83       200\n",
      "   macro avg       0.70      0.83      0.73       200\n",
      "weighted avg       0.90      0.83      0.85       200\n",
      "\n"
     ]
    }
   ],
   "source": [
    "from sklearn.datasets import make_classification\n",
    "from sklearn.model_selection import train_test_split\n",
    "from sklearn.metrics import classification_report\n",
    "from imblearn.ensemble import BalancedRandomForestClassifier, EasyEnsembleClassifier\n",
    "\n",
    "# Create a sample imbalanced dataset\n",
    "np.random.seed(0)\n",
    "X, y = make_classification(\n",
    "    n_samples=1000,\n",
    "    n_features=5,\n",
    "    n_informative=3,\n",
    "    n_redundant=2,\n",
    "    n_classes=2,\n",
    "    weights=[0.9, 0.1],  # Imbalanced class distribution\n",
    ")\n",
    "\n",
    "# Convert the dataset into a DataFrame\n",
    "data = pd.DataFrame(X, columns=['Feature1', 'Feature2', 'Feature3', 'Feature4', 'Feature5'])\n",
    "data['Target'] = y\n",
    "\n",
    "# Check the class distribution\n",
    "print(\"Class Distribution:\")\n",
    "print(data['Target'].value_counts())\n",
    "\n",
    "# Split the dataset into train and test sets\n",
    "X_train, X_test, y_train, y_test = train_test_split(data.drop('Target', axis=1), data['Target'], test_size=0.2, random_state=0)\n",
    "\n",
    "# Balanced Random Forest Classifier\n",
    "brf = BalancedRandomForestClassifier(random_state=0)\n",
    "brf.fit(X_train, y_train)\n",
    "y_pred_brf = brf.predict(X_test)\n",
    "\n",
    "# Easy Ensemble Classifier\n",
    "eec = EasyEnsembleClassifier(random_state=0)\n",
    "eec.fit(X_train, y_train)\n",
    "y_pred_eec = eec.predict(X_test)\n",
    "\n",
    "# Evaluate the models\n",
    "print(\"\\nClassification Report - Balanced Random Forest Classifier:\")\n",
    "print(classification_report(y_test, y_pred_brf))\n",
    "\n",
    "print(\"\\nClassification Report - Easy Ensemble Classifier:\")\n",
    "print(classification_report(y_test, y_pred_eec))\n"
   ]
  },
  {
   "cell_type": "markdown",
   "id": "6645bd61",
   "metadata": {},
   "source": [
    "#### Evaluation Metrics\n",
    "Instead of using standard accuracy, consider using evaluation metrics that are more appropriate for imbalanced data, such as precision, recall, F1-score, or area under the ROC curve (AUC-ROC)."
   ]
  },
  {
   "cell_type": "code",
   "execution_count": 47,
   "id": "17d55873",
   "metadata": {},
   "outputs": [],
   "source": [
    "from sklearn.metrics import roc_auc_score"
   ]
  },
  {
   "cell_type": "code",
   "execution_count": 48,
   "id": "276038e2",
   "metadata": {},
   "outputs": [
    {
     "name": "stdout",
     "output_type": "stream",
     "text": [
      "\n",
      "ROC AUC Score: 0.6049025904517233\n",
      "\n",
      "ROC AUC Score: 0.9173624491543566\n"
     ]
    }
   ],
   "source": [
    "# Predict probabilities of class 1 (positive class)\n",
    "y_pred_proba = brf.predict_proba(X_test)[:, 1]\n",
    "\n",
    "# Calculate the ROC AUC score with out predict_proba() method\n",
    "roc_auc = roc_auc_score(y_test, y_pred)\n",
    "print(\"\\nROC AUC Score:\", roc_auc)\n",
    "\n",
    "# Calculate the ROC AUC score with predict_proba() method\n",
    "roc_auc = roc_auc_score(y_test, y_pred_proba)\n",
    "print(\"\\nROC AUC Score:\", roc_auc)"
   ]
  },
  {
   "cell_type": "markdown",
   "id": "1d1af60a",
   "metadata": {},
   "source": [
    "## Data Integration"
   ]
  },
  {
   "cell_type": "markdown",
   "id": "81566b68",
   "metadata": {},
   "source": [
    "#### Concatenation\n",
    "Concatenation is the simplest technique that involves merging datasets vertically or horizontally based on a common key or index."
   ]
  },
  {
   "cell_type": "code",
   "execution_count": 49,
   "id": "469d451b",
   "metadata": {},
   "outputs": [
    {
     "name": "stdout",
     "output_type": "stream",
     "text": [
      "Concatenated Data:\n",
      "   ID  Feature1 Feature2\n",
      "0   1       0.5        A\n",
      "1   2       0.8        B\n",
      "2   3       0.2        C\n",
      "3   4       0.4        D\n",
      "0   5       0.9        E\n",
      "1   6       0.7        F\n",
      "2   7       0.3        G\n",
      "3   8       0.6        H\n"
     ]
    }
   ],
   "source": [
    "# Create sample datasets\n",
    "dataset1 = pd.DataFrame({\n",
    "    'ID': [1, 2, 3, 4],\n",
    "    'Feature1': [0.5, 0.8, 0.2, 0.4],\n",
    "    'Feature2': ['A', 'B', 'C', 'D']\n",
    "})\n",
    "\n",
    "dataset2 = pd.DataFrame({\n",
    "    'ID': [5, 6, 7, 8],\n",
    "    'Feature1': [0.9, 0.7, 0.3, 0.6],\n",
    "    'Feature2': ['E', 'F', 'G', 'H']\n",
    "})\n",
    "\n",
    "# Concatenate the datasets along rows\n",
    "concatenated_data = pd.concat([dataset1, dataset2], axis=0)\n",
    "\n",
    "# Print the concatenated dataset\n",
    "print(\"Concatenated Data:\")\n",
    "print(concatenated_data)\n"
   ]
  },
  {
   "cell_type": "markdown",
   "id": "23ba3c5b",
   "metadata": {},
   "source": [
    "#### Joins\n",
    "Joins are used to combine datasets based on common columns or keys. Common types of joins include inner join, left join, right join, and full outer join."
   ]
  },
  {
   "cell_type": "code",
   "execution_count": 50,
   "id": "9b895a76",
   "metadata": {},
   "outputs": [
    {
     "name": "stdout",
     "output_type": "stream",
     "text": [
      "Inner Join:\n",
      "   ID Feature1  Feature2 Feature3  Feature4\n",
      "0   3        C        30        X        50\n",
      "1   4        D        40        Y        60\n",
      "\n",
      "Left Join:\n",
      "   ID Feature1  Feature2 Feature3  Feature4\n",
      "0   1        A        10      NaN       NaN\n",
      "1   2        B        20      NaN       NaN\n",
      "2   3        C        30        X      50.0\n",
      "3   4        D        40        Y      60.0\n",
      "\n",
      "Right Join:\n",
      "   ID Feature1  Feature2 Feature3  Feature4\n",
      "0   3        C      30.0        X        50\n",
      "1   4        D      40.0        Y        60\n",
      "2   5      NaN       NaN        Z        70\n",
      "3   6      NaN       NaN        W        80\n",
      "\n",
      "Outer Join:\n",
      "   ID Feature1  Feature2 Feature3  Feature4\n",
      "0   1        A      10.0      NaN       NaN\n",
      "1   2        B      20.0      NaN       NaN\n",
      "2   3        C      30.0        X      50.0\n",
      "3   4        D      40.0        Y      60.0\n",
      "4   5      NaN       NaN        Z      70.0\n",
      "5   6      NaN       NaN        W      80.0\n"
     ]
    }
   ],
   "source": [
    "# Create sample datasets\n",
    "data1 = pd.DataFrame({\n",
    "    'ID': [1, 2, 3, 4],\n",
    "    'Feature1': ['A', 'B', 'C', 'D'],\n",
    "    'Feature2': [10, 20, 30, 40]\n",
    "})\n",
    "\n",
    "data2 = pd.DataFrame({\n",
    "    'ID': [3, 4, 5, 6],\n",
    "    'Feature3': ['X', 'Y', 'Z', 'W'],\n",
    "    'Feature4': [50, 60, 70, 80]\n",
    "})\n",
    "\n",
    "# Perform inner join\n",
    "inner_join = pd.merge(data1, data2, on='ID', how='inner')\n",
    "print(\"Inner Join:\")\n",
    "print(inner_join)\n",
    "\n",
    "# Perform left join\n",
    "left_join = pd.merge(data1, data2, on='ID', how='left')\n",
    "print(\"\\nLeft Join:\")\n",
    "print(left_join)\n",
    "\n",
    "# Perform right join\n",
    "right_join = pd.merge(data1, data2, on='ID', how='right')\n",
    "print(\"\\nRight Join:\")\n",
    "print(right_join)\n",
    "\n",
    "# Perform outer join\n",
    "outer_join = pd.merge(data1, data2, on='ID', how='outer')\n",
    "print(\"\\nOuter Join:\")\n",
    "print(outer_join)\n"
   ]
  },
  {
   "cell_type": "markdown",
   "id": "1311e1ef",
   "metadata": {},
   "source": [
    "#### Union\n",
    "Union combines rows from multiple datasets into a single dataset, and it is commonly used when datasets have the same structure and columns."
   ]
  },
  {
   "cell_type": "code",
   "execution_count": 51,
   "id": "6a52fec0",
   "metadata": {},
   "outputs": [
    {
     "name": "stdout",
     "output_type": "stream",
     "text": [
      "Union Dataset:\n",
      "   A  B\n",
      "0  1  a\n",
      "1  2  b\n",
      "2  3  c\n",
      "3  4  d\n",
      "4  5  e\n",
      "5  6  f\n"
     ]
    }
   ],
   "source": [
    "# Create sample datasets\n",
    "data1 = pd.DataFrame({'A': [1, 2, 3], 'B': ['a', 'b', 'c']})\n",
    "data2 = pd.DataFrame({'A': [4, 5, 6], 'B': ['d', 'e', 'f']})\n",
    "\n",
    "# Perform union operation\n",
    "union_data = pd.concat([data1, data2], ignore_index=True)\n",
    "\n",
    "# Print the union dataset\n",
    "print(\"Union Dataset:\")\n",
    "print(union_data)\n",
    "\n"
   ]
  },
  {
   "cell_type": "markdown",
   "id": "b3f5586c",
   "metadata": {},
   "source": [
    "#### Data Matching\n",
    "Data matching involves identifying and linking similar or matching records across datasets based on common attributes. Techniques like fuzzy matching or record linkage can be used for data matching."
   ]
  },
  {
   "cell_type": "code",
   "execution_count": 52,
   "id": "326fa400",
   "metadata": {},
   "outputs": [
    {
     "name": "stdout",
     "output_type": "stream",
     "text": [
      "Best Matching Record:\n",
      "Name       John Smith\n",
      "Phone    123-456-7890\n",
      "Name: 0, dtype: object\n"
     ]
    },
    {
     "name": "stderr",
     "output_type": "stream",
     "text": [
      "C:\\Users\\RACHIT\\anaconda3\\lib\\site-packages\\fuzzywuzzy\\fuzz.py:11: UserWarning: Using slow pure-python SequenceMatcher. Install python-Levenshtein to remove this warning\n",
      "  warnings.warn('Using slow pure-python SequenceMatcher. Install python-Levenshtein to remove this warning')\n"
     ]
    }
   ],
   "source": [
    "from fuzzywuzzy import fuzz, process\n",
    "\n",
    "# Create sample dataset\n",
    "data = pd.DataFrame({'Name': ['John Smith', 'Jane Doe', 'Mark Johnson', 'David Williams'],\n",
    "                     'Phone': ['123-456-7890', '555-123-4567', '987-654-3210', '123-123-4567']})\n",
    "\n",
    "# Target string for fuzzy matching\n",
    "target_string = 'John Smtih'\n",
    "\n",
    "# Perform fuzzy matching using process.extractOne()\n",
    "best_match = process.extractOne(target_string, data['Name'])\n",
    "best_match_index = best_match[2]\n",
    "\n",
    "# Get the best matching record\n",
    "matched_record = data.loc[best_match_index]\n",
    "\n",
    "# Print the best matching record\n",
    "print(\"Best Matching Record:\")\n",
    "print(matched_record)\n"
   ]
  },
  {
   "cell_type": "markdown",
   "id": "a00e907f",
   "metadata": {},
   "source": [
    "#### Entity Resolution\n",
    "Entity Resolution, also known as Record Linkage or Deduplication, is the process of identifying and merging records from different datasets that refer to the same real-world entity. This technique is particularly useful when dealing with data from multiple sources that contain duplicate or overlapping information."
   ]
  },
  {
   "cell_type": "code",
   "execution_count": 53,
   "id": "229af3b1",
   "metadata": {},
   "outputs": [
    {
     "name": "stdout",
     "output_type": "stream",
     "text": [
      "WARNING:recordlinkage:indexing - performance warning - A full index can result in large number of record pairs.\n",
      "Matches:\n",
      "       0    1\n",
      "0 0  1.0  1.0\n",
      "  2  0.0  1.0\n",
      "1 1  1.0  1.0\n"
     ]
    }
   ],
   "source": [
    "import recordlinkage\n",
    "\n",
    "# Create sample datasets\n",
    "data1 = pd.DataFrame({'ID': [1, 2, 3],\n",
    "                      'Name': ['John Smith', 'Jane Doe', 'Mark Johnson'],\n",
    "                      'Phone': ['123-456-7890', '555-123-4567', '987-654-3210']})\n",
    "\n",
    "data2 = pd.DataFrame({'ID': [4, 5, 6],\n",
    "                      'Name': ['John Smith', 'Jane Doe', 'David Williams'],\n",
    "                      'Phone': ['123-456-7890', '555-123-4567', '123-123-4567']})\n",
    "\n",
    "# Create indexer\n",
    "indexer = recordlinkage.Index()\n",
    "indexer.full()\n",
    "\n",
    "# Generate pairs\n",
    "pairs = indexer.index(data1, data2)\n",
    "\n",
    "# Create comparison algorithm\n",
    "compare = recordlinkage.Compare()\n",
    "\n",
    "# Compare fields for similarity\n",
    "compare.string('Name', 'Name', method='jarowinkler', threshold=0.85)\n",
    "compare.string('Phone', 'Phone', method='jarowinkler', threshold=0.85)\n",
    "\n",
    "# Compute similarity scores\n",
    "scores = compare.compute(pairs, data1, data2)\n",
    "\n",
    "# Select matches above threshold\n",
    "matches = scores[scores.sum(axis=1) >= 1]\n",
    "\n",
    "# Print matches\n",
    "print(\"Matches:\")\n",
    "print(matches)\n",
    "\n"
   ]
  },
  {
   "cell_type": "code",
   "execution_count": null,
   "id": "34a8e76d",
   "metadata": {},
   "outputs": [],
   "source": []
  }
 ],
 "metadata": {
  "kernelspec": {
   "display_name": "Python 3 (ipykernel)",
   "language": "python",
   "name": "python3"
  },
  "language_info": {
   "codemirror_mode": {
    "name": "ipython",
    "version": 3
   },
   "file_extension": ".py",
   "mimetype": "text/x-python",
   "name": "python",
   "nbconvert_exporter": "python",
   "pygments_lexer": "ipython3",
   "version": "3.9.13"
  }
 },
 "nbformat": 4,
 "nbformat_minor": 5
}
