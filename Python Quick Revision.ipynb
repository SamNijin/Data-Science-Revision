{
 "cells": [
  {
   "cell_type": "markdown",
   "id": "fc370030",
   "metadata": {},
   "source": [
    "## Variables and Data Types"
   ]
  },
  {
   "cell_type": "code",
   "execution_count": 1,
   "id": "58878543",
   "metadata": {},
   "outputs": [
    {
     "name": "stdout",
     "output_type": "stream",
     "text": [
      "Variable : Hello, World! , data type : <class 'str'>\n",
      "Variable : 42 , data type : <class 'int'>\n",
      "Variable : 3.14159 , data type : <class 'float'>\n",
      "Variable : True , data type : <class 'bool'>\n",
      "Variable : [1, 2, 3, 4, 5] , data type : <class 'list'>\n",
      "Variable : (1, 2, 3) , data type : <class 'tuple'>\n",
      "Variable : {'name': 'John', 'age': 25} , data type : <class 'dict'>\n"
     ]
    }
   ],
   "source": [
    "# Variable assignment\n",
    "name = \"Rachit\"\n",
    "age = 25\n",
    "is_student = True\n",
    "\n",
    "# Data types\n",
    "string_var = \"Hello, World!\"\n",
    "integer_var = 42\n",
    "float_var = 3.14159\n",
    "boolean_var = True\n",
    "list_var = [1, 2, 3, 4, 5]\n",
    "tuple_var = (1, 2, 3)\n",
    "dictionary_var = {\"name\": \"John\", \"age\": 25}\n",
    "\n",
    "print(f\"Variable : {string_var} , data type : {type(string_var)}\")\n",
    "print(f\"Variable : {integer_var} , data type : {type(integer_var)}\")\n",
    "print(f\"Variable : {float_var} , data type : {type(float_var)}\")\n",
    "print(f\"Variable : {boolean_var} , data type : {type(boolean_var)}\")\n",
    "print(f\"Variable : {list_var} , data type : {type(list_var)}\")\n",
    "print(f\"Variable : {tuple_var} , data type : {type(tuple_var)}\")\n",
    "print(f\"Variable : {dictionary_var} , data type : {type(dictionary_var)}\")"
   ]
  },
  {
   "cell_type": "markdown",
   "id": "7a2d1626",
   "metadata": {},
   "source": [
    "## Control Flow:"
   ]
  },
  {
   "cell_type": "markdown",
   "id": "03faa121",
   "metadata": {},
   "source": [
    "### if elif and else"
   ]
  },
  {
   "cell_type": "code",
   "execution_count": 2,
   "id": "f4c87178",
   "metadata": {},
   "outputs": [
    {
     "name": "stdout",
     "output_type": "stream",
     "text": [
      "Variable: 10, Type: Integer\n"
     ]
    }
   ],
   "source": [
    "var = 10\n",
    "\n",
    "if isinstance(var, int):\n",
    "    var_type = \"Integer\"\n",
    "elif isinstance(var, float):\n",
    "    var_type = \"Float\"\n",
    "elif isinstance(var, str):\n",
    "    var_type = \"String\"\n",
    "elif isinstance(var, bool):\n",
    "    var_type = \"Boolean\"\n",
    "else:\n",
    "    var_type = \"Unknown\"\n",
    "\n",
    "print(f\"Variable: {var}, Type: {var_type}\")"
   ]
  },
  {
   "cell_type": "markdown",
   "id": "7bfb9440",
   "metadata": {},
   "source": [
    "### for loop"
   ]
  },
  {
   "cell_type": "code",
   "execution_count": 3,
   "id": "50b75862",
   "metadata": {},
   "outputs": [
    {
     "name": "stdout",
     "output_type": "stream",
     "text": [
      "Enter the row number :5\n",
      "*\n",
      "**\n",
      "***\n",
      "****\n",
      "*****\n"
     ]
    }
   ],
   "source": [
    "# Nested loops to create a pattern\n",
    "rows = int(input(\"Enter the row number :\"))\n",
    "\n",
    "for i in range(rows):\n",
    "    for j in range(i + 1):\n",
    "        print(\"*\", end=\"\")\n",
    "    print()"
   ]
  },
  {
   "cell_type": "markdown",
   "id": "2e2ca761",
   "metadata": {},
   "source": [
    "## while loop"
   ]
  },
  {
   "cell_type": "code",
   "execution_count": 4,
   "id": "f895023c",
   "metadata": {},
   "outputs": [
    {
     "name": "stdout",
     "output_type": "stream",
     "text": [
      "Enter the password: Rachit\n",
      "Incorrect password. Try again.\n",
      "Enter the password: rachit\n",
      "Access granted!\n"
     ]
    }
   ],
   "source": [
    "# User input validation using a while loop\n",
    "password = \"rachit\"\n",
    "input_password = input(\"Enter the password: \")\n",
    "\n",
    "while input_password != password:\n",
    "    print(\"Incorrect password. Try again.\")\n",
    "    input_password = input(\"Enter the password: \")\n",
    "\n",
    "print(\"Access granted!\")"
   ]
  },
  {
   "cell_type": "markdown",
   "id": "f45b67e4",
   "metadata": {},
   "source": [
    "## Functions"
   ]
  },
  {
   "cell_type": "code",
   "execution_count": 5,
   "id": "ed07067d",
   "metadata": {},
   "outputs": [
    {
     "name": "stdout",
     "output_type": "stream",
     "text": [
      "Hello, Rachit!\n"
     ]
    }
   ],
   "source": [
    "# Function definition\n",
    "def greet(name):\n",
    "    print(\"Hello, \" + name + \"!\")\n",
    "\n",
    "# Function call\n",
    "greet(\"Rachit\")\n"
   ]
  },
  {
   "cell_type": "markdown",
   "id": "2757306c",
   "metadata": {},
   "source": [
    "## Decorators"
   ]
  },
  {
   "cell_type": "code",
   "execution_count": 6,
   "id": "75fafcf0",
   "metadata": {},
   "outputs": [
    {
     "name": "stdout",
     "output_type": "stream",
     "text": [
      "Access granted\n"
     ]
    }
   ],
   "source": [
    "# Authorization Decorator:\n",
    "def check_authorization(username, password):\n",
    "    name = \"Rachitmore\"\n",
    "    pwd = \"rachitmore\"\n",
    "    if username == name and password == pwd:\n",
    "        return True\n",
    "    else:\n",
    "        return False\n",
    "\n",
    "def authorization_decorator(func):\n",
    "    def wrapper(username, userpassword):\n",
    "        try:\n",
    "            if check_authorization(username, password):\n",
    "                return func(username, password)\n",
    "            else:\n",
    "                raise PermissionError(\"Unauthorized access\")\n",
    "        except Exception as e:\n",
    "            return e\n",
    "    return wrapper\n",
    "\n",
    "@authorization_decorator\n",
    "def protected_function(username, password):\n",
    "    print(\"Access granted\")\n",
    "\n",
    "name = \"Rachitmore\"\n",
    "password = \"rachitmore\" \n",
    "protected_function(name, password)"
   ]
  },
  {
   "cell_type": "markdown",
   "id": "228d3504",
   "metadata": {},
   "source": [
    "## Lists and List Manipulation"
   ]
  },
  {
   "cell_type": "code",
   "execution_count": 7,
   "id": "c04265fe",
   "metadata": {
    "scrolled": true
   },
   "outputs": [
    {
     "name": "stdout",
     "output_type": "stream",
     "text": [
      "Python\n",
      "['R language', 'MySql', 'Statistics', 'Machine Learning', 'Deep Learning']\n",
      "['R language', 'Statistics', 'Machine Learning', 'Deep Learning', 'Cloud']\n",
      "['Statistics', 'Machine Learning', 'Deep Learning']\n",
      "R language\n",
      "Statistics\n",
      "Machine Learning\n",
      "Deep Learning\n",
      "Cloud\n"
     ]
    }
   ],
   "source": [
    "# List creation\n",
    "data_science = [\"Python\", \"MySql\", \"Statistics\", \"Machine Learning\", \"Deep Learning\"]\n",
    "\n",
    "# Accessing elements\n",
    "print(data_science[0])  # Output: Python\n",
    "\n",
    "# Modifying elements\n",
    "data_science[0] = \"R language\"\n",
    "print(data_science)  # Output: [\"R language\", \"Statistics\", \"Machine Learning\", \"Deep Learning\"]\n",
    "\n",
    "# Appending and removing elements\n",
    "data_science.append(\"Cloud\")\n",
    "data_science.remove(\"MySql\")\n",
    "print(data_science)  # Output: ['R language', 'Statistics', 'Machine Learning', 'Deep Learning', 'Cloud Database']\n",
    "\n",
    "# Slicing a list\n",
    "print(data_science[1:4])  # Output: ['Statistics', 'Machine Learning', 'Deep Learning']\n",
    "\n",
    "# Iterating over a list\n",
    "for discipline in data_science:\n",
    "    print(discipline)\n"
   ]
  },
  {
   "cell_type": "markdown",
   "id": "353863e6",
   "metadata": {},
   "source": [
    "## Input and Output"
   ]
  },
  {
   "cell_type": "code",
   "execution_count": 8,
   "id": "713b3031",
   "metadata": {},
   "outputs": [
    {
     "name": "stdout",
     "output_type": "stream",
     "text": [
      "Enter your name: Rachit\n",
      "Hello, Rachit!\n",
      "Enter your age: 25\n",
      "Your age is 25\n"
     ]
    }
   ],
   "source": [
    "# Accepting user input\n",
    "name = input(\"Enter your name: \")\n",
    "print(\"Hello, \" + name + \"!\")\n",
    "\n",
    "# Displaying output\n",
    "age = int(input(\"Enter your age: \"))\n",
    "print(\"Your age is\", age)\n"
   ]
  },
  {
   "cell_type": "markdown",
   "id": "1c910cf5",
   "metadata": {},
   "source": [
    "## File Handling"
   ]
  },
  {
   "cell_type": "code",
   "execution_count": 9,
   "id": "da232113",
   "metadata": {},
   "outputs": [
    {
     "name": "stdout",
     "output_type": "stream",
     "text": [
      "Hello, World!\n",
      "['Name', 'Age', 'City']\n",
      "['John', '25', 'New York']\n",
      "['Alice', '32', 'London']\n",
      "['Bob', '28', 'Paris']\n",
      "{'name': 'John', 'age': 30, 'city': 'New York'}\n"
     ]
    }
   ],
   "source": [
    "import csv\n",
    "import json\n",
    "\n",
    "# Writing and Reading txt Files\n",
    "file = open(\"example.txt\", \"w\")\n",
    "file.write(\"Hello, World!\")\n",
    "file.close()\n",
    "\n",
    "file = open(\"example.txt\", \"r\")\n",
    "content = file.read()\n",
    "file.close()\n",
    "print(content)\n",
    "\n",
    "# Writing and Reading csv Files\n",
    "data = [\n",
    "    ['Name', 'Age', 'City'],\n",
    "    ['John', '25', 'New York'],\n",
    "    ['Alice', '32', 'London'],\n",
    "    ['Bob', '28', 'Paris']\n",
    "]\n",
    "\n",
    "with open('data.csv', 'w', newline='') as file:\n",
    "    csv_writer = csv.writer(file)\n",
    "    csv_writer.writerows(data)\n",
    "    file.close()\n",
    "\n",
    "with open('data.csv', 'r') as file:\n",
    "    csv_reader = csv.reader(file)\n",
    "    for row in csv_reader:\n",
    "        print(row)\n",
    "    file.close()\n",
    "\n",
    "# Writing and Reading JSON file\n",
    "data = {\n",
    "    'name': 'John',\n",
    "    'age': 30,\n",
    "    'city': 'New York'\n",
    "}\n",
    "\n",
    "with open('data.json', 'w') as file:\n",
    "    json.dump(data, file)\n",
    "    file.close()\n",
    "\n",
    "with open('data.json', 'r') as file:\n",
    "    data = json.load(file)\n",
    "    file.close()\n",
    "    print(data)"
   ]
  },
  {
   "cell_type": "markdown",
   "id": "c23cf588",
   "metadata": {},
   "source": [
    "## Exception Handling"
   ]
  },
  {
   "cell_type": "code",
   "execution_count": 10,
   "id": "dd00bb09",
   "metadata": {},
   "outputs": [
    {
     "name": "stdout",
     "output_type": "stream",
     "text": [
      "Enter a number: 0\n",
      "Error: Cannot divide by zero.\n"
     ]
    }
   ],
   "source": [
    "try:\n",
    "    num = int(input(\"Enter a number: \"))\n",
    "    result = 10 / num\n",
    "    print(\"Result:\", result)\n",
    "except ZeroDivisionError:\n",
    "    print(\"Error: Cannot divide by zero.\")\n",
    "except ValueError:\n",
    "    print(\"Error: Invalid input.\")\n"
   ]
  },
  {
   "cell_type": "markdown",
   "id": "a420705c",
   "metadata": {},
   "source": [
    "## Iterators"
   ]
  },
  {
   "cell_type": "code",
   "execution_count": 11,
   "id": "c88c18e6",
   "metadata": {},
   "outputs": [
    {
     "name": "stdout",
     "output_type": "stream",
     "text": [
      "0\n",
      "1\n",
      "2\n",
      "3\n",
      "4\n",
      "\n"
     ]
    }
   ],
   "source": [
    "# function definition\n",
    "class NumberIterator:\n",
    "    def __init__(self, limit):\n",
    "        self.limit = limit\n",
    "        self.current = 0\n",
    "\n",
    "    def __iter__(self):\n",
    "        return self\n",
    "\n",
    "    def __next__(self):\n",
    "        if self.current < self.limit:\n",
    "            number = self.current\n",
    "            self.current += 1\n",
    "            return number\n",
    "        else:\n",
    "            raise StopIteration\n",
    "\n",
    "# driver code\n",
    "# Using the custom iterator\n",
    "iterator = NumberIterator(5)\n",
    "for num in iterator:\n",
    "    print(num)\n",
    "print(\"\")"
   ]
  },
  {
   "cell_type": "markdown",
   "id": "9ea18079",
   "metadata": {},
   "source": [
    "## Generators"
   ]
  },
  {
   "cell_type": "code",
   "execution_count": 12,
   "id": "fe6dd030",
   "metadata": {},
   "outputs": [
    {
     "name": "stdout",
     "output_type": "stream",
     "text": [
      "0\n",
      "1\n",
      "1\n",
      "2\n",
      "3\n"
     ]
    }
   ],
   "source": [
    "# function definition\n",
    "def fibonacci_generator():\n",
    "    a, b = 0, 1\n",
    "    while True:\n",
    "        yield a\n",
    "        a, b = b, a + b\n",
    "\n",
    "# driver code\n",
    "# Using the generator\n",
    "fib_gen = fibonacci_generator()\n",
    "for _ in range(5):\n",
    "    print(next(fib_gen))\n"
   ]
  },
  {
   "cell_type": "markdown",
   "id": "9fcb6011",
   "metadata": {},
   "source": [
    "## Object-Oriented Programming (OOP)"
   ]
  },
  {
   "cell_type": "code",
   "execution_count": 13,
   "id": "9bfaf55e",
   "metadata": {},
   "outputs": [
    {
     "name": "stdout",
     "output_type": "stream",
     "text": [
      "Tata Motors\n",
      "Driving Tata Motors Nexon\n"
     ]
    }
   ],
   "source": [
    "# Class definition\n",
    "class Car:\n",
    "    def __init__(self, brand, model):\n",
    "        self.brand = brand\n",
    "        self.model = model\n",
    "\n",
    "    def drive(self):\n",
    "        print(\"Driving\", self.brand, self.model)\n",
    "\n",
    "# Object creation\n",
    "my_car = Car(\"Tata Motors\", \"Nexon\")\n",
    "\n",
    "# Accessing attributes\n",
    "print(my_car.brand)  # Output: Tata Motors\n",
    "\n",
    "# Calling methods\n",
    "my_car.drive()  # Output: Driving Tata Motors Nexon\n"
   ]
  },
  {
   "cell_type": "markdown",
   "id": "869f3acd",
   "metadata": {},
   "source": [
    "## Inheritance"
   ]
  },
  {
   "cell_type": "code",
   "execution_count": 14,
   "id": "6802d292",
   "metadata": {},
   "outputs": [
    {
     "name": "stdout",
     "output_type": "stream",
     "text": [
      "Animal is eating.\n",
      "Charlie is eating.\n",
      "Woof! Woof!\n",
      "Name : Charlie and Breed : Golden Retriever\n"
     ]
    }
   ],
   "source": [
    "# Parent class\n",
    "class Animal:\n",
    "    def __init__(self, name):\n",
    "        self.name = name\n",
    "\n",
    "    def eat(self):\n",
    "        print(f\"{self.name} is eating.\")\n",
    "\n",
    "\n",
    "# Child class inheriting from parent\n",
    "class Dog(Animal):\n",
    "    def __init__(self, name, breed):\n",
    "        # Calling the parent class constructor\n",
    "        super().__init__(name)\n",
    "        self.breed = breed\n",
    "\n",
    "    def bark(self):\n",
    "        print(\"Woof! Woof!\")\n",
    "    \n",
    "    def info(self):\n",
    "        print(f\"Name : {self.name} and Breed : {self.breed}\")\n",
    "\n",
    "\n",
    "# Creating objects\n",
    "animal = Animal(\"Animal\")\n",
    "dog = Dog(\"Charlie\", \"Golden Retriever\")\n",
    "\n",
    "# Accessing parent class methods\n",
    "animal.eat()\n",
    "\n",
    "# Accessing child class methods\n",
    "dog.eat()\n",
    "dog.bark()\n",
    "dog.info()"
   ]
  },
  {
   "cell_type": "markdown",
   "id": "5a5d3fd3",
   "metadata": {},
   "source": [
    "## Encapsulation"
   ]
  },
  {
   "cell_type": "code",
   "execution_count": 15,
   "id": "3020768f",
   "metadata": {},
   "outputs": [
    {
     "name": "stdout",
     "output_type": "stream",
     "text": [
      "Current balance: 100000\n",
      "Withdrew 20000. New balance: 80000\n",
      "Deposited 50000. New balance: 130000\n"
     ]
    }
   ],
   "source": [
    "class BankAccount:\n",
    "    def __init__(self, account_number, balance = 100000):\n",
    "        self._account_number = account_number\n",
    "        self._balance = balance\n",
    "\n",
    "    def deposit(self, amount):\n",
    "        if amount > 0:\n",
    "            self._balance += amount\n",
    "            print(f\"Deposited {amount}. New balance: {self._balance}\")\n",
    "\n",
    "    def withdraw(self, amount):\n",
    "        if amount > 0 and amount <= self._balance:\n",
    "            self._balance -= amount\n",
    "            print(f\"Withdrew {amount}. New balance: {self._balance}\")\n",
    "        else:\n",
    "            print(\"Insufficient funds.\")\n",
    "\n",
    "    def get_balance(self):\n",
    "        return self._balance\n",
    "\n",
    "\n",
    "# Creating an instance of the BankAccount class\n",
    "account = BankAccount(\"1234567890\")\n",
    "\n",
    "# Accessing methods with encapsulated attributes\n",
    "balance = account.get_balance()\n",
    "print(\"Current balance:\", balance)\n",
    "account.withdraw(20000)\n",
    "account.deposit(50000)\n"
   ]
  },
  {
   "cell_type": "markdown",
   "id": "8088376b",
   "metadata": {},
   "source": [
    "## Polymorphism"
   ]
  },
  {
   "cell_type": "code",
   "execution_count": 16,
   "id": "68cb52a9",
   "metadata": {},
   "outputs": [
    {
     "name": "stdout",
     "output_type": "stream",
     "text": [
      "Area of the circle: 78.5\n",
      "Area of the rectangle: 24\n"
     ]
    }
   ],
   "source": [
    "class Shape:\n",
    "    def area(self):\n",
    "        pass\n",
    "\n",
    "class Circle(Shape):\n",
    "    def __init__(self, radius):\n",
    "        self.radius = radius\n",
    "\n",
    "    def area(self):\n",
    "        return 3.14 * self.radius ** 2\n",
    "\n",
    "\n",
    "class Rectangle(Shape):\n",
    "    def __init__(self, width, height):\n",
    "        self.width = width\n",
    "        self.height = height\n",
    "\n",
    "    def area(self):\n",
    "        return self.width * self.height\n",
    "\n",
    "\n",
    "# Create instances of different shapes\n",
    "circle = Circle(5)\n",
    "rectangle = Rectangle(4, 6)\n",
    "\n",
    "# Call the area method on different shapes\n",
    "print(\"Area of the circle:\", circle.area())\n",
    "print(\"Area of the rectangle:\", rectangle.area())\n"
   ]
  },
  {
   "cell_type": "markdown",
   "id": "ceedef87",
   "metadata": {},
   "source": [
    "## Abstraction"
   ]
  },
  {
   "cell_type": "code",
   "execution_count": 17,
   "id": "86e68c47",
   "metadata": {},
   "outputs": [
    {
     "name": "stdout",
     "output_type": "stream",
     "text": [
      "Area of the circle: 78.5\n",
      "Area of the rectangle: 24\n"
     ]
    }
   ],
   "source": [
    "from abc import ABC, abstractmethod\n",
    "\n",
    "# Abstract parent class\n",
    "class Shape(ABC):\n",
    "    @abstractmethod\n",
    "    def area(self):\n",
    "        pass\n",
    "\n",
    "# Concrete classes implementing Shape\n",
    "class Circle(Shape):\n",
    "    def __init__(self, radius):\n",
    "        self.radius = radius\n",
    "\n",
    "    def area(self):\n",
    "        return 3.14 * self.radius ** 2\n",
    "\n",
    "class Rectangle(Shape):\n",
    "    def __init__(self, width, height):\n",
    "        self.width = width\n",
    "        self.height = height\n",
    "\n",
    "    def area(self):\n",
    "        return self.width * self.height\n",
    "\n",
    "# Create instances of different shapes\n",
    "circle = Circle(5)\n",
    "rectangle = Rectangle(4, 6)\n",
    "\n",
    "# Call the area method on different shapes\n",
    "print(\"Area of the circle:\", circle.area())\n",
    "print(\"Area of the rectangle:\", rectangle.area())\n"
   ]
  },
  {
   "cell_type": "markdown",
   "id": "fc1c3229",
   "metadata": {},
   "source": [
    "## Modules and Packages"
   ]
  },
  {
   "cell_type": "code",
   "execution_count": 18,
   "id": "e88688d7",
   "metadata": {},
   "outputs": [
    {
     "name": "stdout",
     "output_type": "stream",
     "text": [
      "4.0\n",
      "['__builtins__', '__cached__', '__doc__', '__file__', '__loader__', '__name__', '__package__', '__spec__', 'greet']\n",
      "Hello Rachit\n"
     ]
    }
   ],
   "source": [
    "# Importing modules\n",
    "import math\n",
    "\n",
    "print(math.sqrt(16))  # Output: 4.0\n",
    "\n",
    "import mymodule\n",
    "print(dir(mymodule))\n",
    "\n",
    "mymodule.greet(\"Rachit\")  # Output: Hello, John!\n"
   ]
  },
  {
   "cell_type": "markdown",
   "id": "224be91b",
   "metadata": {},
   "source": [
    "## Working with Databases"
   ]
  },
  {
   "cell_type": "code",
   "execution_count": 21,
   "id": "09adf4d6",
   "metadata": {},
   "outputs": [
    {
     "name": "stdout",
     "output_type": "stream",
     "text": [
      "('Rachit', 25)\n",
      "('Rachit', 25)\n",
      "('Rachit', 25)\n",
      "('Rachit', 25)\n",
      "('Rachit', 25)\n"
     ]
    }
   ],
   "source": [
    "# SQLite example\n",
    "import sqlite3\n",
    "\n",
    "# Connecting to a database\n",
    "conn = sqlite3.connect(\"mydb.db\")\n",
    "\n",
    "# Creating a cursor object\n",
    "cursor = conn.cursor()\n",
    "\n",
    "# Executing SQL queries\n",
    "cursor.execute(\"CREATE TABLE IF NOT EXISTS students (name TEXT, age INTEGER)\")\n",
    "\n",
    "# Inserting data\n",
    "cursor.execute(\"INSERT INTO students VALUES (?, ?)\", (\"Rachit\", 25))\n",
    "cursor.execute(\"INSERT INTO students VALUES (?, ?)\", (\"Ankur\", 25))\n",
    "cursor.execute(\"INSERT INTO students VALUES (?, ?)\", (\"Jonny\", 26))\n",
    "cursor.execute(\"INSERT INTO students VALUES (?, ?)\", (\"Rahul\", 26))\n",
    "cursor.execute(\"INSERT INTO students VALUES (?, ?)\", (\"Priya\", 23))\n",
    "\n",
    "# Executing SQL queries\n",
    "cursor.execute(\"Select * from students\")\n",
    "\n",
    "for i in cursor1:\n",
    "    print(i)\n",
    "    \n",
    "# Committing the changes\n",
    "conn1.commit()\n",
    "\n",
    "# Closing the connection\n",
    "conn1.close()"
   ]
  },
  {
   "cell_type": "markdown",
   "id": "0378cab0",
   "metadata": {},
   "source": [
    "## Regular Expressions"
   ]
  },
  {
   "cell_type": "code",
   "execution_count": 22,
   "id": "ad06cd79",
   "metadata": {},
   "outputs": [
    {
     "name": "stdout",
     "output_type": "stream",
     "text": [
      "Valid details \n",
      "\n",
      "Rachit More is valid.\n",
      "rachitmore3@gmail.com is valid.\n",
      "123-456-7890 phone numbers found: ['123-456-7890']\n",
      "https://www.examples.ai is valid.\n",
      "07/05/2023 Valid:\n",
      "\n",
      "Invalid details \n",
      "\n",
      "Rachit@More is invalid.\n",
      "rachitmore@gmailis invalid.\n",
      "No phone numbers found or invalid phone number.\n",
      "www.example is invalid.\n",
      "No dates invalid.\n"
     ]
    }
   ],
   "source": [
    "import re\n",
    "class Validate:\n",
    "    def __init__(self, username, email, phone, url, date):\n",
    "        self.username = username\n",
    "        self.email = email\n",
    "        self.phone = phone\n",
    "        self.url = url\n",
    "        self.date = date\n",
    "        self.data_validate()\n",
    "        \n",
    "    # Validating email addresses\n",
    "    def validate_email(self):\n",
    "        pattern = r\"^[a-zA-Z0-9_.+-]+@[a-zA-Z0-9-]+\\.[a-zA-Z0-9-.]+$\"\n",
    "        result = re.match(pattern, self.email)\n",
    "        if result:\n",
    "            print(f\"{self.email} is valid.\")\n",
    "        else:\n",
    "            print(f\"{self.email}is invalid.\")\n",
    "\n",
    "    # Extracting phone numbers\n",
    "    def validate_phone_numbers(self):\n",
    "        pattern = r\"\\d{3}-\\d{3}-\\d{4}\"\n",
    "        result = re.findall(pattern, self.phone)\n",
    "        if result:\n",
    "            print(f\"{self.phone} phone numbers found:\", result)\n",
    "        else:\n",
    "            print(\"No phone numbers found or invalid phone number.\")\n",
    "\n",
    "    # Data validation\n",
    "    def validate_username(self):\n",
    "        pattern = r\"^[a-zA-Z0-9_ ]+$\"\n",
    "        result = re.match(pattern, self.username)\n",
    "        if result:\n",
    "            print(f\"{self.username} is valid.\")\n",
    "        else:\n",
    "            print(f\"{self.username} is invalid.\")\n",
    "\n",
    "    # Validating URLs\n",
    "    def validate_url(self):\n",
    "        pattern = r\"^http(s)?://\"\n",
    "        result = re.match(pattern, self.url)\n",
    "        if result:\n",
    "            print(f\"{self.url} is valid.\")\n",
    "        else:\n",
    "            print(f\"{self.url} is invalid.\")\n",
    "\n",
    "    # Data extraction\n",
    "    def validate_dates(self):\n",
    "        pattern = r\"\\d{1,2}[/-]\\d{1,2}[/-]\\d{2,4}\"\n",
    "        result = re.findall(pattern, self.date)\n",
    "        if result:\n",
    "            print(f\"{self.date} Valid:\")\n",
    "        else:\n",
    "            print(f\"{self.date} invalid.\")\n",
    "    \n",
    "    # Data extraction\n",
    "    def data_validate(self):\n",
    "        self.validate_username()\n",
    "        self.validate_email()\n",
    "        self.validate_phone_numbers()\n",
    "        self.validate_url()\n",
    "        self.validate_dates()\n",
    "        \n",
    "print(\"Valid details \\n\")\n",
    "obj1 = Validate(\"Rachit More\",\"rachitmore3@gmail.com\",\"123-456-7890\",\"https://www.examples.ai\",\"07/05/2023\")\n",
    "print(\"\\nInvalid details \\n\")\n",
    "obj2 = Validate(\"Rachit@More\",\"rachitmore@gmail\",\"qwerty\",\"www.example\",\"No dates\")\n"
   ]
  },
  {
   "cell_type": "code",
   "execution_count": null,
   "id": "e16887e2",
   "metadata": {},
   "outputs": [],
   "source": []
  }
 ],
 "metadata": {
  "kernelspec": {
   "display_name": "Python 3 (ipykernel)",
   "language": "python",
   "name": "python3"
  },
  "language_info": {
   "codemirror_mode": {
    "name": "ipython",
    "version": 3
   },
   "file_extension": ".py",
   "mimetype": "text/x-python",
   "name": "python",
   "nbconvert_exporter": "python",
   "pygments_lexer": "ipython3",
   "version": "3.9.16"
  }
 },
 "nbformat": 4,
 "nbformat_minor": 5
}
